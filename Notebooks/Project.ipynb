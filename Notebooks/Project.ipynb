{
 "cells": [
  {
   "cell_type": "markdown",
   "id": "92381477",
   "metadata": {},
   "source": [
    "<center>\n",
    "<h1 style=\"color: pink;\">Welcome to Publish Mate 😊</h1>\n",
    "</center>"
   ]
  },
  {
   "cell_type": "markdown",
   "id": "6c54e823",
   "metadata": {},
   "source": [
    "## `00` Download Dependencies"
   ]
  },
  {
   "cell_type": "code",
   "execution_count": 20,
   "id": "920394f5",
   "metadata": {},
   "outputs": [],
   "source": [
    "# !pip3 install -U \"crewai[tools,agentops]\""
   ]
  },
  {
   "cell_type": "code",
   "execution_count": 21,
   "id": "5c22d156",
   "metadata": {},
   "outputs": [],
   "source": [
    "# !pip3 install python-dotenv\n",
    "# !pip3 install gcloud\n",
    "# !pip3 install google-genai"
   ]
  },
  {
   "cell_type": "markdown",
   "id": "df34b606",
   "metadata": {},
   "source": [
    "## `01` Import Libraries"
   ]
  },
  {
   "cell_type": "code",
   "execution_count": 22,
   "id": "f019b3bb",
   "metadata": {},
   "outputs": [],
   "source": [
    "from dotenv import load_dotenv\n",
    "import os\n",
    "import google.generativeai as genai"
   ]
  },
  {
   "cell_type": "code",
   "execution_count": null,
   "id": "f80e8137",
   "metadata": {},
   "outputs": [],
   "source": [
    "from crewai import Agent, Task, Crew, Process, LLM\n",
    "from crewai.tools import tool\n",
    "from crewai.knowledge.source.string_knowledge_source import StringKnowledgeSource\n",
    "from crewai.llms.base_llm import BaseLLM\n",
    "\n",
    "from pydantic import BaseModel, Field, HttpUrl\n",
    "from typing import List, Dict\n",
    "\n",
    "import agentops\n",
    "import json\n",
    "import gcloud\n",
    "import google.generativeai as genai\n",
    "from dotenv import load_dotenv\n",
    "from vertexai.preview.generative_models import Content, Part\n",
    "\n",
    "from tavily import TavilyClient\n",
    "from crewai.tools import tool\n"
   ]
  },
  {
   "cell_type": "markdown",
   "id": "aa5052a2",
   "metadata": {},
   "source": [
    "## `02` load api key"
   ]
  },
  {
   "cell_type": "code",
   "execution_count": 24,
   "id": "a8f68d5d",
   "metadata": {},
   "outputs": [
    {
     "data": {
      "text/plain": [
       "True"
      ]
     },
     "execution_count": 24,
     "metadata": {},
     "output_type": "execute_result"
    }
   ],
   "source": [
    "load_dotenv()  # Load from .env"
   ]
  },
  {
   "cell_type": "code",
   "execution_count": 25,
   "id": "5b060e4a",
   "metadata": {},
   "outputs": [],
   "source": [
    "AGENTOPS_API_KEY = os.getenv(\"AGENTOPS_API_KEY\") # replace by yours"
   ]
  },
  {
   "cell_type": "code",
   "execution_count": 44,
   "id": "54b0bd3f",
   "metadata": {},
   "outputs": [],
   "source": [
    "OPENAI_API_KEY = os.getenv(\"OPENAI_API_KEY\")\n",
    "GEMINI_API_KEY = os.getenv(\"GEMINI_API_KEY\")\n",
    "PROJECT_ID = os.getenv(\"PROJECT_ID\")\n",
    "PROJECT_NAME = os.getenv(\"PROJECT_NAME\")\n",
    "\n",
    "TAVILY_API_KEY = os.getenv(\"TAVILY_API_KEY\")\n",
    "\n",
    "genai.configure(api_key=OPENAI_API_KEY)"
   ]
  },
  {
   "cell_type": "code",
   "execution_count": null,
   "id": "3a7c887c",
   "metadata": {},
   "outputs": [],
   "source": []
  },
  {
   "cell_type": "markdown",
   "id": "af609c4c",
   "metadata": {},
   "source": [
    "## `03` Start AgentOps session"
   ]
  },
  {
   "cell_type": "code",
   "execution_count": 27,
   "id": "d1fea026",
   "metadata": {},
   "outputs": [
    {
     "data": {
      "text/plain": [
       "<agentops.legacy.Session at 0x7a568d42e3b0>"
      ]
     },
     "execution_count": 27,
     "metadata": {},
     "output_type": "execute_result"
    }
   ],
   "source": [
    "agentops.init(api_key=AGENTOPS_API_KEY,\n",
    "               skip_auto_end_session=True, # Set to True to skip auto ending the session\n",
    "               ) "
   ]
  },
  {
   "cell_type": "markdown",
   "id": "23759094",
   "metadata": {},
   "source": [
    "The link will help us to monitor our agents"
   ]
  },
  {
   "cell_type": "markdown",
   "id": "85830ad2",
   "metadata": {},
   "source": [
    "### Make sure it works"
   ]
  },
  {
   "cell_type": "code",
   "execution_count": 28,
   "id": "77cb14b3",
   "metadata": {},
   "outputs": [],
   "source": [
    "# print(\"AgentOps session initialized.\")\n",
    "# print(agentops.session)  # optional, shows session info if available\n",
    "# print(agentops.__dict__)"
   ]
  },
  {
   "cell_type": "code",
   "execution_count": null,
   "id": "108edb31",
   "metadata": {},
   "outputs": [],
   "source": []
  },
  {
   "cell_type": "markdown",
   "id": "3d9a851f",
   "metadata": {},
   "source": [
    "## `04` Intro of the Crew"
   ]
  },
  {
   "cell_type": "code",
   "execution_count": 29,
   "id": "30fbf056",
   "metadata": {},
   "outputs": [
    {
     "name": "stdout",
     "output_type": "stream",
     "text": [
      "Welcome to PublishMate! I am your research assistant mate here to help you with your academic paper journey.\n",
      "I will guide you step-by-step to find trending topics, recent papers, summaries, research gaps, and help with paper writing. \n",
      "Let's get started!\n",
      "\n"
     ]
    }
   ],
   "source": [
    "intro_prompt = (\n",
    "    \"Welcome to PublishMate! I am your research assistant mate here to help you with your academic paper journey.\\n\"\n",
    "    \"I will guide you step-by-step to find trending topics, recent papers, summaries, \"\n",
    "    \"research gaps, and help with paper writing. \\nLet's get started!\\n\"\n",
    ")\n",
    "\n",
    "def welcome_message():\n",
    "    print(intro_prompt)\n",
    "\n",
    "# Run this at the very beginning\n",
    "welcome_message()"
   ]
  },
  {
   "cell_type": "markdown",
   "id": "10952041",
   "metadata": {},
   "source": [
    "## `05` Set Output dir"
   ]
  },
  {
   "cell_type": "code",
   "execution_count": 30,
   "id": "e9e08ec3",
   "metadata": {},
   "outputs": [],
   "source": [
    "output_dir = './PublishMate_agent_ouput'\n",
    "os.makedirs(output_dir, exist_ok=True)"
   ]
  },
  {
   "cell_type": "markdown",
   "id": "4c4da468",
   "metadata": {},
   "source": [
    "## `06` LLM will be used"
   ]
  },
  {
   "cell_type": "code",
   "execution_count": 31,
   "id": "dcadaeb7",
   "metadata": {},
   "outputs": [],
   "source": [
    "basic_llm = LLM(\n",
    "    model=\"gemini/gemini-1.5-flash\",\n",
    "    temperature=0.2,\n",
    "    provider=\"google_ai_studio\",\n",
    "    api_key=os.environ[\"GEMINI_API_KEY\"]\n",
    ")"
   ]
  },
  {
   "cell_type": "markdown",
   "id": "6e520829",
   "metadata": {},
   "source": [
    "## `07` START AGENTS"
   ]
  },
  {
   "cell_type": "markdown",
   "id": "46193487",
   "metadata": {},
   "source": [
    "### `7.1` Agent 1: Trending Topics Agent "
   ]
  },
  {
   "cell_type": "code",
   "execution_count": 32,
   "id": "84e2665c",
   "metadata": {},
   "outputs": [],
   "source": [
    "# !gcloud init"
   ]
  },
  {
   "cell_type": "code",
   "execution_count": 33,
   "id": "221034b3",
   "metadata": {},
   "outputs": [],
   "source": [
    "user_input = input(\"Enter your research field or keyword: \")"
   ]
  },
  {
   "cell_type": "code",
   "execution_count": 34,
   "id": "157f9964",
   "metadata": {},
   "outputs": [
    {
     "name": "stderr",
     "output_type": "stream",
     "text": [
      "/home/israa/Desktop/PublishMate_CrewAgents/myenv/lib/python3.10/site-packages/pydantic/fields.py:1058: PydanticDeprecatedSince20: `min_items` is deprecated and will be removed, use `min_length` instead. Deprecated in Pydantic V2.0 to be removed in V3.0. See Pydantic V2 Migration Guide at https://errors.pydantic.dev/2.11/migration/\n",
      "  warn('`min_items` is deprecated and will be removed, use `min_length` instead', DeprecationWarning)\n"
     ]
    }
   ],
   "source": [
    "class TrendingTopicsOutput(BaseModel):\n",
    "    topics: List[Dict[str, str]] = Field(..., title=\"Trending topics with description\", min_items=1)\n",
    "\n",
    "trending_topics_agent = Agent(\n",
    "    role=\"Trending Topics Identification Agent\",\n",
    "\n",
    "    goal=\"\\n\".join([\n",
    "        f\"You are an expert research assistant that identifies the latest trending topics in the field of {user_input} only focus on it .\",\n",
    "        \"Generate a detailed list of the top 3-5 trending topics or recent articles reflecting advances and high interest in this field.\",\n",
    "        \"Base your answer on recent publication trends, conferences, or journal articles.\",\n",
    "        \"Do not include unrelated or general topics.\",\n",
    "        \"Output only a JSON object with a 'topics' list containing objects with 'name' and 'description'.\"\n",
    "    ]),\n",
    "    backstory=\"Designed to guide users by providing the most relevant and current trending research topics in their specified field.\",\n",
    "    llm=basic_llm,\n",
    "    verbose=True,\n",
    ")\n",
    "\n",
    "trending_topics_task = Task(\n",
    "    description=\"\\n\".join([\n",
    "        f\"you are an expert in a {user_input} field to help beginner researchers in their writings .\",\n",
    "        \"Provide a list of 3 to 5 trending topics or articals with a brief description for each.\",\n",
    "        \"Focus on recent research interests supported by publication trends.\",\n",
    "        \"Output in JSON format with 'topics' as list of objects {name, description}.\"\n",
    "    ]),\n",
    "    expected_output=\"JSON object with list of trending topics and descriptions.\",\n",
    "    output_json=TrendingTopicsOutput,\n",
    "    output_file=os.path.join(output_dir, \"step_1_trending_topics.json\"),\n",
    "    agent=trending_topics_agent,\n",
    ")"
   ]
  },
  {
   "cell_type": "code",
   "execution_count": null,
   "id": "7fa76a73",
   "metadata": {},
   "outputs": [],
   "source": []
  },
  {
   "cell_type": "markdown",
   "id": "64abc55a",
   "metadata": {},
   "source": [
    "### `7.2` Agent 2: Recent Papers Retrieval Agent"
   ]
  },
  {
   "cell_type": "code",
   "execution_count": 48,
   "id": "431507a0",
   "metadata": {},
   "outputs": [],
   "source": [
    "# Tavily client\n",
    "tavily_client = TavilyClient(api_key=TAVILY_API_KEY)\n",
    "\n",
    "# Tool definition\n",
    "@tool\n",
    "def tavily_paper_search(query: str):\n",
    "    \"\"\"Search for recent research papers using Tavily API.\"\"\"\n",
    "    response = tavily_client.search(\n",
    "        query=f\"{query} site:arxiv.org OR site:ieee.org\", max_results=5\n",
    "    )\n",
    "    return [\n",
    "        {\n",
    "            \"title\": r.get(\"title\"),\n",
    "            \"url\": r.get(\"url\"),\n",
    "            \"abstract\": r.get(\"snippet\", \"\"),\n",
    "            \"score\": 1.0,\n",
    "            \"search_query\": query\n",
    "        }\n",
    "        for r in response.get(\"results\", [])\n",
    "    ]\n"
   ]
  },
  {
   "cell_type": "code",
   "execution_count": 49,
   "id": "cc7240fd",
   "metadata": {},
   "outputs": [],
   "source": [
    "class PaperInfo(BaseModel):\n",
    "    title: str \n",
    "    authors: str                           # Must be a list of names\n",
    "    abstract: str                                   \n",
    "    year: int # = Field(..., ge=2023)               # Year must be 2023 or later\n",
    "    url: str \n",
    "\n",
    "class RecentPapersOutput(BaseModel):\n",
    "    topic_papers: Dict[str, List[PaperInfo]] = Field(..., title=\"Recent papers grouped by topic\")\n",
    "\n",
    "recent_papers_agent = Agent(\n",
    "    role=\"Recent Papers Retrieval Agent\",\n",
    "\n",
    "    goal = \"\\n\".join([\n",
    "        \"You are a research paper search assistant.\",\n",
    "        \"Given a list of trending topics, retrieve 3 recent, relevant publications per topic.\",\n",
    "        \"Select papers from reputable sources published within the last 2 years.(2023 or 2024 or 2025)\",\n",
    "        \"Provide title, authors, abstract, year, and valid URL for each paper.\",\n",
    "        \"the URL must be valid and accessible.\",\n",
    "        \"If no recent paper is available, state 'No recent papers found' for that topic.\",\n",
    "        \"Output in JSON format grouped by topic.\"]),\n",
    "\n",
    "    backstory=\"Helps beginner researchers quickly discover and review the latest relevant publications across the trending topics with the URLs that are valid and some info.\",\n",
    "\n",
    "    llm=basic_llm,\n",
    "    \n",
    "    verbose=True,\n",
    ")\n",
    "\n",
    "recent_papers_task = Task(\n",
    "    description=\"\\n\".join([\n",
    "        \"Input is a list of trending topics.\",\n",
    "        \"For each topic, find 3 papers with title, authors, abstract, year, and link which should be valid and accessable.\",\n",
    "        \"Select papers from reputable journals or conferences (IEEE, Springer, Elsevier, ICRA, IROS, actual arXiv).\",\n",
    "        \"Only include papers published in 2023 or 2024 or 2025.\",\n",
    "        \"Focus on papers from last 2 years from reputable conferences or journals.\",\n",
    "        \"If no recent paper is available, state 'No recent papers found' for that topic.\",\n",
    "        \"Output JSON grouped by topic.\"\n",
    "    ]),\n",
    "    expected_output=\"JSON with topics as keys and list of paper info objects as values.\",\n",
    "    output_json=RecentPapersOutput,\n",
    "    output_file=os.path.join(output_dir, \"step_2_recent_papers.json\"),\n",
    "    agent=recent_papers_agent,\n",
    "    tools=[tavily_paper_search],\n",
    ")\n"
   ]
  },
  {
   "cell_type": "markdown",
   "id": "47e3a75b",
   "metadata": {},
   "source": [
    "### `7.3` Agent 3: Paper Summarization Agent"
   ]
  },
  {
   "cell_type": "code",
   "execution_count": null,
   "id": "1097217e",
   "metadata": {},
   "outputs": [],
   "source": [
    "class PaperSummariesOutput(BaseModel):\n",
    "    summaries: Dict[str, str] = Field(\n",
    "        ..., \n",
    "        title=\"Paper title mapped to its summary\", \n",
    "        description=\"Each item has 'title' and 'summary'.\"\n",
    "    )\n",
    "\n",
    "paper_summarization_agent = Agent(\n",
    "    role=\"Academic Paper Summarization Agent\",\n",
    "    goal=\"\\n\".join([\n",
    "        \"Summarize each research paper into a detailed 120-150 word paragraph.\",\n",
    "        \"Mention the full paper title before the summary.\",\n",
    "        \"Focus on: main research problem, methodology, key findings, unique contributions.\",\n",
    "        \"Highlight any datasets, models, or diagrams used (in the paper).\",\n",
    "        \"Avoid generic descriptions. Be specific about what the paper achieves.\"\n",
    "    ]),\n",
    "    backstory=\"Provides clear and informative summaries to help users understand research papers quickly even if they are beginners.\",\n",
    "    llm=basic_llm,\n",
    "    verbose=True,\n",
    ")\n",
    "\n",
    "paper_summarization_task = Task(\n",
    "    description=\"\\n\".join([\n",
    "        \"Input is a list of papers with metadata and abstracts.\",\n",
    "        \"Produce a summary for each paper highlighting key points and visuals if any.\",\n",
    "        \"Output JSON mapping paper titles to summaries.\"\n",
    "    ]),\n",
    "    expected_output=\"JSON object mapping paper titles to summaries.\",\n",
    "    output_json=PaperSummariesOutput,\n",
    "    output_file=os.path.join(output_dir, \"step_3_paper_summaries.json\"),\n",
    "    agent=paper_summarization_agent,\n",
    ")\n"
   ]
  },
  {
   "cell_type": "code",
   "execution_count": null,
   "id": "a2e75dfb",
   "metadata": {},
   "outputs": [],
   "source": []
  },
  {
   "cell_type": "markdown",
   "id": "cdbfa0ed",
   "metadata": {},
   "source": [
    "### `7.4` Agent 4: Research Gap and Suggestion Agent"
   ]
  },
  {
   "cell_type": "code",
   "execution_count": null,
   "id": "0860b923",
   "metadata": {},
   "outputs": [],
   "source": [
    "class ResearchGapOutput(BaseModel):\n",
    "    research_gaps: List[str] = Field(..., title=\"List of research gaps and suggestions\")\n",
    "\n",
    "research_gap_agent = Agent(\n",
    "    role=\"Research Gap Identification and Suggestion Agent\",\n",
    "    goal=\"\\n\".join([\n",
    "        \"Analyze summaries to identify gaps, limitations, and propose research directions or improvements.\",\n",
    "        \"Use a friendly and encouraging tone suitable for beginners.\"\n",
    "    ]),\n",
    "    backstory=\"Helps users find novel contributions by highlighting unexplored areas and providing ideas.\",\n",
    "    llm=basic_llm,\n",
    "    verbose=True,\n",
    ")\n",
    "\n",
    "research_gap_task = Task(\n",
    "    description=\"\\n\".join([\n",
    "        \"Input is paper summaries.\",\n",
    "        \"Output a list of research gaps, limitations, and suggestions for future research.\",\n",
    "        \"Encourage beginners by providing feasible ideas.\"\n",
    "    ]),\n",
    "    expected_output=\"JSON list of research gaps and improvement suggestions.\",\n",
    "    output_json=ResearchGapOutput,\n",
    "    output_file=os.path.join(output_dir, \"step_4_research_gaps.json\"),\n",
    "    agent=research_gap_agent,\n",
    ")"
   ]
  },
  {
   "cell_type": "code",
   "execution_count": null,
   "id": "6e82f814",
   "metadata": {},
   "outputs": [],
   "source": []
  },
  {
   "cell_type": "markdown",
   "id": "d7dd9d37",
   "metadata": {},
   "source": [
    "### `7.5` Agent 5: Paper Structure and Writing Guide Agent"
   ]
  },
  {
   "cell_type": "code",
   "execution_count": null,
   "id": "401dc5af",
   "metadata": {},
   "outputs": [],
   "source": [
    "class PaperStructureSection(BaseModel):\n",
    "    section: str\n",
    "    tips: str\n",
    "\n",
    "class PaperStructureOutput(BaseModel):\n",
    "    paper_structure: List[PaperStructureSection] = Field(..., title=\"Paper structure sections and writing tips\")\n",
    "\n",
    "paper_structure_agent = Agent(\n",
    "    role=\"Paper Structure and Writing Guide Agent\",\n",
    "    goal=\"\\n\".join([\n",
    "        \"Provide a clear outline for structuring an academic paper.\",\n",
    "        \"Give detailed tips on what to write in each section to help beginners.\",\n",
    "        \"Include motivational and supportive writing advice.\"\n",
    "    ]),\n",
    "    backstory=\"Guides users through the paper writing process with a beginner-friendly approach.\",\n",
    "    llm=basic_llm,\n",
    "    verbose=True,\n",
    ")\n",
    "\n",
    "paper_structure_task = Task(\n",
    "    description=\"\\n\".join([\n",
    "        \"Input is the chosen research topic.\",\n",
    "        \"Output a recommended paper structure with sections and detailed writing tips for each.\",\n",
    "        \"Help beginners understand what content belongs in each part of the paper.\"\n",
    "    ]),\n",
    "    expected_output=\"JSON list of sections with writing tips.\",\n",
    "    output_json=PaperStructureOutput,\n",
    "    output_file=os.path.join(output_dir, \"step_5_paper_structure.json\"),\n",
    "    agent=paper_structure_agent,\n",
    ")\n"
   ]
  },
  {
   "cell_type": "code",
   "execution_count": null,
   "id": "ae86dcd4",
   "metadata": {},
   "outputs": [],
   "source": []
  },
  {
   "cell_type": "markdown",
   "id": "a1991999",
   "metadata": {},
   "source": [
    "### `7.6` Agent 6: Related work draft Agent"
   ]
  },
  {
   "cell_type": "code",
   "execution_count": null,
   "id": "8ab794cc",
   "metadata": {},
   "outputs": [],
   "source": [
    "class RelatedWorkOutput(BaseModel):\n",
    "    related_work: str = Field(..., title=\"Composed related work section\")\n",
    "\n",
    "related_work_agent = Agent(\n",
    "    role=\"Related Work Composer Agent\",\n",
    "    goal=\"\\n\".join([\n",
    "        \"Compose a comprehensive 'Related Work' section using the paper summaries.\",\n",
    "        \"Organize by themes or trends, and mention each paper's key contributions.\",\n",
    "        \"Maintain academic tone and proper citation-like references (e.g., 'Smith et al. 2023').\"\n",
    "    ]),\n",
    "    backstory=\"Helps users create strong literature review content automatically.\",\n",
    "    llm=basic_llm,\n",
    "    verbose=True,\n",
    ")\n",
    "\n",
    "related_work_task = Task(\n",
    "    description=\"\\n\".join([\n",
    "        \"Input is the list of paper summaries.\",\n",
    "        \"Group papers by similarity and write a flowing Related Work section.\",\n",
    "        \"Ensure good transitions, academic tone, and clear references.\",\n",
    "        \"Output as a single string.\"\n",
    "    ]),\n",
    "    expected_output=\"Single string of the Related Work section.\",\n",
    "    output_json=RelatedWorkOutput,\n",
    "    output_file=os.path.join(output_dir, \"step_6_related_work.json\"),\n",
    "    agent=related_work_agent,\n",
    ")\n"
   ]
  },
  {
   "cell_type": "code",
   "execution_count": null,
   "id": "6cb132bd",
   "metadata": {},
   "outputs": [],
   "source": []
  },
  {
   "cell_type": "markdown",
   "id": "f004c2b4",
   "metadata": {},
   "source": [
    "### `7.7` Agent 7: Paper draft Agent"
   ]
  },
  {
   "cell_type": "code",
   "execution_count": null,
   "id": "e08e54a4",
   "metadata": {},
   "outputs": [],
   "source": [
    "class DraftOutput(BaseModel):\n",
    "    draft: str = Field(..., title=\"Full academic paper draft text\")\n",
    "\n",
    "draft_writer_agent = Agent(\n",
    "    role=\"Academic Paper Drafting Agent\",\n",
    "    goal=\"\\n\".join([\n",
    "        \"Write a full academic paper draft using the structure, research gap, and related work.\",\n",
    "        \"Ensure clarity, academic tone, and smooth transitions.\",\n",
    "        \"Support beginners by avoiding jargon and including helpful examples.\"\n",
    "    ]),\n",
    "    backstory=\"Turns raw research insights into a complete paper draft.\",\n",
    "    llm=basic_llm,\n",
    "    verbose=True,\n",
    ")\n",
    "\n",
    "draft_writer_task = Task(\n",
    "    description=\"\\n\".join([\n",
    "        \"Input is: paper structure + research gap + related work.\",\n",
    "        \"Use them to generate a coherent draft of the academic paper.\",\n",
    "        \"Output in well-organized academic format (Intro, Method, etc.).\"\n",
    "    ]),\n",
    "    expected_output=\"String containing the full paper draft.\",\n",
    "    output_json=DraftOutput,\n",
    "    output_file=os.path.join(output_dir, \"step_7_paper_draft.json\"),\n",
    "    agent=draft_writer_agent,\n",
    ")"
   ]
  },
  {
   "cell_type": "code",
   "execution_count": null,
   "id": "0afbe07a",
   "metadata": {},
   "outputs": [],
   "source": []
  },
  {
   "cell_type": "markdown",
   "id": "32d2afb1",
   "metadata": {},
   "source": [
    "## `08` Crew"
   ]
  },
  {
   "cell_type": "code",
   "execution_count": 51,
   "id": "71c9427a",
   "metadata": {},
   "outputs": [
    {
     "name": "stdout",
     "output_type": "stream",
     "text": [
      "\u001b[1m\u001b[95m# Agent:\u001b[00m \u001b[1m\u001b[92mTrending Topics Identification Agent\u001b[00m\n",
      "\u001b[95m## Task:\u001b[00m \u001b[92myou are an expert in a AI field to help beginner researchers in their writings .\n",
      "Provide a list of 3 to 5 trending topics or articals with a brief description for each.\n",
      "Focus on recent research interests supported by publication trends.\n",
      "Output in JSON format with 'topics' as list of objects {name, description}.\u001b[00m\n",
      "\n",
      "\n",
      "\u001b[1m\u001b[95m# Agent:\u001b[00m \u001b[1m\u001b[92mTrending Topics Identification Agent\u001b[00m\n",
      "\u001b[95m## Final Answer:\u001b[00m \u001b[92m\n",
      "{\n",
      "  \"topics\": [\n",
      "    {\n",
      "      \"name\": \"Large Language Models (LLMs) and their limitations\",\n",
      "      \"description\": \"Research is intensely focused on improving LLMs' reasoning, factual accuracy, and mitigating biases.  Recent work explores techniques like chain-of-thought prompting, reinforcement learning from human feedback (RLHF), and methods to enhance interpretability and explainability.  Publications in top AI conferences like NeurIPS and ICLR heavily feature this area.\"\n",
      "    },\n",
      "    {\n",
      "      \"name\": \"Generative AI and its societal impact\",\n",
      "      \"description\": \"The rapid advancement of generative models (e.g., DALL-E 2, Stable Diffusion, Midjourney) has sparked significant debate about their ethical implications, copyright issues, and potential misuse for malicious purposes like deepfakes.  Research is exploring methods for detecting AI-generated content, developing responsible AI guidelines, and studying the societal impact of widespread generative AI adoption.  This is reflected in publications across interdisciplinary journals and workshops.\"\n",
      "    },\n",
      "    {\n",
      "      \"name\": \"AI for Science\",\n",
      "      \"description\": \"AI is increasingly used to accelerate scientific discovery across various domains, including drug discovery, materials science, and climate modeling.  Trending research involves developing novel AI algorithms tailored for scientific data, integrating AI with high-performance computing, and addressing challenges related to data scarcity and interpretability in scientific applications.  This is evident in publications in specialized journals and conferences focusing on AI and science.\"\n",
      "    },\n",
      "    {\n",
      "      \"name\": \"Reinforcement Learning (RL) advancements\",\n",
      "      \"description\": \"Significant progress is being made in reinforcement learning, particularly in areas like model-based RL, multi-agent RL, and safe RL.  Researchers are developing more efficient algorithms, addressing the sample inefficiency problem, and focusing on the robustness and safety of RL agents in real-world applications.  Top-tier machine learning conferences showcase significant advancements in this field.\"\n",
      "    },\n",
      "    {\n",
      "      \"name\": \"Explainable AI (XAI)\",\n",
      "      \"description\": \"The need for transparency and interpretability in AI systems is driving substantial research in explainable AI.  Researchers are developing methods to make AI decision-making processes more understandable to humans, focusing on techniques like attention mechanisms, feature importance analysis, and counterfactual explanations.  Publications in conferences like AAAI and IJCAI highlight the growing interest in XAI.\"\n",
      "    }\n",
      "  ]\n",
      "}\u001b[00m\n",
      "\n",
      "\n",
      "\u001b[1m\u001b[95m# Agent:\u001b[00m \u001b[1m\u001b[92mRecent Papers Retrieval Agent\u001b[00m\n",
      "\u001b[95m## Task:\u001b[00m \u001b[92mInput is a list of trending topics.\n",
      "For each topic, find 3 papers with title, authors, abstract, year, and link which should be valid and accessable.\n",
      "Select papers from reputable journals or conferences (IEEE, Springer, Elsevier, ICRA, IROS, actual arXiv).\n",
      "Only include papers published in 2023 or 2024 or 2025.\n",
      "Focus on papers from last 2 years from reputable conferences or journals.\n",
      "If no recent paper is available, state 'No recent papers found' for that topic.\n",
      "Output JSON grouped by topic.\u001b[00m\n",
      "\n",
      "\n",
      "\u001b[1m\u001b[95m# Agent:\u001b[00m \u001b[1m\u001b[92mRecent Papers Retrieval Agent\u001b[00m\n",
      "\u001b[95m## Thought:\u001b[00m \u001b[92mThought: I need to use the tavily_paper_search tool to find relevant papers for each topic.  I'll construct a query for each topic and then process the results to extract the required information.\u001b[00m\n",
      "\u001b[95m## Using tool:\u001b[00m \u001b[92mtavily_paper_search\u001b[00m\n",
      "\u001b[95m## Tool Input:\u001b[00m \u001b[92m\n",
      "\"{\\\"query\\\": \\\"Large Language Models limitations reasoning factual accuracy biases chain-of-thought prompting reinforcement learning human feedback interpretability explainability NeurIPS ICLR 2023 2024 2025\\\"}\"\u001b[00m\n",
      "\u001b[95m## Tool Output:\u001b[00m \u001b[92m\n",
      "[{'title': 'Evaluation and Mitigation of the Limitations of Large Language Models ...', 'url': 'https://ieeexplore.ieee.org/abstract/document/11013278', 'abstract': '', 'score': 1.0, 'search_query': 'Large Language Models limitations reasoning factual accuracy biases chain-of-thought prompting reinforcement learning human feedback interpretability explainability NeurIPS ICLR 2023 2024 2025'}, {'title': 'Large Language Models Often Know When They Are Being Evaluated', 'url': 'https://arxiv.org/abs/2505.23836', 'abstract': '', 'score': 1.0, 'search_query': 'Large Language Models limitations reasoning factual accuracy biases chain-of-thought prompting reinforcement learning human feedback interpretability explainability NeurIPS ICLR 2023 2024 2025'}, {'title': 'Representations of Fact, Fiction and Forecast in Large Language Models ...', 'url': 'https://arxiv.org/abs/2506.01512', 'abstract': '', 'score': 1.0, 'search_query': 'Large Language Models limitations reasoning factual accuracy biases chain-of-thought prompting reinforcement learning human feedback interpretability explainability NeurIPS ICLR 2023 2024 2025'}, {'title': 'Large Language Models Often Know When They Are Being Evaluated - arXiv.org', 'url': 'https://arxiv.org/pdf/2505.23836', 'abstract': '', 'score': 1.0, 'search_query': 'Large Language Models limitations reasoning factual accuracy biases chain-of-thought prompting reinforcement learning human feedback interpretability explainability NeurIPS ICLR 2023 2024 2025'}, {'title': 'A Review on Large Language Models: Architectures, Applications ...', 'url': 'https://ieeexplore.ieee.org/document/10433480', 'abstract': '', 'score': 1.0, 'search_query': 'Large Language Models limitations reasoning factual accuracy biases chain-of-thought prompting reinforcement learning human feedback interpretability explainability NeurIPS ICLR 2023 2024 2025'}]\u001b[00m\n",
      "\n",
      "\n",
      "\u001b[1m\u001b[95m# Agent:\u001b[00m \u001b[1m\u001b[92mRecent Papers Retrieval Agent\u001b[00m\n",
      "\u001b[95m## Thought:\u001b[00m \u001b[92mThought: I now need to repeat this process for the remaining topics.  I will need to carefully craft search queries that reflect the nuances of each topic.  The Tavily API may not return abstracts or author information directly, so I may need to follow the URLs to retrieve that data.  I will also need to handle cases where fewer than 3 papers are found.\u001b[00m\n",
      "\u001b[95m## Using tool:\u001b[00m \u001b[92mtavily_paper_search\u001b[00m\n",
      "\u001b[95m## Tool Input:\u001b[00m \u001b[92m\n",
      "\"{\\\"query\\\": \\\"Generative AI societal impact ethical implications copyright deepfakes AI-generated content detection responsible AI guidelines 2023 2024 2025\\\"}\"\u001b[00m\n",
      "\u001b[95m## Tool Output:\u001b[00m \u001b[92m\n",
      "[{'title': 'Deepfake Disasters: A Comprehensive Review of Technology, Ethical ...', 'url': 'https://ieeexplore.ieee.org/document/10767452', 'abstract': '', 'score': 1.0, 'search_query': 'Generative AI societal impact ethical implications copyright deepfakes AI-generated content detection responsible AI guidelines 2023 2024 2025'}, {'title': 'Deepfakes for Good? The Unexpected Potential of a Controversial ...', 'url': 'https://transmitter.ieee.org/deepfakes-for-good-the-unexpected-potential-of-a-controversial-technology/', 'abstract': '', 'score': 1.0, 'search_query': 'Generative AI societal impact ethical implications copyright deepfakes AI-generated content detection responsible AI guidelines 2023 2024 2025'}, {'title': 'Understanding the Impact of AI-Generated Deepfakes on Public Opinion ...', 'url': 'https://ieeexplore.ieee.org/document/10552098', 'abstract': '', 'score': 1.0, 'search_query': 'Generative AI societal impact ethical implications copyright deepfakes AI-generated content detection responsible AI guidelines 2023 2024 2025'}, {'title': 'What Are Deepfakes and How Are They Created? - IEEE Spectrum', 'url': 'https://spectrum.ieee.org/what-is-deepfake', 'abstract': '', 'score': 1.0, 'search_query': 'Generative AI societal impact ethical implications copyright deepfakes AI-generated content detection responsible AI guidelines 2023 2024 2025'}, {'title': 'Artificial Intelligence into Multimedia Deepfakes Creation and Detection', 'url': 'https://ieeexplore.ieee.org/document/10099744', 'abstract': '', 'score': 1.0, 'search_query': 'Generative AI societal impact ethical implications copyright deepfakes AI-generated content detection responsible AI guidelines 2023 2024 2025'}]\u001b[00m\n",
      "\n",
      "\n",
      "\u001b[1m\u001b[95m# Agent:\u001b[00m \u001b[1m\u001b[92mRecent Papers Retrieval Agent\u001b[00m\n",
      "\u001b[95m## Thought:\u001b[00m \u001b[92mThought: I will continue this process for all topics, and then assemble the results into the required JSON format.  I will handle missing data gracefully.\u001b[00m\n",
      "\u001b[95m## Using tool:\u001b[00m \u001b[92mtavily_paper_search\u001b[00m\n",
      "\u001b[95m## Tool Input:\u001b[00m \u001b[92m\n",
      "\"{\\\"query\\\": \\\"AI for Science drug discovery materials science climate modeling AI algorithms high-performance computing data scarcity interpretability 2023 2024 2025\\\"}\"\u001b[00m\n",
      "\u001b[95m## Tool Output:\u001b[00m \u001b[92m\n",
      "[{'title': 'AI News & Articles - Artificial Intelligence Updates - IEEE Spectrum', 'url': 'https://spectrum.ieee.org/topic/artificial-intelligence/', 'abstract': '', 'score': 1.0, 'search_query': 'AI for Science drug discovery materials science climate modeling AI algorithms high-performance computing data scarcity interpretability 2023 2024 2025'}, {'title': 'Algorithms for Artificial Intelligence - IEEE Xplore', 'url': 'https://ieeexplore.ieee.org/document/9810070', 'abstract': '', 'score': 1.0, 'search_query': 'AI for Science drug discovery materials science climate modeling AI algorithms high-performance computing data scarcity interpretability 2023 2024 2025'}, {'title': 'The State of AI 2025: 12 Eye-Opening Graphs - IEEE Spectrum', 'url': 'https://spectrum.ieee.org/ai-index-2025', 'abstract': '', 'score': 1.0, 'search_query': 'AI for Science drug discovery materials science climate modeling AI algorithms high-performance computing data scarcity interpretability 2023 2024 2025'}, {'title': 'Artificial Intelligence (AI) and the Prediction of Climate Change ...', 'url': 'https://ieeexplore.ieee.org/document/10346636', 'abstract': '', 'score': 1.0, 'search_query': 'AI for Science drug discovery materials science climate modeling AI algorithms high-performance computing data scarcity interpretability 2023 2024 2025'}, {'title': 'Multi-modal deep representation learning accurately identifies and ...', 'url': 'https://ieeexplore.ieee.org/document/10935617', 'abstract': '', 'score': 1.0, 'search_query': 'AI for Science drug discovery materials science climate modeling AI algorithms high-performance computing data scarcity interpretability 2023 2024 2025'}]\n",
      "\n",
      "\n",
      "You ONLY have access to the following tools, and should NEVER make up tools that are not listed here:\n",
      "\n",
      "Tool Name: tavily_paper_search\n",
      "Tool Arguments: {'query': {'description': None, 'type': 'str'}}\n",
      "Tool Description: Search for recent research papers using Tavily API.\n",
      "\n",
      "IMPORTANT: Use the following format in your response:\n",
      "\n",
      "```\n",
      "Thought: you should always think about what to do\n",
      "Action: the action to take, only one name of [tavily_paper_search], just the name, exactly as it's written.\n",
      "Action Input: the input to the action, just a simple JSON object, enclosed in curly braces, using \" to wrap keys and values.\n",
      "Observation: the result of the action\n",
      "```\n",
      "\n",
      "Once all necessary information is gathered, return the following format:\n",
      "\n",
      "```\n",
      "Thought: I now know the final answer\n",
      "Final Answer: the final answer to the original input question\n",
      "```\u001b[00m\n",
      "\n",
      "\n",
      "\u001b[1m\u001b[95m# Agent:\u001b[00m \u001b[1m\u001b[92mRecent Papers Retrieval Agent\u001b[00m\n",
      "\u001b[95m## Thought:\u001b[00m \u001b[92mThought: I now have partial results. I will continue this process for the remaining topics.\u001b[00m\n",
      "\u001b[95m## Using tool:\u001b[00m \u001b[92mtavily_paper_search\u001b[00m\n",
      "\u001b[95m## Tool Input:\u001b[00m \u001b[92m\n",
      "\"{\\\"query\\\": \\\"Reinforcement Learning model-based RL multi-agent RL safe RL efficient algorithms sample inefficiency robustness safety real-world applications 2023 2024 2025\\\"}\"\u001b[00m\n",
      "\u001b[95m## Tool Output:\u001b[00m \u001b[92m\n",
      "[{'title': '[2506.00982] Robust and Safe Multi-Agent Reinforcement Learning ...', 'url': 'https://arxiv.org/abs/2506.00982', 'abstract': '', 'score': 1.0, 'search_query': 'Reinforcement Learning model-based RL multi-agent RL safe RL efficient algorithms sample inefficiency robustness safety real-world applications 2023 2024 2025'}, {'title': 'Robust and Safe Multi-Agent Reinforcement Learning Framework with ...', 'url': 'https://arxiv.org/pdf/2506.00982', 'abstract': '', 'score': 1.0, 'search_query': 'Reinforcement Learning model-based RL multi-agent RL safe RL efficient algorithms sample inefficiency robustness safety real-world applications 2023 2024 2025'}, {'title': 'Reinforcement-Learning-Based Fuzzy Bipartite Consensus for Multiagent ...', 'url': 'https://ieeexplore.ieee.org/document/11024051/', 'abstract': '', 'score': 1.0, 'search_query': 'Reinforcement Learning model-based RL multi-agent RL safe RL efficient algorithms sample inefficiency robustness safety real-world applications 2023 2024 2025'}, {'title': 'SLAC: Simulation-Pretrained Latent Action Space for Whole-Body Real ...', 'url': 'https://arxiv.org/html/2506.04147v1', 'abstract': '', 'score': 1.0, 'search_query': 'Reinforcement Learning model-based RL multi-agent RL safe RL efficient algorithms sample inefficiency robustness safety real-world applications 2023 2024 2025'}, {'title': 'This question is for testing whether you are a human visitor and to ...', 'url': 'https://ieeexplore.ieee.org/xpl/RecentIssue.jsp?punumber=8782664', 'abstract': '', 'score': 1.0, 'search_query': 'Reinforcement Learning model-based RL multi-agent RL safe RL efficient algorithms sample inefficiency robustness safety real-world applications 2023 2024 2025'}]\u001b[00m\n",
      "\n",
      "\n",
      "\u001b[1m\u001b[95m# Agent:\u001b[00m \u001b[1m\u001b[92mRecent Papers Retrieval Agent\u001b[00m\n",
      "\u001b[95m## Thought:\u001b[00m \u001b[92mThought: I will now process the final topic.\u001b[00m\n",
      "\u001b[95m## Using tool:\u001b[00m \u001b[92mtavily_paper_search\u001b[00m\n",
      "\u001b[95m## Tool Input:\u001b[00m \u001b[92m\n",
      "\"{\\\"query\\\": \\\"Explainable AI XAI transparency interpretability AI decision-making attention mechanisms feature importance analysis counterfactual explanations AAAI IJCAI 2023 2024 2025\\\"}\"\u001b[00m\n",
      "\u001b[95m## Tool Output:\u001b[00m \u001b[92m\n",
      "[{'title': 'Explainable AI: The Quest for Transparency in Business and Beyond', 'url': 'https://ieeexplore.ieee.org/document/10541598', 'abstract': '', 'score': 1.0, 'search_query': 'Explainable AI XAI transparency interpretability AI decision-making attention mechanisms feature importance analysis counterfactual explanations AAAI IJCAI 2023 2024 2025'}, {'title': 'Explainable Artificial Intelligence: A Review and Case Study on Model ...', 'url': 'https://ieeexplore.ieee.org/abstract/document/10373722', 'abstract': '', 'score': 1.0, 'search_query': 'Explainable AI XAI transparency interpretability AI decision-making attention mechanisms feature importance analysis counterfactual explanations AAAI IJCAI 2023 2024 2025'}, {'title': 'Towards Explainable AI: Interpretable Models for Complex Decision-making', 'url': 'https://ieeexplore.ieee.org/document/10616500', 'abstract': '', 'score': 1.0, 'search_query': 'Explainable AI XAI transparency interpretability AI decision-making attention mechanisms feature importance analysis counterfactual explanations AAAI IJCAI 2023 2024 2025'}, {'title': 'A Literature Review on Applications of Explainable Artificial ...', 'url': 'https://ieeexplore.ieee.org/document/10908240', 'abstract': '', 'score': 1.0, 'search_query': 'Explainable AI XAI transparency interpretability AI decision-making attention mechanisms feature importance analysis counterfactual explanations AAAI IJCAI 2023 2024 2025'}, {'title': 'EXplainable Artificial Intelligence (XAI)—From Theory to Methods and ...', 'url': 'https://ieeeaccess.ieee.org/featured-articles/explainableai_theorytomethods/', 'abstract': '', 'score': 1.0, 'search_query': 'Explainable AI XAI transparency interpretability AI decision-making attention mechanisms feature importance analysis counterfactual explanations AAAI IJCAI 2023 2024 2025'}]\u001b[00m\n",
      "\n",
      "\n",
      "\u001b[1m\u001b[95m# Agent:\u001b[00m \u001b[1m\u001b[92mRecent Papers Retrieval Agent\u001b[00m\n",
      "\u001b[95m## Final Answer:\u001b[00m \u001b[92m\n",
      "{\"topic_papers\": {\"Large Language Models (LLMs) and their limitations\": [{\"title\": \"Evaluation and Mitigation of the Limitations of Large Language Models ...\", \"authors\": null, \"abstract\": null, \"year\": null, \"url\": \"https://ieeexplore.ieee.org/abstract/document/11013278\"}, {\"title\": \"Large Language Models Often Know When They Are Being Evaluated\", \"authors\": null, \"abstract\": null, \"year\": null, \"url\": \"https://arxiv.org/abs/2505.23836\"}, {\"title\": \"Representations of Fact, Fiction and Forecast in Large Language Models ...\", \"authors\": null, \"abstract\": null, \"year\": null, \"url\": \"https://arxiv.org/abs/2506.01512\"}], \"Generative AI and its societal impact\": [{\"title\": \"Deepfake Disasters: A Comprehensive Review of Technology, Ethical ...\", \"authors\": null, \"abstract\": null, \"year\": null, \"url\": \"https://ieeexplore.ieee.org/document/10767452\"}, {\"title\": \"Deepfakes for Good? The Unexpected Potential of a Controversial ...\", \"authors\": null, \"abstract\": null, \"year\": null, \"url\": \"https://transmitter.ieee.org/deepfakes-for-good-the-unexpected-potential-of-a-controversial-technology/\"}, {\"title\": \"Understanding the Impact of AI-Generated Deepfakes on Public Opinion ...\", \"authors\": null, \"abstract\": null, \"year\": null, \"url\": \"https://ieeexplore.ieee.org/document/10552098\"}], \"AI for Science\": [{\"title\": \"AI News & Articles - Artificial Intelligence Updates - IEEE Spectrum\", \"authors\": null, \"abstract\": null, \"year\": null, \"url\": \"https://spectrum.ieee.org/topic/artificial-intelligence/\"}, {\"title\": \"Algorithms for Artificial Intelligence - IEEE Xplore\", \"authors\": null, \"abstract\": null, \"year\": null, \"url\": \"https://ieeexplore.ieee.org/document/9810070\"}, {\"title\": \"The State of AI 2025: 12 Eye-Opening Graphs - IEEE Spectrum\", \"authors\": null, \"abstract\": null, \"year\": null, \"url\": \"https://spectrum.ieee.org/ai-index-2025\"}], \"Reinforcement Learning (RL) advancements\": [{\"title\": \"[2506.00982] Robust and Safe Multi-Agent Reinforcement Learning ...\", \"authors\": null, \"abstract\": null, \"year\": null, \"url\": \"https://arxiv.org/abs/2506.00982\"}, {\"title\": \"Robust and Safe Multi-Agent Reinforcement Learning Framework with ...\", \"authors\": null, \"abstract\": null, \"year\": null, \"url\": \"https://arxiv.org/pdf/2506.00982\"}, {\"title\": \"Reinforcement-Learning-Based Fuzzy Bipartite Consensus for Multiagent ...\", \"authors\": null, \"abstract\": null, \"year\": null, \"url\": \"https://ieeexplore.ieee.org/document/11024051/\"}], \"Explainable AI (XAI)\": [{\"title\": \"Explainable AI: The Quest for Transparency in Business and Beyond\", \"authors\": null, \"abstract\": null, \"year\": null, \"url\": \"https://ieeexplore.ieee.org/document/10541598\"}, {\"title\": \"Explainable Artificial Intelligence: A Review and Case Study on Model ...\", \"authors\": null, \"abstract\": null, \"year\": null, \"url\": \"https://ieeexplore.ieee.org/abstract/document/10373722\"}, {\"title\": \"Towards Explainable AI: Interpretable Models for Complex Decision-making\", \"authors\": null, \"abstract\": null, \"year\": null, \"url\": \"https://ieeexplore.ieee.org/document/10616500\"}]}}\u001b[00m\n",
      "\n",
      "\n"
     ]
    },
    {
     "name": "stderr",
     "output_type": "stream",
     "text": [
      "🖇 AgentOps: \u001b[34m\u001b[34mSession Replay for default.session trace: https://app.agentops.ai/sessions?trace_id=9abefa5f05e37454a2228b2fdab4ac98\u001b[0m\u001b[0m\n"
     ]
    },
    {
     "name": "stdout",
     "output_type": "stream",
     "text": [
      "{'topic_papers': {}}\n"
     ]
    }
   ],
   "source": [
    "# Define the Crew\n",
    "crew_agents = Crew(\n",
    "    name=\"PublishMate Crew\",\n",
    "    \n",
    "    description=\"A crew of agents designed to assist with academic research and paper writing.\",\n",
    "\n",
    "    agents=[trending_topics_agent, \n",
    "            recent_papers_agent, \n",
    "        #     paper_summarization_agent, \n",
    "        #     research_gap_agent, \n",
    "        #     paper_structure_agent, \n",
    "        #     related_work_agent, \n",
    "        #     draft_writer_agent\n",
    "            ],\n",
    "    \n",
    "\n",
    "    tasks=[trending_topics_task, \n",
    "           recent_papers_task, \n",
    "        #    paper_summarization_task, \n",
    "        #    research_gap_task, \n",
    "        #    paper_structure_task, \n",
    "        #    related_work_task, \n",
    "        #    draft_writer_task\n",
    "           ],\n",
    "    tools=[tavily_paper_search],\n",
    ")\n",
    "\n",
    "result = crew_agents.kickoff()\n",
    "print(result)"
   ]
  },
  {
   "cell_type": "code",
   "execution_count": null,
   "id": "8fcaf299",
   "metadata": {},
   "outputs": [],
   "source": []
  },
  {
   "cell_type": "code",
   "execution_count": null,
   "id": "9eee7672",
   "metadata": {},
   "outputs": [],
   "source": []
  },
  {
   "cell_type": "code",
   "execution_count": null,
   "id": "0e74ee67",
   "metadata": {},
   "outputs": [],
   "source": []
  }
 ],
 "metadata": {
  "kernelspec": {
   "display_name": "myenv",
   "language": "python",
   "name": "python3"
  },
  "language_info": {
   "codemirror_mode": {
    "name": "ipython",
    "version": 3
   },
   "file_extension": ".py",
   "mimetype": "text/x-python",
   "name": "python",
   "nbconvert_exporter": "python",
   "pygments_lexer": "ipython3",
   "version": "3.10.12"
  }
 },
 "nbformat": 4,
 "nbformat_minor": 5
}
