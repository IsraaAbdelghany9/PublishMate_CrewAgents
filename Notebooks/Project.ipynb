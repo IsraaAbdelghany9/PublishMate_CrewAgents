{
 "cells": [
  {
   "cell_type": "markdown",
   "id": "92381477",
   "metadata": {},
   "source": [
    "<center>\n",
    "<h1 style=\"color: pink;\">Welcome to Publish Mate 😊</h1>\n",
    "</center>"
   ]
  },
  {
   "cell_type": "markdown",
   "id": "6c54e823",
   "metadata": {},
   "source": [
    "## `00` Download Dependencies"
   ]
  },
  {
   "cell_type": "code",
   "execution_count": 66,
   "id": "920394f5",
   "metadata": {},
   "outputs": [],
   "source": [
    "# !pip3 install -U \"crewai[tools,agentops]\""
   ]
  },
  {
   "cell_type": "code",
   "execution_count": 67,
   "id": "5c22d156",
   "metadata": {},
   "outputs": [],
   "source": [
    "# !pip3 install python-dotenv\n",
    "# !pip3 install gcloud\n",
    "# !pip3 install google-genai"
   ]
  },
  {
   "cell_type": "markdown",
   "id": "df34b606",
   "metadata": {},
   "source": [
    "## `01` Import Libraries"
   ]
  },
  {
   "cell_type": "code",
   "execution_count": 68,
   "id": "f019b3bb",
   "metadata": {},
   "outputs": [],
   "source": [
    "from dotenv import load_dotenv\n",
    "import os\n",
    "import google.generativeai as genai"
   ]
  },
  {
   "cell_type": "code",
   "execution_count": 69,
   "id": "f80e8137",
   "metadata": {},
   "outputs": [],
   "source": [
    "from crewai import Agent, Task, Crew, Process, LLM\n",
    "from crewai.tools import tool\n",
    "from crewai.knowledge.source.string_knowledge_source import StringKnowledgeSource\n",
    "from crewai.llms.base_llm import BaseLLM\n",
    "\n",
    "from pydantic import BaseModel, Field\n",
    "from typing import List, Dict\n",
    "\n",
    "import agentops\n",
    "import json\n",
    "import gcloud\n",
    "import google.generativeai as genai\n",
    "from dotenv import load_dotenv\n",
    "from vertexai.preview.generative_models import Content, Part\n"
   ]
  },
  {
   "cell_type": "markdown",
   "id": "aa5052a2",
   "metadata": {},
   "source": [
    "## `02` load api key"
   ]
  },
  {
   "cell_type": "code",
   "execution_count": 70,
   "id": "a8f68d5d",
   "metadata": {},
   "outputs": [
    {
     "data": {
      "text/plain": [
       "True"
      ]
     },
     "execution_count": 70,
     "metadata": {},
     "output_type": "execute_result"
    }
   ],
   "source": [
    "load_dotenv()  # Load from .env"
   ]
  },
  {
   "cell_type": "code",
   "execution_count": 71,
   "id": "5b060e4a",
   "metadata": {},
   "outputs": [],
   "source": [
    "AGENTOPS_API_KEY = os.getenv(\"AGENTOPS_API_KEY\") # replace by yours"
   ]
  },
  {
   "cell_type": "code",
   "execution_count": 72,
   "id": "54b0bd3f",
   "metadata": {},
   "outputs": [],
   "source": [
    "OPENAI_API_KEY = os.getenv(\"OPENAI_API_KEY\")\n",
    "GEMINI_API_KEY = os.getenv(\"GEMINI_API_KEY\")\n",
    "PROJECT_ID = os.getenv(\"PROJECT_ID\")\n",
    "PROJECT_NAME = os.getenv(\"PROJECT_NAME\")\n",
    "\n",
    "genai.configure(api_key=OPENAI_API_KEY)"
   ]
  },
  {
   "cell_type": "code",
   "execution_count": null,
   "id": "3a7c887c",
   "metadata": {},
   "outputs": [],
   "source": []
  },
  {
   "cell_type": "markdown",
   "id": "af609c4c",
   "metadata": {},
   "source": [
    "## `03` Start AgentOps session"
   ]
  },
  {
   "cell_type": "code",
   "execution_count": 73,
   "id": "d1fea026",
   "metadata": {},
   "outputs": [
    {
     "data": {
      "text/plain": [
       "<agentops.legacy.Session at 0x7690ba1ff910>"
      ]
     },
     "execution_count": 73,
     "metadata": {},
     "output_type": "execute_result"
    }
   ],
   "source": [
    "agentops.init(api_key=AGENTOPS_API_KEY,\n",
    "               skip_auto_end_session=True, # Set to True to skip auto ending the session\n",
    "               ) "
   ]
  },
  {
   "cell_type": "markdown",
   "id": "23759094",
   "metadata": {},
   "source": [
    "The link will help us to monitor our agents"
   ]
  },
  {
   "cell_type": "markdown",
   "id": "85830ad2",
   "metadata": {},
   "source": [
    "### Make sure it works"
   ]
  },
  {
   "cell_type": "code",
   "execution_count": 74,
   "id": "77cb14b3",
   "metadata": {},
   "outputs": [],
   "source": [
    "# print(\"AgentOps session initialized.\")\n",
    "# print(agentops.session)  # optional, shows session info if available\n",
    "# print(agentops.__dict__)"
   ]
  },
  {
   "cell_type": "code",
   "execution_count": null,
   "id": "108edb31",
   "metadata": {},
   "outputs": [],
   "source": []
  },
  {
   "cell_type": "markdown",
   "id": "3d9a851f",
   "metadata": {},
   "source": [
    "## `04` Intro of the Crew"
   ]
  },
  {
   "cell_type": "code",
   "execution_count": 75,
   "id": "30fbf056",
   "metadata": {},
   "outputs": [
    {
     "name": "stdout",
     "output_type": "stream",
     "text": [
      "Welcome to PublishMate! I am your research assistant mate here to help you with your academic paper journey.\n",
      "I will guide you step-by-step to find trending topics, recent papers, summaries, research gaps, and help with paper writing. \n",
      "Let's get started!\n",
      "\n"
     ]
    }
   ],
   "source": [
    "intro_prompt = (\n",
    "    \"Welcome to PublishMate! I am your research assistant mate here to help you with your academic paper journey.\\n\"\n",
    "    \"I will guide you step-by-step to find trending topics, recent papers, summaries, \"\n",
    "    \"research gaps, and help with paper writing. \\nLet's get started!\\n\"\n",
    ")\n",
    "\n",
    "def welcome_message():\n",
    "    print(intro_prompt)\n",
    "\n",
    "# Run this at the very beginning\n",
    "welcome_message()"
   ]
  },
  {
   "cell_type": "markdown",
   "id": "10952041",
   "metadata": {},
   "source": [
    "## `05` Set Output dir"
   ]
  },
  {
   "cell_type": "code",
   "execution_count": 76,
   "id": "e9e08ec3",
   "metadata": {},
   "outputs": [],
   "source": [
    "output_dir = './PublishMate_agent_ouput'\n",
    "os.makedirs(output_dir, exist_ok=True)"
   ]
  },
  {
   "cell_type": "markdown",
   "id": "4c4da468",
   "metadata": {},
   "source": [
    "## `06` LLM will be used"
   ]
  },
  {
   "cell_type": "code",
   "execution_count": 77,
   "id": "dcadaeb7",
   "metadata": {},
   "outputs": [],
   "source": [
    "basic_llm = LLM(\n",
    "    # Corrected the model name from \"gemini-2.0-flas\" to \"gemini-1.5-flash\"\n",
    "    model=\"gemini/gemini-1.5-flash\",\n",
    "    temperature=0,\n",
    "    provider=\"google_ai_studio\",\n",
    "    api_key=os.environ[\"GEMINI_API_KEY\"]\n",
    ")"
   ]
  },
  {
   "cell_type": "markdown",
   "id": "6e520829",
   "metadata": {},
   "source": [
    "## `06` START AGENTS"
   ]
  },
  {
   "cell_type": "markdown",
   "id": "46193487",
   "metadata": {},
   "source": [
    "### `6.1` Agent1: Trending Topics Agent "
   ]
  },
  {
   "cell_type": "code",
   "execution_count": 78,
   "id": "84e2665c",
   "metadata": {},
   "outputs": [],
   "source": [
    "# !gcloud init"
   ]
  },
  {
   "cell_type": "code",
   "execution_count": 79,
   "id": "221034b3",
   "metadata": {},
   "outputs": [],
   "source": [
    "user_input = input(\"Enter your research field or keyword: \")"
   ]
  },
  {
   "cell_type": "code",
   "execution_count": 80,
   "id": "157f9964",
   "metadata": {},
   "outputs": [],
   "source": [
    "# Define your Agent using this LLM\n",
    "trending_topics_agent = Agent(\n",
    "    role=\"Trending Topics Identification Agent\",\n",
    "    goal=f\"Identify trending research topics in {user_input} to assist in paper writing.\",\n",
    "    backstory=\"An AI-powered assistant to help researchers find hot topics.\",\n",
    "    llm=basic_llm,\n",
    "    verbose=True,\n",
    ")\n",
    "\n",
    "# Define your Task\n",
    "trending_topics_task = Task(\n",
    "    name=\"Identify Trending Topics\",\n",
    "    description=f\"Generate a list of top 5 trending {user_input} research topics.\",\n",
    "    agent=trending_topics_agent,\n",
    "    expected_output=\"list[str]\",\n",
    ")"
   ]
  },
  {
   "cell_type": "code",
   "execution_count": null,
   "id": "cc7240fd",
   "metadata": {},
   "outputs": [],
   "source": []
  },
  {
   "cell_type": "markdown",
   "id": "32d2afb1",
   "metadata": {},
   "source": [
    "## `08` Crew"
   ]
  },
  {
   "cell_type": "code",
   "execution_count": 81,
   "id": "71c9427a",
   "metadata": {},
   "outputs": [
    {
     "name": "stdout",
     "output_type": "stream",
     "text": [
      "\u001b[1m\u001b[95m# Agent:\u001b[00m \u001b[1m\u001b[92mTrending Topics Identification Agent\u001b[00m\n",
      "\u001b[95m## Task:\u001b[00m \u001b[92mGenerate a list of top 5 trending transformer research topics.\u001b[00m\n",
      "\n",
      "\n",
      "\u001b[1m\u001b[95m# Agent:\u001b[00m \u001b[1m\u001b[92mTrending Topics Identification Agent\u001b[00m\n",
      "\u001b[95m## Final Answer:\u001b[00m \u001b[92m\n",
      "['Efficient Transformers (e.g., linear attention mechanisms, sparse attention, efficient training techniques)', 'Multimodal Transformers (e.g., integrating vision, language, and other modalities)', 'Transformer Architectures for Specific Tasks (e.g., specialized transformers for time series analysis, protein folding, graph processing)', 'Improving Transformer Robustness and Generalization (e.g., addressing issues of data efficiency, adversarial attacks, and out-of-distribution generalization)', 'Theoretical Understanding of Transformers (e.g., exploring the mathematical foundations of attention mechanisms, analyzing the inductive biases of transformers, and developing new theoretical frameworks)']\u001b[00m\n",
      "\n",
      "\n"
     ]
    },
    {
     "name": "stderr",
     "output_type": "stream",
     "text": [
      "🖇 AgentOps: \u001b[34m\u001b[34mSession Replay for default.session trace: https://app.agentops.ai/sessions?trace_id=8b38f42e62f4d254c9105a0718c77bb2\u001b[0m\u001b[0m\n"
     ]
    },
    {
     "name": "stdout",
     "output_type": "stream",
     "text": [
      "['Efficient Transformers (e.g., linear attention mechanisms, sparse attention, efficient training techniques)', 'Multimodal Transformers (e.g., integrating vision, language, and other modalities)', 'Transformer Architectures for Specific Tasks (e.g., specialized transformers for time series analysis, protein folding, graph processing)', 'Improving Transformer Robustness and Generalization (e.g., addressing issues of data efficiency, adversarial attacks, and out-of-distribution generalization)', 'Theoretical Understanding of Transformers (e.g., exploring the mathematical foundations of attention mechanisms, analyzing the inductive biases of transformers, and developing new theoretical frameworks)']\n"
     ]
    }
   ],
   "source": [
    "# Define the Crew\n",
    "crew_agents = Crew(\n",
    "    name=\"PublishMate Crew\",\n",
    "    description=\"A crew of agents designed to assist with academic research and paper writing.\",\n",
    "    agents=[trending_topics_agent],\n",
    "    tasks=[trending_topics_task],\n",
    ")\n",
    "\n",
    "result = crew_agents.kickoff()\n",
    "print(result)"
   ]
  },
  {
   "cell_type": "code",
   "execution_count": null,
   "id": "8fcaf299",
   "metadata": {},
   "outputs": [],
   "source": []
  },
  {
   "cell_type": "code",
   "execution_count": null,
   "id": "9eee7672",
   "metadata": {},
   "outputs": [],
   "source": []
  },
  {
   "cell_type": "code",
   "execution_count": null,
   "id": "0e74ee67",
   "metadata": {},
   "outputs": [],
   "source": []
  }
 ],
 "metadata": {
  "kernelspec": {
   "display_name": "myenv",
   "language": "python",
   "name": "python3"
  },
  "language_info": {
   "codemirror_mode": {
    "name": "ipython",
    "version": 3
   },
   "file_extension": ".py",
   "mimetype": "text/x-python",
   "name": "python",
   "nbconvert_exporter": "python",
   "pygments_lexer": "ipython3",
   "version": "3.10.12"
  }
 },
 "nbformat": 4,
 "nbformat_minor": 5
}
