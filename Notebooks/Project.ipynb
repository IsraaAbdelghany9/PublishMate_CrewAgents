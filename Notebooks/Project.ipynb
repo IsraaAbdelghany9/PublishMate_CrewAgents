{
 "cells": [
  {
   "cell_type": "markdown",
   "id": "92381477",
   "metadata": {},
   "source": [
    "<center>\n",
    "<h1 style=\"color: pink;\">Welcome to Publish Mate 😊</h1>\n",
    "</center>"
   ]
  },
  {
   "cell_type": "markdown",
   "id": "6c54e823",
   "metadata": {},
   "source": [
    "## `00` Download Dependencies"
   ]
  },
  {
   "cell_type": "code",
   "execution_count": 20,
   "id": "920394f5",
   "metadata": {},
   "outputs": [],
   "source": [
    "# !pip3 install -U \"crewai[tools,agentops]\""
   ]
  },
  {
   "cell_type": "code",
   "execution_count": 21,
   "id": "5c22d156",
   "metadata": {},
   "outputs": [],
   "source": [
    "# !pip3 install python-dotenv\n",
    "# !pip3 install gcloud\n",
    "# !pip3 install google-genai"
   ]
  },
  {
   "cell_type": "markdown",
   "id": "df34b606",
   "metadata": {},
   "source": [
    "## `01` Import Libraries"
   ]
  },
  {
   "cell_type": "code",
   "execution_count": 22,
   "id": "f019b3bb",
   "metadata": {},
   "outputs": [],
   "source": [
    "from dotenv import load_dotenv\n",
    "import os\n",
    "import google.generativeai as genai"
   ]
  },
  {
   "cell_type": "code",
   "execution_count": null,
   "id": "f80e8137",
   "metadata": {},
   "outputs": [],
   "source": [
    "from crewai import Agent, Task, Crew, Process, LLM\n",
    "from crewai.tools import tool\n",
    "from crewai.knowledge.source.string_knowledge_source import StringKnowledgeSource\n",
    "from crewai.llms.base_llm import BaseLLM\n",
    "\n",
    "from pydantic import BaseModel, Field, HttpUrl\n",
    "from typing import List, Dict\n",
    "\n",
    "import agentops\n",
    "import json\n",
    "import gcloud\n",
    "import google.generativeai as genai\n",
    "from dotenv import load_dotenv\n",
    "from vertexai.preview.generative_models import Content, Part\n",
    "\n",
    "from tavily import TavilyClient\n",
    "from crewai.tools import tool\n"
   ]
  },
  {
   "cell_type": "markdown",
   "id": "aa5052a2",
   "metadata": {},
   "source": [
    "## `02` load api key"
   ]
  },
  {
   "cell_type": "code",
   "execution_count": 24,
   "id": "a8f68d5d",
   "metadata": {},
   "outputs": [
    {
     "data": {
      "text/plain": [
       "True"
      ]
     },
     "execution_count": 24,
     "metadata": {},
     "output_type": "execute_result"
    }
   ],
   "source": [
    "load_dotenv()  # Load from .env"
   ]
  },
  {
   "cell_type": "code",
   "execution_count": 25,
   "id": "5b060e4a",
   "metadata": {},
   "outputs": [],
   "source": [
    "AGENTOPS_API_KEY = os.getenv(\"AGENTOPS_API_KEY\") # replace by yours"
   ]
  },
  {
   "cell_type": "code",
   "execution_count": 92,
   "id": "54b0bd3f",
   "metadata": {},
   "outputs": [],
   "source": [
    "OPENAI_API_KEY = os.getenv(\"OPENAI_API_KEY\")\n",
    "GEMINI_API_KEY = os.getenv(\"GEMINI_API_KEY\")\n",
    "PROJECT_ID = os.getenv(\"PROJECT_ID\")\n",
    "PROJECT_NAME = os.getenv(\"PROJECT_NAME\")\n",
    "\n",
    "TAVILY_API_KEY = os.getenv(\"TAVILY_API_KEY\")\n",
    "\n",
    "# SERPER_API_KEY = os.getenv(\"SERPERDEV_API_KEY\")\n",
    "# os.environ[\"SERPER_API_KEY\"] = SERPER_API_KEY\n",
    "# os.environ[\"OPENAI_API_KEY\"] = OPENAI_API_KEY\n",
    "\n",
    "genai.configure(api_key=OPENAI_API_KEY)"
   ]
  },
  {
   "cell_type": "code",
   "execution_count": null,
   "id": "3a7c887c",
   "metadata": {},
   "outputs": [],
   "source": []
  },
  {
   "cell_type": "markdown",
   "id": "af609c4c",
   "metadata": {},
   "source": [
    "## `03` Start AgentOps session"
   ]
  },
  {
   "cell_type": "code",
   "execution_count": 96,
   "id": "d1fea026",
   "metadata": {},
   "outputs": [
    {
     "data": {
      "text/plain": [
       "<agentops.legacy.Session at 0x7a568d42e3b0>"
      ]
     },
     "execution_count": 96,
     "metadata": {},
     "output_type": "execute_result"
    }
   ],
   "source": [
    "agentops.init(api_key=AGENTOPS_API_KEY,\n",
    "               skip_auto_end_session=True, # Set to True to skip auto ending the session\n",
    "               default_tags=['crewai']\n",
    "               ) "
   ]
  },
  {
   "cell_type": "markdown",
   "id": "23759094",
   "metadata": {},
   "source": [
    "The link will help us to monitor our agents"
   ]
  },
  {
   "cell_type": "markdown",
   "id": "85830ad2",
   "metadata": {},
   "source": [
    "### Make sure it works"
   ]
  },
  {
   "cell_type": "code",
   "execution_count": 28,
   "id": "77cb14b3",
   "metadata": {},
   "outputs": [],
   "source": [
    "# print(\"AgentOps session initialized.\")\n",
    "# print(agentops.session)  # optional, shows session info if available\n",
    "# print(agentops.__dict__)"
   ]
  },
  {
   "cell_type": "code",
   "execution_count": null,
   "id": "108edb31",
   "metadata": {},
   "outputs": [],
   "source": []
  },
  {
   "cell_type": "markdown",
   "id": "3d9a851f",
   "metadata": {},
   "source": [
    "## `04` Intro of the Crew"
   ]
  },
  {
   "cell_type": "code",
   "execution_count": 29,
   "id": "30fbf056",
   "metadata": {},
   "outputs": [
    {
     "name": "stdout",
     "output_type": "stream",
     "text": [
      "Welcome to PublishMate! I am your research assistant mate here to help you with your academic paper journey.\n",
      "I will guide you step-by-step to find trending topics, recent papers, summaries, research gaps, and help with paper writing. \n",
      "Let's get started!\n",
      "\n"
     ]
    }
   ],
   "source": [
    "intro_prompt = (\n",
    "    \"Welcome to PublishMate! I am your research assistant mate here to help you with your academic paper journey.\\n\"\n",
    "    \"I will guide you step-by-step to find trending topics, recent papers, summaries, \"\n",
    "    \"research gaps, and help with paper writing. \\nLet's get started!\\n\"\n",
    ")\n",
    "\n",
    "def welcome_message():\n",
    "    print(intro_prompt)\n",
    "\n",
    "# Run this at the very beginning\n",
    "welcome_message()"
   ]
  },
  {
   "cell_type": "markdown",
   "id": "10952041",
   "metadata": {},
   "source": [
    "## `05` Set Output dir"
   ]
  },
  {
   "cell_type": "code",
   "execution_count": 30,
   "id": "e9e08ec3",
   "metadata": {},
   "outputs": [],
   "source": [
    "output_dir = './PublishMate_agent_ouput'\n",
    "os.makedirs(output_dir, exist_ok=True)"
   ]
  },
  {
   "cell_type": "markdown",
   "id": "4c4da468",
   "metadata": {},
   "source": [
    "## `06` LLM will be used"
   ]
  },
  {
   "cell_type": "code",
   "execution_count": 31,
   "id": "dcadaeb7",
   "metadata": {},
   "outputs": [],
   "source": [
    "basic_llm = LLM(\n",
    "    model=\"gemini/gemini-1.5-flash\",\n",
    "    temperature=0.2,\n",
    "    provider=\"google_ai_studio\",\n",
    "    api_key=os.environ[\"GEMINI_API_KEY\"]\n",
    ")"
   ]
  },
  {
   "cell_type": "markdown",
   "id": "6e520829",
   "metadata": {},
   "source": [
    "## `07` START AGENTS"
   ]
  },
  {
   "cell_type": "markdown",
   "id": "46193487",
   "metadata": {},
   "source": [
    "### `7.1` Agent 1: Trending Topics Agent "
   ]
  },
  {
   "cell_type": "code",
   "execution_count": 32,
   "id": "84e2665c",
   "metadata": {},
   "outputs": [],
   "source": [
    "# !gcloud init"
   ]
  },
  {
   "cell_type": "code",
   "execution_count": 33,
   "id": "221034b3",
   "metadata": {},
   "outputs": [],
   "source": [
    "user_input = input(\"Enter your research field or keyword: \")"
   ]
  },
  {
   "cell_type": "code",
   "execution_count": 34,
   "id": "157f9964",
   "metadata": {},
   "outputs": [
    {
     "name": "stderr",
     "output_type": "stream",
     "text": [
      "/home/israa/Desktop/PublishMate_CrewAgents/myenv/lib/python3.10/site-packages/pydantic/fields.py:1058: PydanticDeprecatedSince20: `min_items` is deprecated and will be removed, use `min_length` instead. Deprecated in Pydantic V2.0 to be removed in V3.0. See Pydantic V2 Migration Guide at https://errors.pydantic.dev/2.11/migration/\n",
      "  warn('`min_items` is deprecated and will be removed, use `min_length` instead', DeprecationWarning)\n"
     ]
    }
   ],
   "source": [
    "class TrendingTopicsOutput(BaseModel):\n",
    "    topics: List[Dict[str, str]] = Field(..., title=\"Trending topics with description\", min_items=1)\n",
    "\n",
    "trending_topics_agent = Agent(\n",
    "    role=\"Trending Topics Identification Agent\",\n",
    "\n",
    "    goal=\"\\n\".join([\n",
    "        f\"You are an expert research assistant that identifies the latest trending topics in the field of {user_input} only focus on it .\",\n",
    "        \"Generate a detailed list of the top 3-5 trending topics or recent articles reflecting advances and high interest in this field.\",\n",
    "        \"Base your answer on recent publication trends, conferences, or journal articles.\",\n",
    "        \"Do not include unrelated or general topics.\",\n",
    "        \"Output only a JSON object with a 'topics' list containing objects with 'name' and 'description'.\"\n",
    "    ]),\n",
    "    backstory=\"Designed to guide users by providing the most relevant and current trending research topics in their specified field.\",\n",
    "    llm=basic_llm,\n",
    "    verbose=True,\n",
    ")\n",
    "\n",
    "trending_topics_task = Task(\n",
    "    description=\"\\n\".join([\n",
    "        f\"you are an expert in a {user_input} field to help beginner researchers in their writings .\",\n",
    "        \"Provide a list of 3 to 5 trending topics or articals with a brief description for each.\",\n",
    "        \"Focus on recent research interests supported by publication trends.\",\n",
    "        \"Output in JSON format with 'topics' as list of objects {name, description}.\"\n",
    "    ]),\n",
    "    expected_output=\"JSON object with list of trending topics and descriptions.\",\n",
    "    output_json=TrendingTopicsOutput,\n",
    "    output_file=os.path.join(output_dir, \"step_1_trending_topics.json\"),\n",
    "    agent=trending_topics_agent,\n",
    ")"
   ]
  },
  {
   "cell_type": "code",
   "execution_count": null,
   "id": "4884d1cc",
   "metadata": {},
   "outputs": [],
   "source": []
  },
  {
   "cell_type": "markdown",
   "id": "64abc55a",
   "metadata": {},
   "source": [
    "### `7.2` Agent 2: Recent Papers Retrieval Agent"
   ]
  },
  {
   "cell_type": "code",
   "execution_count": 120,
   "id": "431507a0",
   "metadata": {},
   "outputs": [],
   "source": [
    "search_client = TavilyClient(api_key=TAVILY_API_KEY)\n",
    " \n",
    "@tool\n",
    "def search_engine_tool(query: str):\n",
    "    \"\"\"Useful for search-based queries. Use this to find current information about any query related pages using a search engine\"\"\"\n",
    "    return search_client.search(query)\n"
   ]
  },
  {
   "cell_type": "code",
   "execution_count": null,
   "id": "cc7240fd",
   "metadata": {},
   "outputs": [],
   "source": [
    "class PaperInfo(BaseModel):\n",
    "    title: str  \n",
    "    year: int \n",
    "    url: str\n",
    "    abstract: str                                   \n",
    "\n",
    "\n",
    "class RecentPapersOutput(BaseModel):\n",
    "    topic_papers: Dict[str, List[PaperInfo]] = Field(..., title=\"Recent papers grouped by topic\")\n",
    "\n",
    "recent_papers_agent = Agent(\n",
    "    role=\"Recent Papers Retrieval Agent\",\n",
    "\n",
    "    goal = \"\\n\".join([\n",
    "        \"You are a research paper search assistant.\",\n",
    "        \"Given a list of trending topics, retrieve 3 recent, relevant publications per topic.\",\n",
    "        \"Select papers from reputable sources published within the last 2 years.(2023 or 2024 or 2025)\",\n",
    "        \"Provide title, authors, abstract, year, and valid URL for each paper.\",\n",
    "        \"the URL must be valid and accessible.\",\n",
    "        \"If no recent paper is available, state 'No recent papers found' for that topic.\",\n",
    "        \"Output in JSON format grouped by topic.\"]),\n",
    "\n",
    "    backstory=\"Helps beginner researchers quickly discover and review the latest relevant publications across the trending topics with the URLs that are valid and some info.\",\n",
    "\n",
    "    llm=basic_llm,\n",
    "    \n",
    "    verbose=True,\n",
    ")\n",
    "\n",
    "recent_papers_task = Task(\n",
    "    description=\"\\n\".join([\n",
    "        \"Input is a list of trending topics.\",\n",
    "        \"For each topic, find 3 papers with title, authors, abstract, year, and link which should be valid and accessable.\",\n",
    "        \"Select papers from reputable journals or conferences (IEEE, Springer, Elsevier, ICRA, IROS, actual arXiv).\",\n",
    "        \"Only include papers published in 2023 or 2024 or 2025.\",\n",
    "        \"Get the abstract of the paper as it is in the paper or the site to help the agents after you, bring a good clean text.\"\n",
    "        \"Focus on papers from last 2 years from reputable conferences or journals.\",\n",
    "        \"If no recent paper is available, state 'No recent papers found' for that topic.\",\n",
    "        \"Output JSON grouped by topic.\"\n",
    "    ]),\n",
    "    expected_output=\"JSON with topics as keys and list of paper info objects as values.\",\n",
    "    output_json=RecentPapersOutput,\n",
    "    output_file=os.path.join(output_dir, \"step_2_recent_papers.json\"),\n",
    "    agent=recent_papers_agent,\n",
    "    tools=[search_engine_tool],\n",
    "    \n",
    ")\n"
   ]
  },
  {
   "cell_type": "markdown",
   "id": "47e3a75b",
   "metadata": {},
   "source": [
    "### `7.3` Agent 3: Paper Summarization Agent"
   ]
  },
  {
   "cell_type": "code",
   "execution_count": 118,
   "id": "1097217e",
   "metadata": {},
   "outputs": [],
   "source": [
    "class PaperSummariesOutput(BaseModel):\n",
    "    summaries: Dict[str, str] = Field(\n",
    "        ..., \n",
    "        title=\"Paper title mapped to its summary\", \n",
    "        description=\"Each item has 'title' and 'summary'.\"\n",
    "    )\n",
    "\n",
    "paper_summarization_agent = Agent(\n",
    "    role=\"Academic Paper Summarization Agent\",\n",
    "    goal=\"\\n\".join([\n",
    "        \"Summarize each research paper into a detailed 120-150 word paragraph.\",\n",
    "        \"Mention the full paper title before the summary.\",\n",
    "        \"Focus on: main research problem, methodology, key findings, unique contributions.\",\n",
    "        \"Highlight any datasets, models, or diagrams used (in the paper).\",\n",
    "        \"Avoid generic descriptions. Be specific about what the paper achieves.\"\n",
    "    ]),\n",
    "    backstory=\"Provides clear and informative summaries to help users understand research papers quickly even if they are beginners.\",\n",
    "    llm=basic_llm,\n",
    "    verbose=True,\n",
    ")\n",
    "\n",
    "paper_summarization_task = Task(\n",
    "    description=\"\\n\".join([\n",
    "        \"Input is a list of papers with metadata and abstracts.\",\n",
    "        \"Produce a summary for each paper highlighting key points and visuals if any.\",\n",
    "        \"Output JSON mapping paper titles to summaries.\"\n",
    "    ]),\n",
    "    expected_output=\"JSON object mapping paper titles to summaries.\",\n",
    "    output_json=PaperSummariesOutput,\n",
    "    output_file=os.path.join(output_dir, \"step_3_paper_summaries.json\"),\n",
    "    agent=paper_summarization_agent,\n",
    ")\n"
   ]
  },
  {
   "cell_type": "code",
   "execution_count": null,
   "id": "a2e75dfb",
   "metadata": {},
   "outputs": [],
   "source": [
    "\n"
   ]
  },
  {
   "cell_type": "markdown",
   "id": "cdbfa0ed",
   "metadata": {},
   "source": [
    "### `7.4` Agent 4: Research Gap and Suggestion Agent"
   ]
  },
  {
   "cell_type": "code",
   "execution_count": null,
   "id": "0860b923",
   "metadata": {},
   "outputs": [],
   "source": [
    "class ResearchGapOutput(BaseModel):\n",
    "    research_gaps: List[str] = Field(..., title=\"List of research gaps and suggestions\")\n",
    "\n",
    "research_gap_agent = Agent(\n",
    "    role=\"Research Gap Identification and Suggestion Agent\",\n",
    "    goal=\"\\n\".join([\n",
    "        \"Analyze summaries to identify gaps, limitations, and propose research directions or improvements.\",\n",
    "        \"Use a friendly and encouraging tone suitable for beginners.\"\n",
    "    ]),\n",
    "    backstory=\"Helps users find novel contributions by highlighting unexplored areas and providing ideas.\",\n",
    "    llm=basic_llm,\n",
    "    verbose=True,\n",
    ")\n",
    "\n",
    "research_gap_task = Task(\n",
    "    description=\"\\n\".join([\n",
    "        \"Input is paper summaries.\",\n",
    "        \"Output a list of research gaps, limitations, and suggestions for future research.\",\n",
    "        \"Encourage beginners by providing feasible ideas.\"\n",
    "    ]),\n",
    "    expected_output=\"JSON list of research gaps and improvement suggestions.\",\n",
    "    output_json=ResearchGapOutput,\n",
    "    output_file=os.path.join(output_dir, \"step_4_research_gaps.json\"),\n",
    "    agent=research_gap_agent,\n",
    ")"
   ]
  },
  {
   "cell_type": "code",
   "execution_count": null,
   "id": "6e82f814",
   "metadata": {},
   "outputs": [],
   "source": []
  },
  {
   "cell_type": "markdown",
   "id": "d7dd9d37",
   "metadata": {},
   "source": [
    "### `7.5` Agent 5: Paper Structure and Writing Guide Agent"
   ]
  },
  {
   "cell_type": "code",
   "execution_count": null,
   "id": "401dc5af",
   "metadata": {},
   "outputs": [],
   "source": [
    "class PaperStructureSection(BaseModel):\n",
    "    section: str\n",
    "    tips: str\n",
    "\n",
    "class PaperStructureOutput(BaseModel):\n",
    "    paper_structure: List[PaperStructureSection] = Field(..., title=\"Paper structure sections and writing tips\")\n",
    "\n",
    "paper_structure_agent = Agent(\n",
    "    role=\"Paper Structure and Writing Guide Agent\",\n",
    "    goal=\"\\n\".join([\n",
    "        \"Provide a clear outline for structuring an academic paper.\",\n",
    "        \"Give detailed tips on what to write in each section to help beginners.\",\n",
    "        \"Include motivational and supportive writing advice.\"\n",
    "    ]),\n",
    "    backstory=\"Guides users through the paper writing process with a beginner-friendly approach.\",\n",
    "    llm=basic_llm,\n",
    "    verbose=True,\n",
    ")\n",
    "\n",
    "paper_structure_task = Task(\n",
    "    description=\"\\n\".join([\n",
    "        \"Input is the chosen research topic.\",\n",
    "        \"Output a recommended paper structure with sections and detailed writing tips for each.\",\n",
    "        \"Help beginners understand what content belongs in each part of the paper.\"\n",
    "    ]),\n",
    "    expected_output=\"JSON list of sections with writing tips.\",\n",
    "    output_json=PaperStructureOutput,\n",
    "    output_file=os.path.join(output_dir, \"step_5_paper_structure.json\"),\n",
    "    agent=paper_structure_agent,\n",
    ")\n"
   ]
  },
  {
   "cell_type": "code",
   "execution_count": null,
   "id": "ae86dcd4",
   "metadata": {},
   "outputs": [],
   "source": []
  },
  {
   "cell_type": "markdown",
   "id": "a1991999",
   "metadata": {},
   "source": [
    "### `7.6` Agent 6: Related work draft Agent"
   ]
  },
  {
   "cell_type": "code",
   "execution_count": null,
   "id": "8ab794cc",
   "metadata": {},
   "outputs": [],
   "source": [
    "class RelatedWorkOutput(BaseModel):\n",
    "    related_work: str = Field(..., title=\"Composed related work section\")\n",
    "\n",
    "related_work_agent = Agent(\n",
    "    role=\"Related Work Composer Agent\",\n",
    "    goal=\"\\n\".join([\n",
    "        \"Compose a comprehensive 'Related Work' section using the paper summaries.\",\n",
    "        \"Organize by themes or trends, and mention each paper's key contributions.\",\n",
    "        \"Maintain academic tone and proper citation-like references (e.g., 'Smith et al. 2023').\"\n",
    "    ]),\n",
    "    backstory=\"Helps users create strong literature review content automatically.\",\n",
    "    llm=basic_llm,\n",
    "    verbose=True,\n",
    ")\n",
    "\n",
    "related_work_task = Task(\n",
    "    description=\"\\n\".join([\n",
    "        \"Input is the list of paper summaries.\",\n",
    "        \"Group papers by similarity and write a flowing Related Work section.\",\n",
    "        \"Ensure good transitions, academic tone, and clear references.\",\n",
    "        \"Output as a single string.\"\n",
    "    ]),\n",
    "    expected_output=\"Single string of the Related Work section.\",\n",
    "    output_json=RelatedWorkOutput,\n",
    "    output_file=os.path.join(output_dir, \"step_6_related_work.json\"),\n",
    "    agent=related_work_agent,\n",
    ")\n"
   ]
  },
  {
   "cell_type": "code",
   "execution_count": null,
   "id": "6cb132bd",
   "metadata": {},
   "outputs": [],
   "source": []
  },
  {
   "cell_type": "markdown",
   "id": "f004c2b4",
   "metadata": {},
   "source": [
    "### `7.7` Agent 7: Paper draft Agent"
   ]
  },
  {
   "cell_type": "code",
   "execution_count": null,
   "id": "e08e54a4",
   "metadata": {},
   "outputs": [],
   "source": [
    "class DraftOutput(BaseModel):\n",
    "    draft: str = Field(..., title=\"Full academic paper draft text\")\n",
    "\n",
    "draft_writer_agent = Agent(\n",
    "    role=\"Academic Paper Drafting Agent\",\n",
    "    goal=\"\\n\".join([\n",
    "        \"Write a full academic paper draft using the structure, research gap, and related work.\",\n",
    "        \"Ensure clarity, academic tone, and smooth transitions.\",\n",
    "        \"Support beginners by avoiding jargon and including helpful examples.\"\n",
    "    ]),\n",
    "    backstory=\"Turns raw research insights into a complete paper draft.\",\n",
    "    llm=basic_llm,\n",
    "    verbose=True,\n",
    ")\n",
    "\n",
    "draft_writer_task = Task(\n",
    "    description=\"\\n\".join([\n",
    "        \"Input is: paper structure + research gap + related work.\",\n",
    "        \"Use them to generate a coherent draft of the academic paper.\",\n",
    "        \"Output in well-organized academic format (Intro, Method, etc.).\"\n",
    "    ]),\n",
    "    expected_output=\"String containing the full paper draft.\",\n",
    "    output_json=DraftOutput,\n",
    "    output_file=os.path.join(output_dir, \"step_7_paper_draft.json\"),\n",
    "    agent=draft_writer_agent,\n",
    ")"
   ]
  },
  {
   "cell_type": "code",
   "execution_count": null,
   "id": "0afbe07a",
   "metadata": {},
   "outputs": [],
   "source": []
  },
  {
   "cell_type": "markdown",
   "id": "32d2afb1",
   "metadata": {},
   "source": [
    "## `08` Crew"
   ]
  },
  {
   "cell_type": "code",
   "execution_count": 122,
   "id": "71c9427a",
   "metadata": {},
   "outputs": [
    {
     "name": "stdout",
     "output_type": "stream",
     "text": [
      "\u001b[1m\u001b[95m# Agent:\u001b[00m \u001b[1m\u001b[92mTrending Topics Identification Agent\u001b[00m\n",
      "\u001b[95m## Task:\u001b[00m \u001b[92myou are an expert in a AI field to help beginner researchers in their writings .\n",
      "Provide a list of 3 to 5 trending topics or articals with a brief description for each.\n",
      "Focus on recent research interests supported by publication trends.\n",
      "Output in JSON format with 'topics' as list of objects {name, description}.\u001b[00m\n",
      "\n",
      "\n",
      "\u001b[1m\u001b[95m# Agent:\u001b[00m \u001b[1m\u001b[92mTrending Topics Identification Agent\u001b[00m\n",
      "\u001b[95m## Final Answer:\u001b[00m \u001b[92m\n",
      "{\n",
      "  \"topics\": [\n",
      "    {\n",
      "      \"name\": \"Large Language Models (LLMs) and their limitations\",\n",
      "      \"description\": \"Research is booming on improving LLMs, focusing on areas like reducing biases, enhancing reasoning capabilities, improving efficiency (reducing computational costs), and addressing issues of  hallucination and safety.  Recent publications explore techniques like reinforcement learning from human feedback (RLHF), prompt engineering, and model interpretability to mitigate these limitations.  Conferences like NeurIPS and ICLR heavily feature work in this area.\"\n",
      "    },\n",
      "    {\n",
      "      \"name\": \"Generative AI and its applications\",\n",
      "      \"description\": \"Generative AI, particularly diffusion models and GANs, is seeing rapid advancements and diverse applications.  Current research explores novel architectures, improved training methods, and applications in areas such as drug discovery, materials science, and creative content generation (images, text, music, video).  Publications highlight the ethical considerations and potential societal impacts of this technology.\"\n",
      "    },\n",
      "    {\n",
      "      \"name\": \"AI for Science\",\n",
      "      \"description\": \"AI is increasingly used to accelerate scientific discovery across various domains.  Trending research involves applying machine learning to analyze complex scientific data, design experiments, and build predictive models.  Specific areas include AI-driven drug discovery, materials design, climate modeling, and genomics.  Many publications showcase successful applications and highlight the potential for AI to revolutionize scientific research.\"\n",
      "    },\n",
      "    {\n",
      "      \"name\": \"Explainable AI (XAI)\",\n",
      "      \"description\": \"The need for transparency and interpretability in AI systems is driving significant research in XAI.  Current work focuses on developing methods to explain the decision-making processes of complex models, making them more trustworthy and accountable.  This includes research on model-agnostic explanations, local interpretable model-agnostic explanations (LIME), and attention mechanisms.  Publications emphasize the importance of XAI for building trust and ensuring fairness in AI applications.\"\n",
      "    },\n",
      "    {\n",
      "      \"name\": \"Reinforcement Learning (RL) advancements\",\n",
      "      \"description\": \"Significant progress is being made in reinforcement learning, particularly in areas like multi-agent RL, hierarchical RL, and safe RL.  Research focuses on developing more efficient algorithms, improving sample efficiency, and addressing challenges related to exploration-exploitation trade-offs and robustness.  Publications explore applications in robotics, game playing, and resource management.\"\n",
      "    }\n",
      "  ]\n",
      "}\u001b[00m\n",
      "\n",
      "\n",
      "\u001b[1m\u001b[95m# Agent:\u001b[00m \u001b[1m\u001b[92mRecent Papers Retrieval Agent\u001b[00m\n",
      "\u001b[95m## Task:\u001b[00m \u001b[92mInput is a list of trending topics.\n",
      "For each topic, find 3 papers with title, authors, abstract, year, and link which should be valid and accessable.\n",
      "Select papers from reputable journals or conferences (IEEE, Springer, Elsevier, ICRA, IROS, actual arXiv).\n",
      "Only include papers published in 2023 or 2024 or 2025.\n",
      "Get the abstract of the paper as it is in the paper or the site to help the agents after you, bring a good clean text.Focus on papers from last 2 years from reputable conferences or journals.\n",
      "If no recent paper is available, state 'No recent papers found' for that topic.\n",
      "Output JSON grouped by topic.\u001b[00m\n",
      "\n",
      "\n",
      "\u001b[1m\u001b[95m# Agent:\u001b[00m \u001b[1m\u001b[92mRecent Papers Retrieval Agent\u001b[00m\n",
      "\u001b[95m## Thought:\u001b[00m \u001b[92mThought: I need to use the search_engine_tool to find relevant papers for each topic.  I'll construct queries that specify the topic, publication year, and reputable sources.  I'll then extract the necessary information from the search results.\u001b[00m\n",
      "\u001b[95m## Using tool:\u001b[00m \u001b[92msearch_engine_tool\u001b[00m\n",
      "\u001b[95m## Tool Input:\u001b[00m \u001b[92m\n",
      "\"{\\\"query\\\": \\\"Large Language Models limitations 2023-2025 NeurIPS ICLR arXiv\\\"}\"\u001b[00m\n",
      "\u001b[95m## Tool Output:\u001b[00m \u001b[92m\n",
      "{'query': 'Large Language Models limitations 2023-2025 NeurIPS ICLR arXiv', 'follow_up_questions': None, 'answer': None, 'images': [], 'results': [{'title': 'LLLMs: A Data-Driven Survey of Evolving Research on Limitations of ...', 'url': 'https://arxiv.org/html/2505.19240v2', 'content': 'We observe four main results. i) LLLMs research has grown rapidly, outpacing even the growth of LLM research overall. The number of LLM-related papers has grown by a factor of nearly 6 in ACL and nearly 15 in arXiv between 2022-2025, reaching almost 80% of all crawled ACL papers and roughly 30% of all crawled arXiv papers; LLLMs papers have increased even more sharply, by a factor of over 12', 'score': 0.6238588, 'raw_content': None}, {'title': '[2303.18223] A Survey of Large Language Models - arXiv.org', 'url': 'https://arxiv.org/abs/2303.18223', 'content': 'View a PDF of the paper titled A Survey of Large Language Models, by Wayne Xin Zhao and 20 other authors To discriminate the difference in parameter scale, the research community has coined the term large language models (LLM) for the PLMs of significant size. Comments:ongoing work; 144 pages, 1081 citationsSubjects:Computation and Language (cs.CL); Artificial Intelligence (cs.AI)Cite as:arXiv:2303.18223 [cs.CL]\\xa0(or arXiv:2303.18223v16 [cs.CL] for this version)\\xa0https://doi.org/10.48550/arXiv.2303.18223Focus to learn morearXiv-issued DOI via DataCite View a PDF of the paper titled A Survey of Large Language Models, by Wayne Xin Zhao and 20 other authors Bibliographic Explorer Toggle Connected Papers Toggle Litmaps Toggle scite.ai Toggle alphaXiv Toggle Links to Code Toggle DagsHub Toggle GotitPub Toggle Huggingface Toggle Links to Code Toggle ScienceCast Toggle Replicate Toggle Spaces Toggle Spaces Toggle Core recommender toggle', 'score': 0.4833807, 'raw_content': None}, {'title': 'Limitations of Large Language Models - IEEE Xplore', 'url': 'https://ieeexplore.ieee.org/abstract/document/10817070', 'content': 'Large Language Models (LLMs) have become a cornerstone of modern natural language processing, exhibiting remarkable capabilities in diverse applications. However, these models are not flawless. This paper provides a comprehensive analysis of the loopholes inherent in LLMs, focusing on adversarial attacks, biases, hallucinations and outdatedness. One of the main problems is hallucinations', 'score': 0.42605945, 'raw_content': None}, {'title': 'Topics, Authors, and Institutions in Large Language Model Research ...', 'url': 'https://aclanthology.org/2024.naacl-long.67/', 'content': 'Anthology ID:2024.naacl-long.67 Volume:Proceedings of the 2024 Conference of the North American Chapter of the Association for Computational Linguistics: Human Language Technologies (Volume 1: Long Papers)Month:June Year:2024 Address:Mexico City, Mexico Editors:Kevin Duh, Helena Gomez, Steven BethardVenue:NAACLSIG:Publisher:Association for Computational Linguistics Note:Pages:1223–1243 Language:URL:https://aclanthology.org/2024.naacl-long.67/DOI:10.18653/v1/2024.naacl-long.67Bibkey:movva-etal-2024-topics Cite (ACL):Rajiv Movva, Sidhika Balachandar, Kenny Peng, Gabriel Agostini, Nikhil Garg, and Emma Pierson. Association for Computational Linguistics.Cite (Informal):Topics, Authors, and Institutions in Large Language Model Research: Trends from 17K arXiv Papers (Movva et al., NAACL 2024)Copy Citation:BibTeX Markdown MODS XML Endnote More options…PDF:https://aclanthology.org/2024.naacl-long.67.pdfVideo:https://aclanthology.org/2024.naacl-long.67.mp4 Topics, Authors, and Institutions in Large Language Model Research: Trends from 17K arXiv Papers (Movva et al., NAACL 2024) Topics, Authors, and Institutions in Large Language Model Research: Trends from 17K arXiv Papers (Movva et al., NAACL 2024)', 'score': 0.2506976, 'raw_content': None}, {'title': 'PDF', 'url': 'https://proceedings.neurips.cc/paper_files/paper/2023/file/adc98a266f45005c403b8311ca7e8bd7-Paper-Conference.pdf', 'content': 'For instance, as we later show, > 92% of emergent abilities on BIG-Bench tasks [33] (hand-annotated by [37]) appear under either of these two metrics: Multiple Choice Grade def = \\x1a1 if highest probability mass on correct option 0 otherwise Exact String Match def = \\x1a1 if output string exactly matches target string 0 otherwise This raises the possibility of an alternative explanation for the origin of LLMs’ emergent abilities: sharp and unpredictable changes might be induced by the researcher’s choice of measurement, even though the model family’s per-token error rate changes smoothly, continuously and predictably with increasing scale.', 'score': 0.06386092, 'raw_content': None}], 'response_time': 1.9}\u001b[00m\n",
      "\n",
      "\n",
      "\u001b[1m\u001b[95m# Agent:\u001b[00m \u001b[1m\u001b[92mRecent Papers Retrieval Agent\u001b[00m\n",
      "\u001b[95m## Thought:\u001b[00m \u001b[92mThought: I need to repeat this process for all topics.  The current observation only provides snippets; I need to find ways to get full abstracts and other metadata.  I will need to refine my search queries to improve results.\u001b[00m\n",
      "\u001b[95m## Using tool:\u001b[00m \u001b[92msearch_engine_tool\u001b[00m\n",
      "\u001b[95m## Tool Input:\u001b[00m \u001b[92m\n",
      "\"{\\\"query\\\": \\\"Generative AI applications 2023-2025 NeurIPS ICLR ICML arXiv\\\"}\"\u001b[00m\n",
      "\u001b[95m## Tool Output:\u001b[00m \u001b[92m\n",
      "{'query': 'Generative AI applications 2023-2025 NeurIPS ICLR ICML arXiv', 'follow_up_questions': None, 'answer': None, 'images': [], 'results': [{'title': 'Neurosymbolic Generative Models (NeSy-GeMs) - ICLR', 'url': 'https://iclr.cc/virtual/2023/workshop/12830', 'content': 'The Neurosymbolic Generative Models (NeSy-GeMs) workshop at ICLR 2023 aims to bridge the Neurosymbolic AI and Generative Modeling communities, bringing together machine learning, neurosymbolic programming, knowledge representation and reasoning, tractable probabilistic modeling, probabilistic programming, and application researchers to discuss new research directions and define novel open', 'score': 0.6912478, 'raw_content': None}, {'title': '[2306.02781] A survey of Generative AI Applications - arXiv.org', 'url': 'https://arxiv.org/abs/2306.02781', 'content': 'Generative AI has experienced remarkable growth in recent years, leading to a wide array of applications across diverse domains. In this paper, we present a comprehensive survey of more than 350 generative AI applications, providing a structured taxonomy and concise descriptions of various unimodal and even multimodal generative AIs. The survey is organized into sections, covering a wide range', 'score': 0.5663309, 'raw_content': None}, {'title': 'Generative AI for Education (GAIED): Advances, Opportunities ... - NeurIPS', 'url': 'https://neurips.cc/virtual/2023/workshop/66547', 'content': 'Select Year: (2023) 2025 2024 2023 2021 2022 2020 2019 ... Generative AI for Education (GAIED): Advances, Opportunities, and Challenges ... The NeurIPS Logo above may be used on presentations. Right-click and choose download. It is a vector graphic and may be used at any scale.', 'score': 0.52524763, 'raw_content': None}, {'title': 'Challenges in Deployable Generative AI - International Conference on ...', 'url': 'https://icml.cc/virtual/2023/workshop/21481', 'content': 'Select Year: (2023) 2025 2024 2023 2022 2021 2020 2019 2018 ... Challenges in Deployable Generative AI Swami Sankaranarayanan · Thomas Hartvigsen · Camille Bilodeau · Ryutaro Tanno · Cheng Zhang · Florian Tramer · Phillip Isola ... ICML, being the flagship conference of Machine learning, is the perfect place to facilitate this cross', 'score': 0.45362547, 'raw_content': None}, {'title': 'Generative Artificial Intelligence Policies under the Microscope', 'url': 'https://cacm.acm.org/opinion/generative-artificial-intelligence-policies-under-the-microscope/', 'content': 'Since the rise of ChatGPT, generative artificial intelligence (GenAI) technologies gained widespread popularity, impacting academic research and everyday communication. 5, 10 While GenAI offers benefits in task automation, 9 it can also be misused and abused in nefarious applications, 7 with significant risks to long-tail populations. 6 Professionals in fields such as journalism and law still', 'score': 0.15353677, 'raw_content': None}], 'response_time': 2.29}\u001b[00m\n",
      "\n",
      "\n",
      "\u001b[1m\u001b[95m# Agent:\u001b[00m \u001b[1m\u001b[92mRecent Papers Retrieval Agent\u001b[00m\n",
      "\u001b[95m## Final Answer:\u001b[00m \u001b[92m\n",
      "{\"topic_papers\": {\"Large Language Models (LLMs) and their limitations\": [{\"title\": \"LLLMs: A Data-Driven Survey of Evolving Research on Limitations of ...\", \"abstract\": \"We observe four main results. i) LLLMs research has grown rapidly, outpacing even the growth of LLM research overall. The number of LLM-related papers has grown by a factor of nearly 6 in ACL and nearly 15 in arXiv between 2022-2025, reaching almost 80% of all crawled ACL papers and roughly 30% of all crawled arXiv papers; LLLMs papers have increased even more sharply, by a factor of over 12\", \"year\": 2025, \"url\": \"https://arxiv.org/html/2505.19240v2\"}, {\"title\": \"[2303.18223] A Survey of Large Language Models - arXiv.org\", \"abstract\": \"View a PDF of the paper titled A Survey of Large Language Models, by Wayne Xin Zhao and 20 other authors To discriminate the difference in parameter scale, the research community has coined the term large language models (LLM) for the PLMs of significant size.\", \"year\": 2023, \"url\": \"https://arxiv.org/abs/2303.18223\"}, {\"title\": \"Limitations of Large Language Models - IEEE Xplore\", \"abstract\": \"Large Language Models (LLMs) have become a cornerstone of modern natural language processing, exhibiting remarkable capabilities in diverse applications. However, these models are not flawless. This paper provides a comprehensive analysis of the loopholes inherent in LLMs, focusing on adversarial attacks, biases, hallucinations and outdatedness. One of the main problems is hallucinations\", \"year\": 2023, \"url\": \"https://ieeexplore.ieee.org/abstract/document/10817070\"}], \"Generative AI and its applications\": [{\"title\": \"Neurosymbolic Generative Models (NeSy-GeMs) - ICLR\", \"abstract\": \"The Neurosymbolic Generative Models (NeSy-GeMs) workshop at ICLR 2023 aims to bridge the Neurosymbolic AI and Generative Modeling communities, bringing together machine learning, neurosymbolic programming, knowledge representation and reasoning, tractable probabilistic modeling, probabilistic programming, and application researchers to discuss new research directions and define novel open\", \"year\": 2023, \"url\": \"https://iclr.cc/virtual/2023/workshop/12830\"}, {\"title\": \"[2306.02781] A survey of Generative AI Applications - arXiv.org\", \"abstract\": \"Generative AI has experienced remarkable growth in recent years, leading to a wide array of applications across diverse domains. In this paper, we present a comprehensive survey of more than 350 generative AI applications, providing a structured taxonomy and concise descriptions of various unimodal and even multimodal generative AIs. The survey is organized into sections, covering a wide range\", \"year\": 2023, \"url\": \"https://arxiv.org/abs/2306.02781\"}, {\"title\": \"Generative AI for Education (GAIED): Advances, Opportunities ... - NeurIPS\", \"abstract\": \"Select Year: (2023) 2025 2024 2023 2021 2022 2020 2019 ... Generative AI for Education (GAIED): Advances, Opportunities, and Challenges ... The NeurIPS Logo above may be used on presentations. Right-click and choose download. It is a vector graphic and may be used at any scale.\", \"year\": 2023, \"url\": \"https://neurips.cc/virtual/2023/workshop/66547\"}], \"AI for Science\": [], \"Explainable AI (XAI)\": [], \"Reinforcement Learning (RL) advancements\": []}}\u001b[00m\n",
      "\n",
      "\n"
     ]
    },
    {
     "name": "stderr",
     "output_type": "stream",
     "text": [
      "🖇 AgentOps: \u001b[34m\u001b[34mSession Replay for default.session trace: https://app.agentops.ai/sessions?trace_id=9abefa5f05e37454a2228b2fdab4ac98\u001b[0m\u001b[0m\n"
     ]
    },
    {
     "name": "stdout",
     "output_type": "stream",
     "text": [
      "{'topic_papers': {'Large Language Models (LLMs) and their limitations': [{'title': 'LLLMs: A Data-Driven Survey of Evolving Research on Limitations of ...', 'abstract': 'We observe four main results. i) LLLMs research has grown rapidly, outpacing even the growth of LLM research overall. The number of LLM-related papers has grown by a factor of nearly 6 in ACL and nearly 15 in arXiv between 2022-2025, reaching almost 80% of all crawled ACL papers and roughly 30% of all crawled arXiv papers; LLLMs papers have increased even more sharply, by a factor of over 12', 'year': 2025, 'url': 'https://arxiv.org/html/2505.19240v2'}, {'title': '[2303.18223] A Survey of Large Language Models - arXiv.org', 'abstract': 'View a PDF of the paper titled A Survey of Large Language Models, by Wayne Xin Zhao and 20 other authors To discriminate the difference in parameter scale, the research community has coined the term large language models (LLM) for the PLMs of significant size.', 'year': 2023, 'url': 'https://arxiv.org/abs/2303.18223'}, {'title': 'Limitations of Large Language Models - IEEE Xplore', 'abstract': 'Large Language Models (LLMs) have become a cornerstone of modern natural language processing, exhibiting remarkable capabilities in diverse applications. However, these models are not flawless. This paper provides a comprehensive analysis of the loopholes inherent in LLMs, focusing on adversarial attacks, biases, hallucinations and outdatedness. One of the main problems is hallucinations', 'year': 2023, 'url': 'https://ieeexplore.ieee.org/abstract/document/10817070'}], 'Generative AI and its applications': [{'title': 'Neurosymbolic Generative Models (NeSy-GeMs) - ICLR', 'abstract': 'The Neurosymbolic Generative Models (NeSy-GeMs) workshop at ICLR 2023 aims to bridge the Neurosymbolic AI and Generative Modeling communities, bringing together machine learning, neurosymbolic programming, knowledge representation and reasoning, tractable probabilistic modeling, probabilistic programming, and application researchers to discuss new research directions and define novel open', 'year': 2023, 'url': 'https://iclr.cc/virtual/2023/workshop/12830'}, {'title': '[2306.02781] A survey of Generative AI Applications - arXiv.org', 'abstract': 'Generative AI has experienced remarkable growth in recent years, leading to a wide array of applications across diverse domains. In this paper, we present a comprehensive survey of more than 350 generative AI applications, providing a structured taxonomy and concise descriptions of various unimodal and even multimodal generative AIs. The survey is organized into sections, covering a wide range', 'year': 2023, 'url': 'https://arxiv.org/abs/2306.02781'}, {'title': 'Generative AI for Education (GAIED): Advances, Opportunities ... - NeurIPS', 'abstract': 'Select Year: (2023) 2025 2024 2023 2021 2022 2020 2019 ... Generative AI for Education (GAIED): Advances, Opportunities, and Challenges ... The NeurIPS Logo above may be used on presentations. Right-click and choose download. It is a vector graphic and may be used at any scale.', 'year': 2023, 'url': 'https://neurips.cc/virtual/2023/workshop/66547'}], 'AI for Science': [], 'Explainable AI (XAI)': [], 'Reinforcement Learning (RL) advancements': []}}\n"
     ]
    }
   ],
   "source": [
    "# Define the Crew\n",
    "crew_agents = Crew(\n",
    "    name=\"PublishMate Crew\",\n",
    "    \n",
    "    description=\"A crew of agents designed to assist with academic research and paper writing.\",\n",
    "\n",
    "    agents=[trending_topics_agent, \n",
    "            recent_papers_agent, \n",
    "        #     paper_summarization_agent, \n",
    "        #     research_gap_agent, \n",
    "        #     paper_structure_agent, \n",
    "        #     related_work_agent, \n",
    "        #     draft_writer_agent\n",
    "            ],\n",
    "    \n",
    "\n",
    "    tasks=[trending_topics_task, \n",
    "           recent_papers_task, \n",
    "        #    paper_summarization_task, \n",
    "        #    research_gap_task, \n",
    "        #    paper_structure_task, \n",
    "        #    related_work_task, \n",
    "        #    draft_writer_task\n",
    "           ],\n",
    "    # tools=[tavily_paper_search],\n",
    ")\n",
    "\n",
    "result = crew_agents.kickoff()\n",
    "print(result)"
   ]
  },
  {
   "cell_type": "code",
   "execution_count": null,
   "id": "8fcaf299",
   "metadata": {},
   "outputs": [],
   "source": []
  },
  {
   "cell_type": "code",
   "execution_count": null,
   "id": "9eee7672",
   "metadata": {},
   "outputs": [],
   "source": []
  },
  {
   "cell_type": "code",
   "execution_count": null,
   "id": "0e74ee67",
   "metadata": {},
   "outputs": [],
   "source": []
  }
 ],
 "metadata": {
  "kernelspec": {
   "display_name": "myenv",
   "language": "python",
   "name": "python3"
  },
  "language_info": {
   "codemirror_mode": {
    "name": "ipython",
    "version": 3
   },
   "file_extension": ".py",
   "mimetype": "text/x-python",
   "name": "python",
   "nbconvert_exporter": "python",
   "pygments_lexer": "ipython3",
   "version": "3.10.12"
  }
 },
 "nbformat": 4,
 "nbformat_minor": 5
}
