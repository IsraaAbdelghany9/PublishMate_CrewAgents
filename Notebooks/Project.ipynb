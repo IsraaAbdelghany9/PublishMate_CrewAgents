{
 "cells": [
  {
   "cell_type": "markdown",
   "id": "92381477",
   "metadata": {},
   "source": [
    "<center>\n",
    "<h1 style=\"color: pink;\">Welcome to Publish Mate 😊</h1>\n",
    "</center>"
   ]
  },
  {
   "cell_type": "markdown",
   "id": "b314677e",
   "metadata": {},
   "source": [
    "Further improvements :\n",
    "- feed back with like and dislike\n",
    "- option to summerize using the whole paper (or other option to mention someone did it before)"
   ]
  },
  {
   "cell_type": "markdown",
   "id": "6c54e823",
   "metadata": {},
   "source": [
    "## `00` Download Dependencies"
   ]
  },
  {
   "cell_type": "code",
   "execution_count": 3,
   "id": "920394f5",
   "metadata": {},
   "outputs": [],
   "source": [
    "# !pip3 install -U \"crewai[tools,agentops]\""
   ]
  },
  {
   "cell_type": "code",
   "execution_count": 4,
   "id": "5c22d156",
   "metadata": {},
   "outputs": [],
   "source": [
    "# !pip3 install python-dotenv\n",
    "# !pip3 install gcloud\n",
    "# !pip3 install google-genai"
   ]
  },
  {
   "cell_type": "markdown",
   "id": "df34b606",
   "metadata": {},
   "source": [
    "## `01` Import Libraries"
   ]
  },
  {
   "cell_type": "code",
   "execution_count": 5,
   "id": "f019b3bb",
   "metadata": {},
   "outputs": [
    {
     "name": "stderr",
     "output_type": "stream",
     "text": [
      "/home/israa/Desktop/PublishMate_CrewAgents/myenv/lib/python3.10/site-packages/tqdm/auto.py:21: TqdmWarning: IProgress not found. Please update jupyter and ipywidgets. See https://ipywidgets.readthedocs.io/en/stable/user_install.html\n",
      "  from .autonotebook import tqdm as notebook_tqdm\n"
     ]
    }
   ],
   "source": [
    "from dotenv import load_dotenv\n",
    "import os\n",
    "import google.generativeai as genai"
   ]
  },
  {
   "cell_type": "code",
   "execution_count": 6,
   "id": "f80e8137",
   "metadata": {},
   "outputs": [],
   "source": [
    "from crewai import Agent, Task, Crew, Process, LLM\n",
    "from crewai.tools import tool\n",
    "from crewai.knowledge.source.string_knowledge_source import StringKnowledgeSource\n",
    "from crewai.llms.base_llm import BaseLLM\n",
    "\n",
    "from pydantic import BaseModel, Field, HttpUrl\n",
    "from typing import List, Dict\n",
    "\n",
    "import agentops\n",
    "import json\n",
    "import gcloud\n",
    "import google.generativeai as genai\n",
    "from dotenv import load_dotenv\n",
    "from vertexai.preview.generative_models import Content, Part\n",
    "\n",
    "from tavily import TavilyClient\n",
    "from crewai.tools import tool\n"
   ]
  },
  {
   "cell_type": "markdown",
   "id": "aa5052a2",
   "metadata": {},
   "source": [
    "## `02` load api key"
   ]
  },
  {
   "cell_type": "code",
   "execution_count": 7,
   "id": "a8f68d5d",
   "metadata": {},
   "outputs": [
    {
     "data": {
      "text/plain": [
       "True"
      ]
     },
     "execution_count": 7,
     "metadata": {},
     "output_type": "execute_result"
    }
   ],
   "source": [
    "load_dotenv()  # Load from .env"
   ]
  },
  {
   "cell_type": "code",
   "execution_count": 8,
   "id": "5b060e4a",
   "metadata": {},
   "outputs": [],
   "source": [
    "AGENTOPS_API_KEY = os.getenv(\"AGENTOPS_API_KEY\") # replace by yours"
   ]
  },
  {
   "cell_type": "code",
   "execution_count": 9,
   "id": "54b0bd3f",
   "metadata": {},
   "outputs": [],
   "source": [
    "OPENAI_API_KEY = os.getenv(\"OPENAI_API_KEY\")\n",
    "GEMINI_API_KEY = os.getenv(\"GEMINI_API_KEY\")\n",
    "PROJECT_ID = os.getenv(\"PROJECT_ID\")\n",
    "PROJECT_NAME = os.getenv(\"PROJECT_NAME\")\n",
    "\n",
    "TAVILY_API_KEY = os.getenv(\"TAVILY_API_KEY\")\n",
    "\n",
    "# SERPER_API_KEY = os.getenv(\"SERPERDEV_API_KEY\")\n",
    "# os.environ[\"SERPER_API_KEY\"] = SERPER_API_KEY\n",
    "# os.environ[\"OPENAI_API_KEY\"] = OPENAI_API_KEY\n",
    "\n",
    "genai.configure(api_key=OPENAI_API_KEY)"
   ]
  },
  {
   "cell_type": "code",
   "execution_count": null,
   "id": "3a7c887c",
   "metadata": {},
   "outputs": [],
   "source": []
  },
  {
   "cell_type": "markdown",
   "id": "af609c4c",
   "metadata": {},
   "source": [
    "## `03` Start AgentOps session"
   ]
  },
  {
   "cell_type": "code",
   "execution_count": 10,
   "id": "d1fea026",
   "metadata": {},
   "outputs": [
    {
     "name": "stderr",
     "output_type": "stream",
     "text": [
      "🖇 AgentOps: \u001b[34m\u001b[34mSession Replay for default trace: https://app.agentops.ai/sessions?trace_id=da4a60d6b4d030cc01a1b4f38aac84cd\u001b[0m\u001b[0m\n"
     ]
    },
    {
     "data": {
      "text/plain": [
       "<agentops.legacy.Session at 0x71c7252a0430>"
      ]
     },
     "execution_count": 10,
     "metadata": {},
     "output_type": "execute_result"
    }
   ],
   "source": [
    "agentops.init(api_key=AGENTOPS_API_KEY,\n",
    "               skip_auto_end_session=True, # Set to True to skip auto ending the session\n",
    "               default_tags=['crewai']\n",
    "               ) "
   ]
  },
  {
   "cell_type": "markdown",
   "id": "23759094",
   "metadata": {},
   "source": [
    "The link will help us to monitor our agents"
   ]
  },
  {
   "cell_type": "markdown",
   "id": "85830ad2",
   "metadata": {},
   "source": [
    "### Make sure it works"
   ]
  },
  {
   "cell_type": "code",
   "execution_count": 11,
   "id": "77cb14b3",
   "metadata": {},
   "outputs": [],
   "source": [
    "# print(\"AgentOps session initialized.\")\n",
    "# print(agentops.session)  # optional, shows session info if available\n",
    "# print(agentops.__dict__)"
   ]
  },
  {
   "cell_type": "code",
   "execution_count": null,
   "id": "108edb31",
   "metadata": {},
   "outputs": [],
   "source": []
  },
  {
   "cell_type": "markdown",
   "id": "3d9a851f",
   "metadata": {},
   "source": [
    "## `04` Intro of the Crew"
   ]
  },
  {
   "cell_type": "code",
   "execution_count": 12,
   "id": "30fbf056",
   "metadata": {},
   "outputs": [
    {
     "name": "stdout",
     "output_type": "stream",
     "text": [
      "Welcome to PublishMate! I am your research assistant mate here to help you with your academic paper journey.\n",
      "I will guide you step-by-step to find trending topics, recent papers, summaries, research gaps, and help with paper writing. \n",
      "Let's get started!\n",
      "\n"
     ]
    }
   ],
   "source": [
    "intro_prompt = (\n",
    "    \"Welcome to PublishMate! I am your research assistant mate here to help you with your academic paper journey.\\n\"\n",
    "    \"I will guide you step-by-step to find trending topics, recent papers, summaries, \"\n",
    "    \"research gaps, and help with paper writing. \\nLet's get started!\\n\"\n",
    ")\n",
    "\n",
    "def welcome_message():\n",
    "    print(intro_prompt)\n",
    "\n",
    "# Run this at the very beginning\n",
    "welcome_message()"
   ]
  },
  {
   "cell_type": "markdown",
   "id": "10952041",
   "metadata": {},
   "source": [
    "## `05` Set Output dir"
   ]
  },
  {
   "cell_type": "code",
   "execution_count": 13,
   "id": "e9e08ec3",
   "metadata": {},
   "outputs": [],
   "source": [
    "output_dir = './PublishMate_agent_ouput'\n",
    "os.makedirs(output_dir, exist_ok=True)"
   ]
  },
  {
   "cell_type": "markdown",
   "id": "4c4da468",
   "metadata": {},
   "source": [
    "## `06` LLM will be used"
   ]
  },
  {
   "cell_type": "code",
   "execution_count": 14,
   "id": "dcadaeb7",
   "metadata": {},
   "outputs": [],
   "source": [
    "basic_llm = LLM(\n",
    "    model=\"gemini/gemini-1.5-flash\",\n",
    "    temperature=0.2,\n",
    "    provider=\"google_ai_studio\",\n",
    "    api_key=os.environ[\"GEMINI_API_KEY\"]\n",
    ")"
   ]
  },
  {
   "cell_type": "markdown",
   "id": "6e520829",
   "metadata": {},
   "source": [
    "## `07` START AGENTS"
   ]
  },
  {
   "cell_type": "markdown",
   "id": "46193487",
   "metadata": {},
   "source": [
    "### `7.1` Agent 1: Trending Topics Agent "
   ]
  },
  {
   "cell_type": "code",
   "execution_count": 15,
   "id": "84e2665c",
   "metadata": {},
   "outputs": [],
   "source": [
    "# !gcloud init"
   ]
  },
  {
   "cell_type": "code",
   "execution_count": 16,
   "id": "221034b3",
   "metadata": {},
   "outputs": [],
   "source": [
    "user_input = input(\"Enter your research field or keyword: \")"
   ]
  },
  {
   "cell_type": "code",
   "execution_count": 17,
   "id": "157f9964",
   "metadata": {},
   "outputs": [],
   "source": [
    "class TrendingTopicsOutput(BaseModel):\n",
    "    topics: List[Dict[str, str]] = Field(..., title=\"Trending topics with description\", min_items=1)\n",
    "\n",
    "trending_topics_agent = Agent(\n",
    "    role=\"Trending Topics Identification Agent\",\n",
    "\n",
    "    goal=\"\\n\".join([\n",
    "        f\"You are an expert research assistant that identifies the latest trending topics in the field of {user_input} only focus on it .\",\n",
    "        \"Generate a detailed list of the top 3-5 trending topics or recent articles reflecting advances and high interest in this field.\",\n",
    "        \"Base your answer on recent publication trends, conferences, or journal articles.\",\n",
    "        \"Do not include unrelated or general topics.\",\n",
    "        \"Output only a JSON object with a 'topics' list containing objects with 'name' and 'description'.\"\n",
    "    ]),\n",
    "    backstory=\"Designed to guide users by providing the most relevant and current trending research topics in their specified field.\",\n",
    "    llm=basic_llm,\n",
    "    verbose=True,\n",
    ")\n",
    "\n",
    "trending_topics_task = Task(\n",
    "    description=\"\\n\".join([\n",
    "        f\"you are an expert in a {user_input} field to help beginner researchers in their writings .\",\n",
    "        \"Provide a list of 3 to 5 trending topics or articals with a brief description for each.\",\n",
    "        \"Focus on recent research interests supported by publication trends.\",\n",
    "        \"Output in JSON format with 'topics' as list of objects {name, description}.\"\n",
    "    ]),\n",
    "    expected_output=\"JSON object with list of trending topics and descriptions.\",\n",
    "    output_json=TrendingTopicsOutput,\n",
    "    output_file=os.path.join(output_dir, \"step_1_trending_topics.json\"),\n",
    "    agent=trending_topics_agent,\n",
    ")"
   ]
  },
  {
   "cell_type": "code",
   "execution_count": null,
   "id": "4884d1cc",
   "metadata": {},
   "outputs": [],
   "source": []
  },
  {
   "cell_type": "markdown",
   "id": "64abc55a",
   "metadata": {},
   "source": [
    "### `7.2` Agent 2: Recent Papers Retrieval Agent"
   ]
  },
  {
   "cell_type": "code",
   "execution_count": 18,
   "id": "431507a0",
   "metadata": {},
   "outputs": [],
   "source": [
    "search_client = TavilyClient(api_key=TAVILY_API_KEY)\n",
    " \n",
    "@tool\n",
    "def search_engine_tool(query: str):\n",
    "    \"\"\"Useful for search-based queries. Use this to find current information about any query related pages using a search engine\"\"\"\n",
    "    return search_client.search(query)\n"
   ]
  },
  {
   "cell_type": "code",
   "execution_count": 19,
   "id": "cc7240fd",
   "metadata": {},
   "outputs": [],
   "source": [
    "class PaperInfo(BaseModel):\n",
    "    title: str  \n",
    "    year: int \n",
    "    url: str\n",
    "    abstract: str                                   \n",
    "\n",
    "\n",
    "class RecentPapersOutput(BaseModel):\n",
    "    topic_papers: Dict[str, List[PaperInfo]] = Field(..., title=\"Recent papers grouped by topic\")\n",
    "\n",
    "recent_papers_agent = Agent(\n",
    "    role=\"Recent Papers Retrieval Agent\",\n",
    "\n",
    "    goal = \"\\n\".join([\n",
    "        \"You are a research paper search assistant.\",\n",
    "        \"Given a list of trending topics, retrieve 3 recent, relevant publications per topic.\",\n",
    "        \"Select papers from reputable sources published within the last 2 years.(2023 or 2024 or 2025)\",\n",
    "        \"Provide title, authors, abstract, year, and valid URL for each paper.\",\n",
    "        \"the URL must be valid and accessible.\",\n",
    "        \"If no recent paper is available, state 'No recent papers found' for that topic.\",\n",
    "        \"Output in JSON format grouped by topic.\"]),\n",
    "\n",
    "    backstory=\"Helps beginner researchers quickly discover and review the latest relevant publications across the trending topics with the URLs that are valid and some info.\",\n",
    "\n",
    "    llm=basic_llm,\n",
    "    \n",
    "    verbose=True,\n",
    ")\n",
    "\n",
    "recent_papers_task = Task(\n",
    "    description=\"\\n\".join([\n",
    "        \"Input is a list of trending topics.\",\n",
    "        \"For each topic, find 3 papers with title, authors, abstract, year, and link which should be valid and accessable.\",\n",
    "        \"Select papers from reputable journals or conferences (IEEE, Springer, Elsevier, ICRA, IROS, actual arXiv).\",\n",
    "        \"Only include papers published in 2023 or 2024 or 2025.\",\n",
    "        \"Get the abstract of the paper as it is in the paper or the site to help the agents after you, bring a good clean text.\"\n",
    "        \"Focus on papers from last 2 years from reputable conferences or journals.\",\n",
    "        \"If no recent paper is available, state 'No recent papers found' for that topic.\",\n",
    "        \"Output JSON grouped by topic.\"\n",
    "    ]),\n",
    "    expected_output=\"JSON with topics as keys and list of paper info objects as values.\",\n",
    "    output_json=RecentPapersOutput,\n",
    "    output_file=os.path.join(output_dir, \"step_2_recent_papers.json\"),\n",
    "    agent=recent_papers_agent,\n",
    "    tools=[search_engine_tool],\n",
    "    \n",
    ")\n"
   ]
  },
  {
   "cell_type": "code",
   "execution_count": null,
   "id": "a2e75dfb",
   "metadata": {},
   "outputs": [],
   "source": [
    "\n"
   ]
  },
  {
   "cell_type": "markdown",
   "id": "cdbfa0ed",
   "metadata": {},
   "source": [
    "### `7.3` Agent 3: Research Gap and Suggestion Agent"
   ]
  },
  {
   "cell_type": "code",
   "execution_count": 21,
   "id": "0860b923",
   "metadata": {},
   "outputs": [],
   "source": [
    "class ResearchGapOutput(BaseModel):\n",
    "    research_gaps: List[str] = Field(..., title=\"List of research gaps and suggestions\")\n",
    "\n",
    "research_gap_agent = Agent(\n",
    "    role=\"Research Gap Identification and Suggestion Agent\",\n",
    "    goal=\"\\n\".join([\n",
    "        \"Analyze summaries to identify gaps, limitations, and propose research directions or improvements.\",\n",
    "        \"Use a friendly and encouraging tone suitable for beginners.\",\n",
    "        \"You will be given the data about the papers about that topic 3 papers for each topic with their year, abstaract, url, title .\",\n",
    "        \"analye the abstract to guess and detect gaps \",\n",
    "        \"Suggest these Gaps to the writer to can start from\"\n",
    "    ]),\n",
    "    backstory=\"Helps users find novel contributions by highlighting unexplored areas and providing ideas.\",\n",
    "    llm=basic_llm,\n",
    "    verbose=True,\n",
    ")\n",
    "\n",
    "research_gap_task = Task(\n",
    "    description=\"\\n\".join([\n",
    "        \"Input is paper summaries.\",\n",
    "        \"Output a list of research gaps, limitations, and suggestions for future research.\",\n",
    "        \"Encourage beginners by providing feasible ideas.\"\n",
    "        \"You will be given the data about the papers about that topic 3 papers for each topic with their year, abstaract, url, title .\",\n",
    "        \"analye the abstract to guess and detect gaps \",\n",
    "        \"Suggest these Gaps to the writer to can start from\"\n",
    "    ]),\n",
    "    expected_output=\"JSON list of research gaps and improvement suggestions.\",\n",
    "    output_json=ResearchGapOutput,\n",
    "    output_file=os.path.join(output_dir, \"step_4_research_gaps.json\"),\n",
    "    agent=research_gap_agent,\n",
    ")"
   ]
  },
  {
   "cell_type": "code",
   "execution_count": null,
   "id": "6e82f814",
   "metadata": {},
   "outputs": [],
   "source": []
  },
  {
   "cell_type": "code",
   "execution_count": null,
   "id": "9ac8c14b",
   "metadata": {},
   "outputs": [],
   "source": []
  },
  {
   "cell_type": "markdown",
   "id": "f40efaf4",
   "metadata": {},
   "source": [
    "### `07.4 Phase 1`: Run the first 3 tasks (up to research_gap_task)\n"
   ]
  },
  {
   "cell_type": "code",
   "execution_count": 22,
   "id": "ea279f5f",
   "metadata": {},
   "outputs": [
    {
     "name": "stdout",
     "output_type": "stream",
     "text": [
      "\u001b[1m\u001b[95m# Agent:\u001b[00m \u001b[1m\u001b[92mTrending Topics Identification Agent\u001b[00m\n",
      "\u001b[95m## Task:\u001b[00m \u001b[92myou are an expert in a transformers field to help beginner researchers in their writings .\n",
      "Provide a list of 3 to 5 trending topics or articals with a brief description for each.\n",
      "Focus on recent research interests supported by publication trends.\n",
      "Output in JSON format with 'topics' as list of objects {name, description}.\u001b[00m\n",
      "\n",
      "\n",
      "\u001b[1m\u001b[95m# Agent:\u001b[00m \u001b[1m\u001b[92mTrending Topics Identification Agent\u001b[00m\n",
      "\u001b[95m## Final Answer:\u001b[00m \u001b[92m\n",
      "{\n",
      "  \"topics\": [\n",
      "    {\n",
      "      \"name\": \"Efficient Transformers for Long Sequences\",\n",
      "      \"description\": \"Research focuses on addressing the quadratic complexity of self-attention in standard transformers, hindering processing of long sequences.  Trending approaches include linear attention mechanisms, sparse attention, and hierarchical architectures to enable efficient handling of longer contexts in tasks like long-document summarization and long-range dependency modeling.\"\n",
      "    },\n",
      "    {\n",
      "      \"name\": \"Multimodal Transformers\",\n",
      "      \"description\": \"This area explores the fusion of different modalities (text, images, audio, video) using transformer architectures.  Current research emphasizes effective cross-modal interaction and representation learning, leading to advancements in tasks like image captioning, visual question answering, and multimodal sentiment analysis.  This involves exploring novel attention mechanisms and fusion strategies.\"\n",
      "    },\n",
      "    {\n",
      "      \"name\": \"Transformer-based Language Models for Code\",\n",
      "      \"description\": \"Significant progress is being made in applying transformers to code understanding and generation.  Trending research involves developing specialized architectures and training techniques for code-specific tasks like code completion, bug detection, and code summarization.  This includes exploring techniques to handle the unique syntactic and semantic structures of programming languages.\"\n",
      "    },\n",
      "    {\n",
      "      \"name\": \"Improving the Robustness and Interpretability of Transformers\",\n",
      "      \"description\": \"Addressing the 'black box' nature of transformers is a key focus.  Research explores methods to enhance the robustness of transformers against adversarial attacks and improve their interpretability.  This includes techniques like attention visualization, probing classifiers, and developing more explainable attention mechanisms.\"\n",
      "    },\n",
      "    {\n",
      "      \"name\": \"Scaling Laws and Training Strategies for Large Transformers\",\n",
      "      \"description\": \"Investigating the scaling properties of transformers with respect to model size, dataset size, and computational resources is a major trend.  Research focuses on optimizing training strategies, such as efficient parallelization techniques and curriculum learning, to effectively train increasingly larger and more powerful transformer models.  Understanding the relationship between model scale and performance is crucial for future advancements.\"\n",
      "    }\n",
      "  ]\n",
      "}\u001b[00m\n",
      "\n",
      "\n",
      "\u001b[1m\u001b[95m# Agent:\u001b[00m \u001b[1m\u001b[92mRecent Papers Retrieval Agent\u001b[00m\n",
      "\u001b[95m## Task:\u001b[00m \u001b[92mInput is a list of trending topics.\n",
      "For each topic, find 3 papers with title, authors, abstract, year, and link which should be valid and accessable.\n",
      "Select papers from reputable journals or conferences (IEEE, Springer, Elsevier, ICRA, IROS, actual arXiv).\n",
      "Only include papers published in 2023 or 2024 or 2025.\n",
      "Get the abstract of the paper as it is in the paper or the site to help the agents after you, bring a good clean text.Focus on papers from last 2 years from reputable conferences or journals.\n",
      "If no recent paper is available, state 'No recent papers found' for that topic.\n",
      "Output JSON grouped by topic.\u001b[00m\n",
      "\n",
      "\n",
      "\u001b[1m\u001b[95m# Agent:\u001b[00m \u001b[1m\u001b[92mRecent Papers Retrieval Agent\u001b[00m\n",
      "\u001b[95m## Thought:\u001b[00m \u001b[92mThought: I need to use the search_engine_tool to find relevant papers for each topic.  I'll construct queries for each topic focusing on recent publications from reputable venues.  I'll then extract the necessary information from the search results.\u001b[00m\n",
      "\u001b[95m## Using tool:\u001b[00m \u001b[92msearch_engine_tool\u001b[00m\n",
      "\u001b[95m## Tool Input:\u001b[00m \u001b[92m\n",
      "\"{\\\"query\\\": \\\"Efficient Transformers for Long Sequences 2023-2025 arxiv OR ieee OR springer OR elsevier\\\"}\"\u001b[00m\n",
      "\u001b[95m## Tool Output:\u001b[00m \u001b[92m\n",
      "{'query': 'Efficient Transformers for Long Sequences 2023-2025 arxiv OR ieee OR springer OR elsevier', 'follow_up_questions': None, 'answer': None, 'images': [], 'results': [{'title': 'UltraFormer: An Efficient Transformer for FPGAs - IEEE Xplore', 'url': 'https://ieeexplore.ieee.org/document/11008930/', 'content': 'Transformer-based large language models (LLMs) have exploded in popularity in both industrial and academic settings, seeing rapid progress in model quality over the last few years and unprecedented levels of adoption worldwide. Acceleration of these transformer architectures and their efficient alternatives [1], [2] has surged in relevance to meet the aforementioned efficiency needs. Field', 'score': 0.1682824, 'raw_content': None}, {'title': 'Home - IEEE Open', 'url': 'https://open.ieee.org/', 'content': 'IEEE Access is a multidisciplinary, online-only, gold fully open access journal, continuously presenting the results of original research or development across all IEEE fields of interest. Supported by article processing charges (APCs), its hallmarks are rapid peer review, a submission-to-publication time of 4 to 6 weeks, and articles that are', 'score': 0.048482586, 'raw_content': None}, {'title': 'PDF', 'url': 'https://iclr.cc/media/iclr-2025/Slides/29483.pdf', 'content': 'On the Optimal Memorization Capacity of Transformers', 'score': 0.04253497, 'raw_content': None}, {'title': 'Home | SpringerLink', 'url': 'https://link.springer.com/', 'content': 'Springer Nature Link - Home for all research The journal will publish innovative research on the design, synthesis, and performance evaluation of various photothermal... ### Artificial Intelligence Review Artificial Intelligence Review is a fully open access journal publishing state-of-the-art research in artificial intelligence and cognitive science. ### Discover Sustainability Discover Sustainability is an open access journal publishing research across all fields relevant to sustainability. As part of Springer Nature, Springer Nature Link delivers fast access to the depth and breadth of our online collection of journals, eBooks, reference works and protocols across a vast range of subject disciplines. Springer Nature Link is the reading platform of choice for hundreds of thousands of researchers worldwide. Find out how to publish your research with Springer Nature.', 'score': 0.042060263, 'raw_content': None}, {'title': 'IEEE Transactions on Power Electronics', 'url': 'https://www.ieee-pels.org/publications/transactions-on-power-electronics/', 'content': 'IEEE Senior Member or the equivalent number of years. Applicants from Academia: 8 or more journal papers in the last 5 years, of which, at least 4 should be in IEEE Transactions on Power Electronics. Applicants from Industry: 2 or more journal papers in the last 10 years, of which, at least 1 should be in IEEE Transactions on Power Electronics.', 'score': 0.039941143, 'raw_content': None}], 'response_time': 2.18}\u001b[00m\n",
      "\n",
      "\n",
      "\u001b[1m\u001b[95m# Agent:\u001b[00m \u001b[1m\u001b[92mRecent Papers Retrieval Agent\u001b[00m\n",
      "\u001b[95m## Thought:\u001b[00m \u001b[92mThought: I need to repeat this process for each topic, refining my search queries as needed.  The initial results are not ideal; many are not papers or are not from the specified time frame.  I will need to be more precise in my queries.\u001b[00m\n",
      "\u001b[95m## Using tool:\u001b[00m \u001b[92msearch_engine_tool\u001b[00m\n",
      "\u001b[95m## Tool Input:\u001b[00m \u001b[92m\n",
      "\"{\\\"query\\\": \\\"Multimodal Transformers 2023-2025 arxiv OR ieee OR springer OR elsevier\\\"}\"\u001b[00m\n",
      "\u001b[95m## Tool Output:\u001b[00m \u001b[92m\n",
      "{'query': 'Multimodal Transformers 2023-2025 arxiv OR ieee OR springer OR elsevier', 'follow_up_questions': None, 'answer': None, 'images': [], 'results': [{'title': 'ICLR Mixture-of-Transformers: A Sparse and Scalable Architecture for ...', 'url': 'https://iclr.cc/virtual/2025/35252', 'content': 'To address the scaling challenges, we introduce Mixture-of-Transformers (MoT), a sparse multi-modal transformer architecture that significantly reduces pretraining computational costs. MoT decouples non-embedding parameters of the model by modality -- including feed-forward networks, attention matrices, and layer normalization -- enabling', 'score': 0.16644524, 'raw_content': None}, {'title': 'A multimodal transformer framework with biomechanical constraints for ...', 'url': 'https://journals.sagepub.com/doi/full/10.1177/14727978251348632', 'content': 'Effective analysis of biomechanical motion data is crucial for predicting and preventing athletic injuries. Recent advancements in wearable sensor technologies offer extensive multimodal physiological datasets, yet integrating these complex data streams into accurate, interpretable predictive models remains challenging.', 'score': 0.15308042, 'raw_content': None}, {'title': 'Elsevier - Journal Finder', 'url': 'https://journalfinder.elsevier.com/', 'content': 'Cookies are used by this site. To decline or learn more, visit our Cookie settings | Your Privacy Choices. We use cookies that are necessary to make our site work. We use cookies which are necessary to make our site work. You can set your browser to block or alert you about these cookies, but some parts of the site will not then work. Functional Cookies [x] Functional Cookies  If you do not allow these cookies then some or all of these services may not function properly. Performance Cookies [x] Performance Cookies  Targeting Cookies [x] Targeting Cookies  These cookies may be set through our site by our advertising partners. If you do not allow these cookies, you will experience less targeted advertising. Cookie List', 'score': 0.07046373, 'raw_content': None}, {'title': '2023 IEEE 26th International Conference on Intelligent ... - IEEE Xplore', 'url': 'https://ieeexplore.ieee.org/xpl/conhome/10420842/proceeding', 'content': 'Need Help? US & Canada: +1 800 678 4333 Worldwide: +1 732 981 0060 Contact & Support', 'score': 0.06635725, 'raw_content': None}, {'title': 'Mechanism and Machine Theory | Journal | ScienceDirect.com by Elsevier', 'url': 'https://www.sciencedirect.com/journal/mechanism-and-machine-theory', 'content': 'Mechanism and Machine Theory provides a medium of communication between engineers and scientists engaged in research and development within the fields of knowledge embraced by IFToMM, the International Federation for the Promotion of Mechanism and Machine Science, therefore affiliated with IFToMM as its official research journal.. The main topics are:', 'score': 0.029830731, 'raw_content': None}], 'response_time': 1.79}\u001b[00m\n",
      "\n",
      "\n",
      "\u001b[1m\u001b[95m# Agent:\u001b[00m \u001b[1m\u001b[92mRecent Papers Retrieval Agent\u001b[00m\n",
      "\u001b[95m## Thought:\u001b[00m \u001b[92mThought: I need to continue this iterative process for all topics, carefully crafting search queries and verifying the validity and relevance of the retrieved papers.  The current search results are still insufficient.  I need to refine my approach to ensure I obtain three valid and relevant papers for each topic.  I will need to manually check the URLs and abstracts to ensure accuracy.  This task requires significant time and effort due to the limitations of the search engine tool.  The tool is not providing sufficient information to complete the task as requested.  I will attempt to improve the search queries and then manually verify the results.\u001b[00m\n",
      "\u001b[95m## Using tool:\u001b[00m \u001b[92msearch_engine_tool\u001b[00m\n",
      "\u001b[95m## Tool Input:\u001b[00m \u001b[92m\n",
      "\"{\\\"query\\\": \\\"Transformer-based Language Models for Code 2023-2025 arxiv OR ieee OR springer OR elsevier\\\"}\"\u001b[00m\n",
      "\u001b[95m## Tool Output:\u001b[00m \u001b[92m\n",
      "{'query': 'Transformer-based Language Models for Code 2023-2025 arxiv OR ieee OR springer OR elsevier', 'follow_up_questions': None, 'answer': None, 'images': [], 'results': [{'title': 'The usage of a transformer based and artificial intelligence driven ...', 'url': 'https://www.nature.com/articles/s41598-025-05026-9', 'content': 'In particular, the use of AI to improve students’ learning efficiency and effectiveness has become a prominent topic in language learning research[1](https://www.nature.com/articles/s41598-025-05026-9#ref-CR1 \"Shanshan, S. 40 (4), 1941–1958 (2024).\"),[2](https://www.nature.com/articles/s41598-025-05026-9#ref-CR2 \"Keli, L. Sci. 10, 6 (2024).\"),[3](https://www.nature.com/articles/s41598-025-05026-9#ref-CR3 \"Alsager, H. For non-native speakers, developing strong English writing skills is especially critical[4](https://www.nature.com/articles/s41598-025-05026-9#ref-CR4 \"Incelli, E. 6.\"),[5](https://www.nature.com/articles/s41598-025-05026-9#ref-CR5 \"Li, M. 71, 101430 (2024).\"),[6](https://www.nature.com/articles/s41598-025-05026-9#ref-CR6 \"Jafary, M., Wu, J. 10 (1), 1–18 (2024).\"),[9](https://www.nature.com/articles/s41598-025-05026-9#ref-CR9 \"Nursalim, N. (2025) employed a Transformer model for dynamic prediction of multilingual network traffic[10](https://www.nature.com/articles/s41598-025-05026-9#ref-CR10 \"Samaan, S. [Article](https://doi.org/10.1016%2Fj.edurev.2022.100489)[Google Scholar](http://scholar.google.com/scholar_lookup?&title=A%20systematic%20review%20of%20the%20role%20of%20learning%20analytics%20in%20enhancing%20feedback%20practices%20in%20higher%20education%5BJ%5D&journal=Educational%20Res.%20Rev.&doi=10.1016%2Fj.edurev.2022.100489&volume=37&publication_year=2022&author=Banihashem%2CSK) [Article](https://link.springer.com/doi/10.1186/s12864-024-09985-7)[Google Scholar](http://scholar.google.com/scholar_lookup?&title=A%20semi-supervised%20approach%20for%20the%20integration%20of%20multi-omics%20data%20based%20on%20transformer%20multi-head%20self-attention%20mechanism%20and%20graph%20convolutional%20networks%5BJ%5D&journal=BMC%20Genom.&doi=10.1186%2Fs12864-024-09985-7&volume=25&issue=1&publication_year=2024&author=Wang%2CJ) [Article](https://doi.org/10.1038%2Fs41598-024-51184-7)[ADS](http://adsabs.harvard.edu/cgi-bin/nph-data_query?link_type=ABSTRACT&bibcode=2024NatSR..14..514R)[CAS](https://www.nature.com/articles/cas-redirect/1:CAS:528:DC%2BB2cXnvFGgtQ%3D%3D)[PubMed](http://www.ncbi.nlm.nih.gov/entrez/query.fcgi?cmd=Retrieve&db=PubMed&dopt=Abstract&list_uids=38177293)[PubMed Central](http://www.ncbi.nlm.nih.gov/pmc/articles/PMC10767116)[Google Scholar](http://scholar.google.com/scholar_lookup?&title=Enhancing%20heart%20disease%20prediction%20using%20a%20self-attention-based%20transformer%20model%5BJ%5D&journal=Sci.%20Rep.&doi=10.1038%2Fs41598-024-51184-7&volume=14&issue=1&publication_year=2024&author=Rahman%2CAU) [Article](https://doi.org/10.1016%2Fj.enggeo.2024.107446)[Google Scholar](http://scholar.google.com/scholar_lookup?&title=LiteTransNet%3A%20an%20interpretable%20approach%20for%20landslide%20displacement%20prediction%20using%20transformer%20model%20with%20attention%20mechanism%5BJ%5D&journal=Eng.%20Geol.&doi=10.1016%2Fj.enggeo.2024.107446&volume=331&publication_year=2024&author=Ge%2CQ) [Article](https://doi.org/10.7717%2Fpeerj-cs.1704)[PubMed](http://www.ncbi.nlm.nih.gov/entrez/query.fcgi?cmd=Retrieve&db=PubMed&dopt=Abstract&list_uids=39669469)[PubMed Central](http://www.ncbi.nlm.nih.gov/pmc/articles/PMC11636738)[Google Scholar](http://scholar.google.com/scholar_lookup?&title=Machine%20learning%20based%20framework%20for%20fine-grained%20word%20segmentation%20and%20enhanced%20text%20normalization%20for%20low%20resourced%20language%5BJ%5D&journal=PeerJ%20Comput.%20Sci.&doi=10.7717%2Fpeerj-cs.1704&volume=10&publication_year=2024&author=Nazir%2CS) [Article](https://doi.org/10.1080%2F08839514.2023.2297524)[Google Scholar](http://scholar.google.com/scholar_lookup?&title=Improved%20word%20segmentation%20system%20for%20Chinese%20criminal%20judgment%20documents%5BJ%5D&journal=Appl.%20Artif.%20Intell.&doi=10.1080%2F08839514.2023.2297524&volume=38&issue=1&publication_year=2024&author=Zhang%2CC) [Article](https://doi.org/10.3390%2Fapp14072989)[CAS](https://www.nature.com/articles/cas-redirect/1:CAS:528:DC%2BB2cXot1ygtL0%3D)[Google Scholar](http://scholar.google.com/scholar_lookup?&title=Tibetan%20sentence%20boundaries%20automatic%20disambiguation%20based%20on%20bidirectional%20encoder%20representations%20from%20Transformers%20on%20byte%20pair%20encoding%20word%20cutting%20Method%5BJ%5D&journal=Appl.%20Sci.&doi=10.3390%2Fapp14072989&volume=14&issue=7&publication_year=2024&author=Li%2CF) [Article](https://doi.org/10.1016%2Fj.nlp.2024.100080)[Google Scholar](http://scholar.google.com/scholar_lookup?&title=Summarizing%20long%20scientific%20documents%20through%20hierarchical%20structure%20extraction%5BJ%5D&journal=Nat.%20Lang.%20Process.%20J.&doi=10.1016%2Fj.nlp.2024.100080&volume=8&publication_year=2024&author=Sharma%2CG&author=Sharma%2CD&author=Sasikumar%2CM) [Article](https://doi.org/10.3390%2Fdrones8020060)[Google Scholar](http://scholar.google.com/scholar_lookup?&title=Dynamic%20scene%20path%20planning%20of%20Uavs%20based%20on%20deep%20reinforcement%20learning%5BJ%5D&journal=Drones&doi=10.3390%2Fdrones8020060&volume=8&issue=2&publication_year=2024&author=Tang%2CJ&author=Liang%2CY&author=Li%2CK) [Article](https://link.springer.com/doi/10.1007/s12652-024-04761-7)[Google Scholar](http://scholar.google.com/scholar_lookup?&title=Sign%20Language%20detection%20using%20convolutional%20neural%20network%5BJ%5D&journal=J.%20Ambient%20Intell.%20Humaniz.%20Comput.&doi=10.1007%2Fs12652-024-04761-7&volume=15&issue=4&pages=2399-2424&publication_year=2024&author=Rakshit%2CP&author=Paul%2CS&author=Dey%2CS) [Article](https://doi.org/10.1002%2Fett.3922)[Google Scholar](http://scholar.google.com/scholar_lookup?&title=An%20unknown%20protocol%20syntax%20analysis%20method%20based%20on%20convolutional%20neural%20network%5BJ%5D&journal=Trans.%20Emerg.%20Telecommunications%20Technol.&doi=10.1002%2Fett.3922&volume=32&issue=5&publication_year=2021&author=Wang%2CY) [Article](https://link.springer.com/doi/10.1186/s40537-023-00842-0)[PubMed](http://www.ncbi.nlm.nih.gov/entrez/query.fcgi?cmd=Retrieve&db=PubMed&dopt=Abstract&list_uids=38321999)[PubMed Central](http://www.ncbi.nlm.nih.gov/pmc/articles/PMC10838835)[Google Scholar](http://scholar.google.com/scholar_lookup?&title=Survey%20of%20Transformers%20and%20towards%20ensemble%20learning%20using%20Transformers%20for%20natural%20Language%20processing%5BJ%5D&journal=J.%20Big%20Data&doi=10.1186%2Fs40537-023-00842-0&volume=11&issue=1&publication_year=2024&author=Zhang%2CH&author=Shafiq%2CMO) [Article](https://doi.org/10.1016%2Fj.ijdrr.2024.104804)[Google Scholar](http://scholar.google.com/scholar_lookup?&title=Enhancing%20emergency%20decision-making%20with%20knowledge%20graphs%20and%20large%20Language%20models%5BJ%5D&journal=Int.%20J.%20Disaster%20Risk%20Reduct.&doi=10.1016%2Fj.ijdrr.2024.104804&volume=113&publication_year=2024&author=Chen%2CM) [Article](https://doi.org/10.1109%2FACCESS.2024.3369901)[Google Scholar](http://scholar.google.com/scholar_lookup?&title=A%20digital%20recommendation%20system%20for%20personalized%20learning%20to%20enhance%20online%20education%3A%20A%20review%5BJ%5D&journal=IEEE%20Access.&doi=10.1109%2FACCESS.2024.3369901&volume=12&pages=34019-34041&publication_year=2024&author=Gm%2CD) [Article](https://doi.org/10.1049%2Fsfw2.12018)[Google Scholar](http://scholar.google.com/scholar_lookup?&title=Long%20short-term%20memory%20on%20abstract%20syntax%20tree%20for%20SQL%20injection%20detection%5BJ%5D&journal=IET%20Softw.&doi=10.1049%2Fsfw2.12018&volume=15&issue=2&pages=188-197&publication_year=2021&author=Zhuo%2CZ) [Article](https://link.springer.com/doi/10.1007/s10639-024-12878-7)[Google Scholar](http://scholar.google.com/scholar_lookup?&title=Exploring%20students%E2%80%99%20perspectives%20on%20generative%20AI-assisted%20academic%20writing%5BJ%5D&journal=Educ.%20Inform.%20Technol.&doi=10.1007%2Fs10639-024-12878-7&volume=30&issue=1&pages=1265-1300&publication_year=2025&author=Kim%2CJ) *   [Journals A-Z](https://www.nature.com/siteindex)', 'score': 0.486015, 'raw_content': None}, {'title': 'A Review on Large Language Models: Architectures, Applications ...', 'url': 'https://ieeexplore.ieee.org/document/10433480', 'content': 'Abstract: Large Language Models (LLMs) recently demonstrated extraordinary capability in various natural language processing (NLP) tasks including language translation, text genera...Show More Metadata Abstract: Large Language Models (LLMs) recently demonstrated extraordinary capability in various natural language processing (NLP) tasks including language translation, text generation, question answering, etc. Moreover, LLMs are new and essential part of computerized language processing, having the ability to understand complex verbal patterns and generate coherent and appropriate replies in a given context. Though this success of LLMs has prompted a substantial increase in research contributions, rapid growth has made it difficult to understand the overall impact of these improvements. This article thoroughly overviews LLMs, including their history, architectures, transformers, resources, training methods, applications, impacts, challenges, etc.', 'score': 0.1002869, 'raw_content': None}, {'title': 'Recent Advances in Generative AI and Large Language Models: Current ...', 'url': 'https://ieeexplore.ieee.org/document/10638808', 'content': 'Recent Advances in Generative AI and Large Language Models: Current Status, Challenges, and Perspectives | IEEE Journals & Magazine | IEEE Xplore Our article not only addresses the current state of generative AI and LLMs in language understanding, machine translation, question answering, text summarization, and code Completion but also makes a significant contribution in addressing some of the critical research gaps of generative AI and LLMs. By addressing issues of bias and fairness, interpretability, fine-tuning and adaptability, domain adaptation, data privacy and security, computational cost, deepfake generation, human-AI collaboration, long-term planning, limited context window, long-term memory, etc., our work aims to pave the way for responsible, ethical, and impactful integration of these tr... About IEEE Xplore | Contact Us | Help | Accessibility | Terms of Use | Nondiscrimination Policy | IEEE Ethics Reporting | Sitemap | IEEE Privacy Policy', 'score': 0.06701367, 'raw_content': None}, {'title': 'What Is Generative AI? - IEEE Spectrum', 'url': 'https://spectrum.ieee.org/what-is-generative-ai', 'content': 'For example, a large language model can generate essays, computer code, recipes, protein structures, jokes, medical diagnostic advice, and much more. It can also theoretically generate', 'score': 0.054243922, 'raw_content': None}, {'title': 'Home | Artificial Intelligence Review - Springer', 'url': 'https://link.springer.com/journal/10462', 'content': 'Artificial Intelligence Review is a fully open access journal publishing state-of-the-art research in artificial intelligence and cognitive science. Journal metrics Abstracting general syntax for XAI after decomposing explanation sub-components High-frequency-based multi-spectral attention for domain generalization Journal updates Artificial Intelligence Review is now fully open access! We are excited to announce that Artificial Intelligence Review \\xa0has now become a fully open access (OA) journal as of January 2024. This means that we will only be publishing articles as Open Access meaning content will be and freely available to readers worldwide, enabling the widest possible dissemination and reuse. Get notified when new articles are published. Journal information © Springer Nature B.V. Journal navigation About this journal Articles Journal updates © 2025 Springer Nature', 'score': 0.04408865, 'raw_content': None}], 'response_time': 2.59}\n",
      "\n",
      "\n",
      "You ONLY have access to the following tools, and should NEVER make up tools that are not listed here:\n",
      "\n",
      "Tool Name: search_engine_tool\n",
      "Tool Arguments: {'query': {'description': None, 'type': 'str'}}\n",
      "Tool Description: Useful for search-based queries. Use this to find current information about any query related pages using a search engine\n",
      "\n",
      "IMPORTANT: Use the following format in your response:\n",
      "\n",
      "```\n",
      "Thought: you should always think about what to do\n",
      "Action: the action to take, only one name of [search_engine_tool], just the name, exactly as it's written.\n",
      "Action Input: the input to the action, just a simple JSON object, enclosed in curly braces, using \" to wrap keys and values.\n",
      "Observation: the result of the action\n",
      "```\n",
      "\n",
      "Once all necessary information is gathered, return the following format:\n",
      "\n",
      "```\n",
      "Thought: I now know the final answer\n",
      "Final Answer: the final answer to the original input question\n",
      "```\u001b[00m\n",
      "\n",
      "\n",
      "\u001b[1m\u001b[95m# Agent:\u001b[00m \u001b[1m\u001b[92mRecent Papers Retrieval Agent\u001b[00m\n",
      "\u001b[95m## Final Answer:\u001b[00m \u001b[92m\n",
      "{\n",
      "  \"topic_papers\": {\n",
      "    \"Efficient Transformers for Long Sequences\": [],\n",
      "    \"Multimodal Transformers\": [],\n",
      "    \"Transformer-based Language Models for Code\": [],\n",
      "    \"Improving the Robustness and Interpretability of Transformers\": [],\n",
      "    \"Scaling Laws and Training Strategies for Large Transformers\": []\n",
      "  }\n",
      "}\u001b[00m\n",
      "\n",
      "\n",
      "\u001b[1m\u001b[95m# Agent:\u001b[00m \u001b[1m\u001b[92mResearch Gap Identification and Suggestion Agent\u001b[00m\n",
      "\u001b[95m## Task:\u001b[00m \u001b[92mInput is paper summaries.\n",
      "Output a list of research gaps, limitations, and suggestions for future research.\n",
      "Encourage beginners by providing feasible ideas.You will be given the data about the papers about that topic 3 papers for each topic with their year, abstaract, url, title .\n",
      "analye the abstract to guess and detect gaps \n",
      "Suggest these Gaps to the writer to can start from\u001b[00m\n",
      "\n",
      "\n",
      "\u001b[1m\u001b[95m# Agent:\u001b[00m \u001b[1m\u001b[92mResearch Gap Identification and Suggestion Agent\u001b[00m\n",
      "\u001b[95m## Final Answer:\u001b[00m \u001b[92m\n",
      "{\n",
      "  \"research_gaps\": [\n",
      "    \"**Efficient Transformers for Long Sequences:**\\n\\n* **Gap 1:**  Current linear attention mechanisms often sacrifice some accuracy for efficiency. Research could focus on developing novel linear attention methods that maintain high accuracy while significantly reducing computational cost, especially for extremely long sequences (e.g., exceeding 100k tokens).\\n* **Gap 2:**  Existing sparse attention methods often require careful selection of attention patterns.  Research could explore self-adapting sparse attention mechanisms that automatically determine the most relevant tokens for attention, reducing the need for manual parameter tuning.\\n* **Gap 3:**  Hierarchical architectures can be complex to design and train.  Research could investigate simpler, more efficient hierarchical approaches that are easier to implement and scale to even longer sequences.\\n* **Gap 4:**  Evaluation of long-sequence transformers often focuses on specific tasks.  A more comprehensive benchmark suite covering diverse tasks and sequence lengths is needed for fair comparison of different methods.\\n\\n**Multimodal Transformers:**\\n\\n* **Gap 1:**  Many multimodal transformers struggle with handling modalities of varying lengths and resolutions.  Research could focus on developing methods for efficient and effective alignment and fusion of heterogeneous modalities with varying lengths.\\n* **Gap 2:**  Current fusion strategies often rely on simple concatenation or element-wise operations.  More sophisticated fusion mechanisms that capture complex interactions between modalities are needed.\\n* **Gap 3:**  Robustness to noisy or incomplete data is a major challenge.  Research could explore techniques to improve the robustness of multimodal transformers to missing or corrupted data in one or more modalities.\\n* **Gap 4:**  Interpretability of multimodal transformers is limited.  Developing methods to visualize and understand the cross-modal interactions and decision-making processes within these models is crucial.\\n\\n**Transformer-based Language Models for Code:**\\n\\n* **Gap 1:**  Existing models often struggle with handling the unique syntactic and semantic structures of different programming languages.  Research could focus on developing language-agnostic or easily adaptable architectures that can generalize across various programming languages.\\n* **Gap 2:**  Generating syntactically correct and semantically meaningful code remains challenging.  Research could explore reinforcement learning techniques or other methods to improve the quality and correctness of generated code.\\n* **Gap 3:**  Evaluating the performance of code generation models is difficult.  More comprehensive and standardized evaluation metrics are needed to assess the correctness, efficiency, and readability of generated code.\\n* **Gap 4:**  The explainability of code generation models is limited.  Research could focus on developing methods to understand how these models generate code and identify potential biases or errors.\\n\\n**Improving the Robustness and Interpretability of Transformers:**\\n\\n* **Gap 1:**  Current adversarial attack methods are often task-specific.  Research could focus on developing more generalizable adversarial attack methods that can be applied to a wider range of tasks and transformer architectures.\\n* **Gap 2:**  Existing defense mechanisms against adversarial attacks often introduce significant computational overhead.  Research could explore lightweight and efficient defense mechanisms that do not compromise performance.\\n* **Gap 3:**  Attention visualization techniques often provide limited insights into the decision-making process of transformers.  Research could explore more sophisticated visualization methods that reveal the underlying reasoning behind the model's predictions.\\n* **Gap 4:**  Probing classifiers often rely on specific linguistic features.  Research could explore more generalizable probing methods that can capture a wider range of linguistic phenomena.\\n\\n**Scaling Laws and Training Strategies for Large Transformers:**\\n\\n* **Gap 1:**  Current scaling laws often focus on specific model architectures and training datasets.  Research could explore more general scaling laws that apply to a wider range of models and datasets.\\n* **Gap 2:**  Efficient parallelization techniques for training large transformers are still under development.  Research could focus on developing more scalable and efficient parallelization methods that can handle increasingly larger models and datasets.\\n* **Gap 3:**  Curriculum learning strategies for large transformers are not well-understood.  Research could investigate optimal curriculum learning strategies that can improve the efficiency and effectiveness of training.\\n* **Gap 4:**  The relationship between model scale and generalization ability is not fully understood.  Research could explore the factors that contribute to improved generalization in larger models and develop methods to enhance generalization ability without increasing model size excessively.\"\n",
      "  ]\n",
      "}\u001b[00m\n",
      "\n",
      "\n"
     ]
    },
    {
     "name": "stderr",
     "output_type": "stream",
     "text": [
      "🖇 AgentOps: \u001b[34m\u001b[34mSession Replay for default.session trace: https://app.agentops.ai/sessions?trace_id=da4a60d6b4d030cc01a1b4f38aac84cd\u001b[0m\u001b[0m\n"
     ]
    },
    {
     "name": "stdout",
     "output_type": "stream",
     "text": [
      "{'research_gaps': [\"**Efficient Transformers for Long Sequences:**\\n\\n* **Gap 1:**  Current linear attention mechanisms often sacrifice some accuracy for efficiency. Research could focus on developing novel linear attention methods that maintain high accuracy while significantly reducing computational cost, especially for extremely long sequences (e.g., exceeding 100k tokens).\\n* **Gap 2:**  Existing sparse attention methods often require careful selection of attention patterns.  Research could explore self-adapting sparse attention mechanisms that automatically determine the most relevant tokens for attention, reducing the need for manual parameter tuning.\\n* **Gap 3:**  Hierarchical architectures can be complex to design and train.  Research could investigate simpler, more efficient hierarchical approaches that are easier to implement and scale to even longer sequences.\\n* **Gap 4:**  Evaluation of long-sequence transformers often focuses on specific tasks.  A more comprehensive benchmark suite covering diverse tasks and sequence lengths is needed for fair comparison of different methods.\\n\\n**Multimodal Transformers:**\\n\\n* **Gap 1:**  Many multimodal transformers struggle with handling modalities of varying lengths and resolutions.  Research could focus on developing methods for efficient and effective alignment and fusion of heterogeneous modalities with varying lengths.\\n* **Gap 2:**  Current fusion strategies often rely on simple concatenation or element-wise operations.  More sophisticated fusion mechanisms that capture complex interactions between modalities are needed.\\n* **Gap 3:**  Robustness to noisy or incomplete data is a major challenge.  Research could explore techniques to improve the robustness of multimodal transformers to missing or corrupted data in one or more modalities.\\n* **Gap 4:**  Interpretability of multimodal transformers is limited.  Developing methods to visualize and understand the cross-modal interactions and decision-making processes within these models is crucial.\\n\\n**Transformer-based Language Models for Code:**\\n\\n* **Gap 1:**  Existing models often struggle with handling the unique syntactic and semantic structures of different programming languages.  Research could focus on developing language-agnostic or easily adaptable architectures that can generalize across various programming languages.\\n* **Gap 2:**  Generating syntactically correct and semantically meaningful code remains challenging.  Research could explore reinforcement learning techniques or other methods to improve the quality and correctness of generated code.\\n* **Gap 3:**  Evaluating the performance of code generation models is difficult.  More comprehensive and standardized evaluation metrics are needed to assess the correctness, efficiency, and readability of generated code.\\n* **Gap 4:**  The explainability of code generation models is limited.  Research could focus on developing methods to understand how these models generate code and identify potential biases or errors.\\n\\n**Improving the Robustness and Interpretability of Transformers:**\\n\\n* **Gap 1:**  Current adversarial attack methods are often task-specific.  Research could focus on developing more generalizable adversarial attack methods that can be applied to a wider range of tasks and transformer architectures.\\n* **Gap 2:**  Existing defense mechanisms against adversarial attacks often introduce significant computational overhead.  Research could explore lightweight and efficient defense mechanisms that do not compromise performance.\\n* **Gap 3:**  Attention visualization techniques often provide limited insights into the decision-making process of transformers.  Research could explore more sophisticated visualization methods that reveal the underlying reasoning behind the model's predictions.\\n* **Gap 4:**  Probing classifiers often rely on specific linguistic features.  Research could explore more generalizable probing methods that can capture a wider range of linguistic phenomena.\\n\\n**Scaling Laws and Training Strategies for Large Transformers:**\\n\\n* **Gap 1:**  Current scaling laws often focus on specific model architectures and training datasets.  Research could explore more general scaling laws that apply to a wider range of models and datasets.\\n* **Gap 2:**  Efficient parallelization techniques for training large transformers are still under development.  Research could focus on developing more scalable and efficient parallelization methods that can handle increasingly larger models and datasets.\\n* **Gap 3:**  Curriculum learning strategies for large transformers are not well-understood.  Research could investigate optimal curriculum learning strategies that can improve the efficiency and effectiveness of training.\\n* **Gap 4:**  The relationship between model scale and generalization ability is not fully understood.  Research could explore the factors that contribute to improved generalization in larger models and develop methods to enhance generalization ability without increasing model size excessively.\"]}\n"
     ]
    }
   ],
   "source": [
    "first_crew = Crew(\n",
    "    name=\"PublishMate Crew - Phase 1\",\n",
    "    description=\"Run up to research gap analysis.\",\n",
    "    agents=[\n",
    "        trending_topics_agent,\n",
    "        recent_papers_agent,\n",
    "        research_gap_agent,\n",
    "    ],\n",
    "    tasks=[\n",
    "        trending_topics_task,\n",
    "        recent_papers_task,\n",
    "        research_gap_task,\n",
    "    ],\n",
    ")\n",
    "\n",
    "first_result = first_crew.kickoff()\n",
    "print(first_result)"
   ]
  },
  {
   "cell_type": "code",
   "execution_count": null,
   "id": "f03c285a",
   "metadata": {},
   "outputs": [],
   "source": []
  },
  {
   "cell_type": "markdown",
   "id": "aaecccc7",
   "metadata": {},
   "source": [
    "## `08` Crew 2 :"
   ]
  },
  {
   "cell_type": "markdown",
   "id": "a69c0ca1",
   "metadata": {},
   "source": [
    "### `8.1` Agent 4 : Search about chosen gab Agent :"
   ]
  },
  {
   "cell_type": "code",
   "execution_count": 23,
   "id": "a705f144",
   "metadata": {},
   "outputs": [],
   "source": [
    "# 💬 Get user input\n",
    "chosen_topic = input(\"Which topic did you get interested in more? \")\n",
    "chosen_gap = input(\"Which gap do you like to start looking for ^-^? \")"
   ]
  },
  {
   "cell_type": "code",
   "execution_count": 25,
   "id": "5dcd1a2b",
   "metadata": {},
   "outputs": [],
   "source": [
    "class ResearchGapSection(BaseModel):\n",
    "    section: str\n",
    "    tips: str\n",
    "\n",
    "class ResearchGapOutput(BaseModel):\n",
    "    research_steps: List[ResearchGapSection] = Field(..., title=\"Research gap focused steps and tips\")\n",
    "\n",
    "research_starting_points_agent = Agent(\n",
    "    role=\"Research Gap Exploration Agent\",\n",
    "    goal=\"\\n\".join([\n",
    "        f\"Provide a detailed and clear set of specific research starting points based on the chosen {chosen_gap} in the {chosen_topic}.\",\n",
    "        \"Include practical and beginner-friendly tips for each step to help users start their research.\",\n",
    "        \"Focus on actionable tasks tied directly to the selected gap (e.g., watermarking, hallucination, bias).\",\n",
    "        \"Motivate users by giving confidence and clear direction.\"\n",
    "    ]),\n",
    "    backstory=\"Helps users dive into LLM research by breaking down complex gaps into simple, actionable steps.\",\n",
    "    llm=basic_llm,\n",
    "    verbose=True,\n",
    ")\n",
    "\n",
    "research_starting_points_task = Task(\n",
    "    description=\"\\n\".join([\n",
    "        f\"Input: the chosen research gap {chosen_gap} in the topic {chosen_topic} .\",\n",
    "        \"Output: a structured list of specific research steps with detailed tips for each step.\",\n",
    "        \"Goal: help beginners understand what to do first, what resources to use, and how to progress in a steps.\"\n",
    "    ]),\n",
    "    expected_output=\"JSON list of steps with detailed beginner tips.\",\n",
    "    output_json=ResearchGapOutput,\n",
    "    output_file=os.path.join(output_dir, \"step_research_gap.json\"),\n",
    "    agent=research_gap_agent,\n",
    ")\n"
   ]
  },
  {
   "cell_type": "code",
   "execution_count": null,
   "id": "b5d7ac7d",
   "metadata": {},
   "outputs": [],
   "source": []
  },
  {
   "cell_type": "markdown",
   "id": "d7dd9d37",
   "metadata": {},
   "source": [
    "### `8.2` Agent 5: Paper Structure and Writing Guide Agent"
   ]
  },
  {
   "cell_type": "code",
   "execution_count": 26,
   "id": "401dc5af",
   "metadata": {},
   "outputs": [],
   "source": [
    "# Input: specific research steps from previous agent\n",
    "class ResearchGapSection(BaseModel):\n",
    "    section: str\n",
    "    tips: str\n",
    "\n",
    "# Output: paper structure with tips for writing\n",
    "class PaperStructureSection(BaseModel):\n",
    "    section: str\n",
    "    tips: str\n",
    "\n",
    "class PaperStructureOutput(BaseModel):\n",
    "    paper_structure: List[PaperStructureSection] = Field(..., title=\"Paper structure sections and writing tips\")\n",
    "\n",
    "paper_structure_agent = Agent(\n",
    "    role=\"Paper Structure and Writing Guide Agent\",\n",
    "    goal=\"\\n\".join([\n",
    "        \"Take research steps as input and produce a paper outline that reflects them.\",\n",
    "        \"For each section in the paper, provide clear writing tips tailored to the input research.\",\n",
    "        \"Help beginners turn their research process into a coherent academic paper.\",\n",
    "        \"Add encouragement and make the structure simple to follow.\"\n",
    "    ]),\n",
    "    backstory=\"Transforms research plans into a proper academic paper structure with beginner tips.\",\n",
    "    llm=basic_llm,\n",
    "    verbose=True,\n",
    ")\n",
    "\n",
    "paper_structure_task = Task(\n",
    "    description=\"\\n\".join([\n",
    "        \"Input: List of research steps (sections with tips) from a research gap agent.\",\n",
    "        \"Output: Structured academic paper outline based on those steps.\",\n",
    "        \"Include tips for writing each section clearly and effectively.\",\n",
    "        \"Make it easy to follow for someone new to academic writing.\"\n",
    "    ]),\n",
    "    expected_output=\"JSON list of paper sections with writing advice.\",\n",
    "    output_json=PaperStructureOutput,\n",
    "    output_file=os.path.join(output_dir, \"step_5_paper_structure.json\"),\n",
    "    agent=paper_structure_agent,\n",
    ")\n"
   ]
  },
  {
   "cell_type": "code",
   "execution_count": null,
   "id": "ae86dcd4",
   "metadata": {},
   "outputs": [],
   "source": []
  },
  {
   "cell_type": "markdown",
   "id": "03201b58",
   "metadata": {},
   "source": [
    "### `8.3` Agent 6: Related work draft (overview) Agent"
   ]
  },
  {
   "cell_type": "code",
   "execution_count": null,
   "id": "a729f984",
   "metadata": {},
   "outputs": [],
   "source": [
    "class RelatedWorkOutput(BaseModel):\n",
    "    related_work: str = Field(..., title=\"Composed related work section\")\n",
    "\n",
    "related_work_agent = Agent(\n",
    "    role=\"Related Work Composer Agent\",\n",
    "    goal=\"\\n\".join([\n",
    "        \"Compose a comprehensive 'Related Work' section using the paper summaries.\",\n",
    "        \"Group by themes, mention each paper's contribution.\",\n",
    "        \"Maintain academic tone and cite like (e.g., 'Smith et al. 2023').\",\n",
    "        f\"you have earlier the {chosen_topic} and {chosen_gap} related papers so you can write about them.\"\n",
    "\n",
    "    ]),\n",
    "    backstory=\"Helps users create strong literature review related content.\",\n",
    "    llm=basic_llm,\n",
    "    verbose=True,\n",
    ")\n",
    "\n",
    "related_work_task = Task(\n",
    "    description=\"\\n\".join([\n",
    "        f\"Input: list of paper summaries about {chosen_topic} in a {chosen_gap}.\",\n",
    "        \"Group the papers realated from the recent paper agent and write a clear Related Work section.\",\n",
    "        \"Use academic tone, smooth transitions, and citation style.\",\n",
    "        \"Output a single string.\"\n",
    "    ]),\n",
    "    expected_output=\"Single string of the Related Work section.\",\n",
    "    output_json=RelatedWorkOutput,\n",
    "    output_file=os.path.join(output_dir, \"step_6_related_work.json\"),\n",
    "    agent=related_work_agent,\n",
    ")\n"
   ]
  },
  {
   "cell_type": "code",
   "execution_count": null,
   "id": "8ceb42af",
   "metadata": {},
   "outputs": [],
   "source": []
  },
  {
   "cell_type": "markdown",
   "id": "e20c43f5",
   "metadata": {},
   "source": [
    "### `8.4` Agent 7: Paper draft Agent"
   ]
  },
  {
   "cell_type": "code",
   "execution_count": 32,
   "id": "169fcdf5",
   "metadata": {},
   "outputs": [],
   "source": [
    "class DraftOutput(BaseModel):\n",
    "    draft: str = Field(..., title=\"Full academic paper draft text\")\n",
    "\n",
    "draft_writer_agent = Agent(\n",
    "    role=\"Academic Paper Drafting Agent\",\n",
    "    goal=\"\\n\".join([\n",
    "        f\"Write a full academic paper draft using the structure, topic{chosen_topic}, research gap {chosen_gap}, and related work.\",\n",
    "        \"Ensure clarity, academic tone, and smooth transitions.\",\n",
    "        \"Support beginners by avoiding jargon and including helpful examples.\",\n",
    "    ]),\n",
    "    backstory=\"Turns raw research insights into a complete paper draft.\",\n",
    "    llm=basic_llm,\n",
    "    verbose=True,\n",
    ")\n",
    "\n",
    "draft_writer_task = Task(\n",
    "    description=\"\\n\".join([\n",
    "        f\"Input is: topic{chosen_topic}, paper structure + tips and starting points + research gap {chosen_gap}  + related work.\",\n",
    "        \"Use them to generate a coherent draft of the academic paper.\",\n",
    "        \"Output in well-organized academic format (Intro, Method, etc.).\"\n",
    "    ]),\n",
    "    expected_output=\"String containing the full paper draft.\",\n",
    "    output_json=DraftOutput,\n",
    "    output_file=os.path.join(output_dir, \"step_7_paper_draft.json\"),\n",
    "    agent=draft_writer_agent,\n",
    ")"
   ]
  },
  {
   "cell_type": "code",
   "execution_count": null,
   "id": "4f1891ed",
   "metadata": {},
   "outputs": [],
   "source": []
  },
  {
   "cell_type": "markdown",
   "id": "6840ce62",
   "metadata": {},
   "source": [
    "### `8.5 Phase 2`: Continue with remaining tasks\n"
   ]
  },
  {
   "cell_type": "code",
   "execution_count": 33,
   "metadata": {},
   "outputs": [
    {
     "name": "stdout",
     "output_type": "stream",
     "text": [
      "\u001b[1m\u001b[95m# Agent:\u001b[00m \u001b[1m\u001b[92mResearch Gap Identification and Suggestion Agent\u001b[00m\n",
      "\u001b[95m## Task:\u001b[00m \u001b[92mInput: the chosen research gap Current linear attention mechanisms often sacrifice some accuracy for efficiency in the topic Efficient Transformers for Long Sequences .\n",
      "Output: a structured list of specific research steps with detailed tips for each step.\n",
      "Goal: help beginners understand what to do first, what resources to use, and how to progress in a steps.\u001b[00m\n",
      "\n",
      "\n",
      "\u001b[1m\u001b[95m# Agent:\u001b[00m \u001b[1m\u001b[92mResearch Gap Identification and Suggestion Agent\u001b[00m\n",
      "\u001b[95m## Final Answer:\u001b[00m \u001b[92m\n",
      "{\n",
      "  \"research_steps\": [\n",
      "    {\n",
      "      \"section\": \"1. Literature Review: Deep Dive into Existing Efficient Transformers\",\n",
      "      \"tips\": \"Begin by thoroughly reviewing papers on efficient Transformers for long sequences. Focus on understanding the trade-offs made between accuracy and efficiency in different architectures (e.g., Linformer, Performer, Reformer).  Identify the specific accuracy losses associated with each method.  Pay close attention to the datasets and evaluation metrics used.  Good resources include arXiv (search for 'efficient transformers long sequences'), paperswithcode.com, and Google Scholar.  Keep a detailed log of your findings, noting the strengths and weaknesses of each approach.  This will form the foundation of your gap analysis.\"\n",
      "    },\n",
      "    {\n",
      "      \"section\": \"2. Gap Analysis: Pinpointing the Accuracy Bottleneck\",\n",
      "      \"tips\": \"Based on your literature review, precisely define the accuracy limitations of current efficient Transformers.  Is it due to information loss during the attention mechanism?  Is it related to specific types of sequences or tasks?  Quantify the accuracy loss whenever possible.  For example, you might state: 'Existing methods X and Y achieve a 5% lower accuracy on sequence length Z compared to the standard Transformer.'  This precise quantification is crucial for justifying your research.\"\n",
      "    },\n",
      "    {\n",
      "      \"section\": \"3. Hypothesis Formulation: Proposing a Solution\",\n",
      "      \"tips\": \"Based on your gap analysis, formulate a clear hypothesis about how to improve the accuracy of efficient Transformers without significantly compromising efficiency.  This could involve modifying existing attention mechanisms, introducing novel attention mechanisms, or developing new training techniques.  Be specific and testable.  For example: 'By incorporating technique A into method X, we hypothesize a 2% increase in accuracy on sequence length Z with minimal increase in computational cost.'  This hypothesis will guide your research.\"\n",
      "    },\n",
      "    {\n",
      "      \"section\": \"4. Methodology: Designing Experiments\",\n",
      "      \"tips\": \"Design experiments to test your hypothesis.  Choose appropriate datasets (consider using standard benchmarks like GLUE, SQUAD, or long-sequence specific datasets).  Define clear evaluation metrics (e.g., accuracy, F1-score, perplexity, inference speed).  Consider using ablation studies to isolate the impact of your proposed changes.  Plan your experiments carefully to ensure reproducibility and statistical significance.  Consider using tools like PyTorch or TensorFlow for implementation.\"\n",
      "    },\n",
      "    {\n",
      "      \"section\": \"5. Implementation: Building and Testing your Model\",\n",
      "      \"tips\": \"Implement your proposed solution.  Start with a baseline model (one of the efficient Transformers from your literature review).  Carefully implement your modifications.  Use version control (e.g., Git) to track your changes.  Thoroughly test your model on your chosen datasets and metrics.  Document your code and experimental setup meticulously.\"\n",
      "    },\n",
      "    {\n",
      "      \"section\": \"6. Results and Analysis: Interpreting your Findings\",\n",
      "      \"tips\": \"Analyze your experimental results.  Compare the performance of your improved model to the baseline model and other state-of-the-art methods.  Use statistical tests (e.g., t-tests) to determine the significance of your findings.  Discuss any unexpected results.  Visualize your results clearly using graphs and tables.  This section is crucial for demonstrating the impact of your research.\"\n",
      "    },\n",
      "    {\n",
      "      \"section\": \"7. Conclusion and Future Work:  Looking Ahead\",\n",
      "      \"tips\": \"Summarize your findings and discuss their implications.  Highlight the contributions of your research.  Suggest directions for future work.  This could include exploring different datasets, investigating other types of attention mechanisms, or addressing limitations of your approach.  This section shows the broader impact and potential of your work.\"\n",
      "    }\n",
      "  ]\n",
      "}\u001b[00m\n",
      "\n",
      "\n",
      "\u001b[1m\u001b[95m# Agent:\u001b[00m \u001b[1m\u001b[92mPaper Structure and Writing Guide Agent\u001b[00m\n",
      "\u001b[95m## Task:\u001b[00m \u001b[92mInput: List of research steps (sections with tips) from a research gap agent.\n",
      "Output: Structured academic paper outline based on those steps.\n",
      "Include tips for writing each section clearly and effectively.\n",
      "Make it easy to follow for someone new to academic writing.\u001b[00m\n",
      "\n",
      "\n",
      "\u001b[1m\u001b[95m# Agent:\u001b[00m \u001b[1m\u001b[92mPaper Structure and Writing Guide Agent\u001b[00m\n",
      "\u001b[95m## Final Answer:\u001b[00m \u001b[92m\n",
      "{\n",
      "  \"paper_structure\": [\n",
      "    {\n",
      "      \"section\": \"1. Introduction\",\n",
      "      \"tips\": \"Start with a brief overview of efficient Transformers and their importance for processing long sequences.  Clearly state the problem of accuracy loss in existing efficient Transformer models.  Then, concisely present your proposed solution and its potential benefits.  End with a brief outline of the paper's structure. Keep it concise and engaging to hook the reader.\"\n",
      "    },\n",
      "    {\n",
      "      \"section\": \"2. Literature Review: Deep Dive into Existing Efficient Transformers\",\n",
      "      \"tips\": \"Begin by thoroughly reviewing papers on efficient Transformers for long sequences. Focus on understanding the trade-offs made between accuracy and efficiency in different architectures (e.g., Linformer, Performer, Reformer).  Identify the specific accuracy losses associated with each method.  Pay close attention to the datasets and evaluation metrics used.  Good resources include arXiv (search for 'efficient transformers long sequences'), paperswithcode.com, and Google Scholar.  Keep a detailed log of your findings, noting the strengths and weaknesses of each approach.  This will form the foundation of your gap analysis.  Structure this section thematically, grouping similar approaches together and comparing them effectively. Use tables to summarize key characteristics and performance metrics of different models.\"\n",
      "    },\n",
      "    {\n",
      "      \"section\": \"3. Gap Analysis: Pinpointing the Accuracy Bottleneck\",\n",
      "      \"tips\": \"Based on your literature review, precisely define the accuracy limitations of current efficient Transformers.  Is it due to information loss during the attention mechanism?  Is it related to specific types of sequences or tasks?  Quantify the accuracy loss whenever possible.  For example, you might state: 'Existing methods X and Y achieve a 5% lower accuracy on sequence length Z compared to the standard Transformer.'  This precise quantification is crucial for justifying your research. Use clear and concise language, avoiding jargon where possible. Support your claims with evidence from the literature review.\"\n",
      "    },\n",
      "    {\n",
      "      \"section\": \"4. Hypothesis Formulation: Proposing a Solution\",\n",
      "      \"tips\": \"Based on your gap analysis, formulate a clear hypothesis about how to improve the accuracy of efficient Transformers without significantly compromising efficiency.  This could involve modifying existing attention mechanisms, introducing novel attention mechanisms, or developing new training techniques.  Be specific and testable.  For example: 'By incorporating technique A into method X, we hypothesize a 2% increase in accuracy on sequence length Z with minimal increase in computational cost.'  This hypothesis will guide your research. Clearly state your hypothesis and explain the rationale behind it.  This section should directly connect to the gap identified in the previous section.\"\n",
      "    },\n",
      "    {\n",
      "      \"section\": \"5. Methodology: Designing Experiments\",\n",
      "      \"tips\": \"Design experiments to test your hypothesis.  Choose appropriate datasets (consider using standard benchmarks like GLUE, SQUAD, or long-sequence specific datasets).  Define clear evaluation metrics (e.g., accuracy, F1-score, perplexity, inference speed).  Consider using ablation studies to isolate the impact of your proposed changes.  Plan your experiments carefully to ensure reproducibility and statistical significance.  Consider using tools like PyTorch or TensorFlow for implementation.  Describe your experimental setup in detail, including the datasets, evaluation metrics, and any preprocessing steps.  Clearly explain your choice of baseline model and any hyperparameter settings.\"\n",
      "    },\n",
      "    {\n",
      "      \"section\": \"6. Implementation Details\",\n",
      "      \"tips\": \"Provide details about your model architecture, including any modifications you made to existing efficient Transformers.  Explain the implementation choices you made, such as specific libraries or frameworks used.  This section should be detailed enough for another researcher to reproduce your results.  Use diagrams or figures to illustrate the architecture of your model if necessary.  Include code snippets if appropriate, but avoid overwhelming the reader with excessive code.\"\n",
      "    },\n",
      "    {\n",
      "      \"section\": \"7. Results and Analysis: Interpreting your Findings\",\n",
      "      \"tips\": \"Analyze your experimental results.  Compare the performance of your improved model to the baseline model and other state-of-the-art methods.  Use statistical tests (e.g., t-tests) to determine the significance of your findings.  Discuss any unexpected results.  Visualize your results clearly using graphs and tables.  This section is crucial for demonstrating the impact of your research.  Present your results clearly and concisely using tables and figures.  Use statistical tests to determine the significance of your findings and report the p-values.  Discuss any limitations of your experiments and potential sources of error.\"\n",
      "    },\n",
      "    {\n",
      "      \"section\": \"8. Conclusion and Future Work:  Looking Ahead\",\n",
      "      \"tips\": \"Summarize your findings and discuss their implications.  Highlight the contributions of your research.  Suggest directions for future work.  This could include exploring different datasets, investigating other types of attention mechanisms, or addressing limitations of your approach.  This section shows the broader impact and potential of your work.  Restate your main findings and their significance.  Discuss the limitations of your work and suggest avenues for future research.  End with a strong concluding statement that summarizes the overall impact of your research.\"\n",
      "    },\n",
      "    {\n",
      "      \"section\": \"References\",\n",
      "      \"tips\": \"List all cited works in a consistent format (e.g., APA, MLA).  Accuracy and consistency are crucial here. Use a citation manager (like Zotero or Mendeley) to help maintain accuracy and consistency.\"\n",
      "    }\n",
      "  ]\n",
      "}\u001b[00m\n",
      "\n",
      "\n",
      "\u001b[1m\u001b[95m# Agent:\u001b[00m \u001b[1m\u001b[92mRelated Work Composer Agent\u001b[00m\n",
      "\u001b[95m## Task:\u001b[00m \u001b[92mInput: list of paper summaries about {chosen_topic} in a {chosen_gap}.\n",
      "Group the papers realated from the recent paper agent and write a clear Related Work section.\n",
      "Use academic tone, smooth transitions, and citation style.\n",
      "Output a single string.\u001b[00m\n",
      "\n",
      "\n",
      "\u001b[1m\u001b[95m# Agent:\u001b[00m \u001b[1m\u001b[92mRelated Work Composer Agent\u001b[00m\n",
      "\u001b[95m## Final Answer:\u001b[00m \u001b[92m\n",
      "{\n",
      "  \"related_work\": \"Several recent works have addressed the challenge of efficiently processing long sequences with Transformers.  Early approaches like the Linformer (Wang et al., 2020) and Performer (Choromanski et al., 2020) focused on reducing the quadratic complexity of self-attention by approximating the attention matrix.  Linformer achieves this through low-rank factorization, projecting the key and value matrices into lower-dimensional spaces, thus reducing computational cost.  However, this projection can lead to information loss, resulting in accuracy degradation on longer sequences.  Performer, on the other hand, utilizes a fast kernel approximation based on orthogonal random features, offering a more efficient alternative.  Despite its speed advantage, Performer's accuracy can still be suboptimal compared to the standard Transformer, particularly for complex tasks.  The Reformer (Kitaev et al., 2020) employs locality-sensitive hashing to reduce the computational complexity of attention, enabling the processing of longer sequences.  However, the hashing process introduces approximation errors that can affect the model's performance.  These methods, while significantly improving efficiency, often compromise accuracy, particularly for longer sequences.  This trade-off between efficiency and accuracy motivates our research to explore novel techniques that mitigate the accuracy loss inherent in these efficient Transformer architectures.  Further research into attention mechanisms has explored alternative approaches such as sparse attention (Child et al., 2019), which focuses on attending only to a subset of the most relevant tokens, thereby reducing computational complexity.  However, selecting the relevant tokens effectively remains a challenge.  Our work builds upon these existing efforts by [Clearly state your approach and how it addresses the limitations of previous work].  We aim to improve the accuracy of efficient Transformers without significantly increasing computational cost, addressing the identified gap in the literature.\"\n",
      "}\u001b[00m\n",
      "\n",
      "\n",
      "\u001b[1m\u001b[95m# Agent:\u001b[00m \u001b[1m\u001b[92mAcademic Paper Drafting Agent\u001b[00m\n",
      "\u001b[95m## Task:\u001b[00m \u001b[92mInput is: topicEfficient Transformers for Long Sequences, paper structure + tips and starting points + research gap Current linear attention mechanisms often sacrifice some accuracy for efficiency  + related work.\n",
      "Use them to generate a coherent draft of the academic paper.\n",
      "Output in well-organized academic format (Intro, Method, etc.).\u001b[00m\n",
      "\n",
      "\n",
      "\u001b[1m\u001b[95m# Agent:\u001b[00m \u001b[1m\u001b[92mAcademic Paper Drafting Agent\u001b[00m\n",
      "\u001b[95m## Final Answer:\u001b[00m \u001b[92m\n",
      "{\n",
      "  \"draft\": \"## Efficient Transformers for Long Sequences: Mitigating Accuracy Loss in Linear Attention Mechanisms\\n\\n**1. Introduction**\\n\\nTransformer networks have revolutionized natural language processing, achieving state-of-the-art results on various tasks. However, their quadratic complexity with respect to sequence length limits their applicability to long sequences.  Efficient Transformer architectures have emerged to address this limitation, employing linear attention mechanisms to reduce computational cost.  While these methods significantly improve efficiency, they often sacrifice accuracy, particularly for longer sequences. This paper investigates this accuracy-efficiency trade-off, focusing on the limitations of current linear attention mechanisms and proposing a novel approach to mitigate the accuracy loss without significantly compromising efficiency.  We introduce [briefly describe your proposed method, e.g., a novel attention mechanism or a training technique], demonstrating its effectiveness through rigorous experimentation on benchmark datasets.\\n\\nThis paper is structured as follows: Section 2 reviews existing efficient Transformer architectures. Section 3 analyzes the accuracy limitations of these methods. Section 4 presents our proposed solution and hypothesis. Section 5 details our experimental methodology. Section 6 presents the implementation details. Section 7 analyzes the results, and Section 8 concludes with a discussion of future work.\\n\\n**2. Literature Review: Existing Efficient Transformers**\\n\\nSeveral approaches have been proposed to improve the efficiency of Transformers for long sequences.  Linformer (Wang et al., 2020) employs low-rank matrix factorization to reduce the complexity of self-attention.  This projection, however, can lead to information loss, resulting in accuracy degradation, especially for longer sequences.  Performer (Choromanski et al., 2020) utilizes a fast kernel approximation based on orthogonal random features, offering a speed advantage but potentially sacrificing accuracy on complex tasks.  The Reformer (Kitaev et al., 2020) employs locality-sensitive hashing to reduce computational complexity, but the hashing process introduces approximation errors that can affect performance.  Other methods, such as those employing sparse attention (Child et al., 2019), focus on attending only to a subset of the most relevant tokens.  However, effectively selecting these tokens remains a challenge.  Table 1 summarizes the key characteristics and performance of these methods, highlighting their trade-offs between efficiency and accuracy.\\n\\n[Insert Table 1 here:  A table comparing Linformer, Performer, Reformer, and other relevant methods, including their attention mechanism, computational complexity, and reported accuracy on benchmark datasets.]\\n\\n**3. Gap Analysis: Accuracy Bottleneck in Linear Attention**\\n\\nThe literature review reveals a consistent trade-off: increased efficiency often comes at the cost of reduced accuracy, particularly when dealing with long sequences.  Existing linear attention mechanisms, while efficient, often suffer from information loss during the attention process.  This loss is particularly pronounced when dealing with long-range dependencies within the sequence.  For instance, [cite specific papers and quantify the accuracy loss observed in those papers, e.g.,  'Linformer exhibits a 5% accuracy drop compared to the standard Transformer on the GLUE benchmark with sequences longer than 1024 tokens'].  This suggests that the approximation techniques employed by these methods are not always sufficient to capture the intricate relationships within long sequences, leading to performance degradation.\\n\\n**4. Hypothesis Formulation: Proposed Solution**\\n\\nBased on the observed limitations of existing efficient Transformers, we hypothesize that [clearly state your hypothesis, e.g., 'incorporating a novel attention mechanism based on [describe your mechanism] into the Linformer architecture will improve accuracy by at least 2% on sequences longer than 1024 tokens while maintaining comparable efficiency to the original Linformer'].  Our proposed solution addresses the information loss problem by [explain how your method addresses the information loss, e.g., 'preserving more information during the attention process through [explain your technique]'].  This approach aims to strike a better balance between efficiency and accuracy.\\n\\n**5. Methodology: Experimental Design**\\n\\nTo test our hypothesis, we conduct experiments on [mention the datasets used, e.g.,  the GLUE benchmark and a long-sequence specific dataset].  We use [mention the evaluation metrics, e.g., accuracy, F1-score, and inference speed] to evaluate the performance of our model.  We compare our proposed method against the standard Transformer and several efficient Transformer baselines (Linformer, Performer, Reformer).  We perform ablation studies to isolate the impact of different components of our proposed method.  All experiments are conducted using [mention the framework used, e.g., PyTorch] and are repeated five times to ensure statistical significance.  Hyperparameters are tuned using [mention the hyperparameter tuning method, e.g., grid search] to optimize performance.\\n\\n**6. Implementation Details**\\n\\n[Describe the implementation details of your model.  Include details about the architecture, any modifications made to existing models, libraries used, and any specific implementation choices.  Use diagrams or figures to illustrate the architecture if necessary.  Include relevant code snippets if appropriate, but avoid overwhelming the reader with excessive code.]\\n\\n**7. Results and Analysis**\\n\\n[Present your results clearly and concisely using tables and figures.  Compare the performance of your model to the baseline models and other state-of-the-art methods.  Use statistical tests (e.g., t-tests) to determine the significance of your findings and report the p-values.  Discuss any unexpected results and potential sources of error.  Analyze the results in detail, relating them back to your hypothesis and the gap analysis.]\\n\\n**8. Conclusion and Future Work**\\n\\nThis paper presented [briefly restate your contribution].  Our results demonstrate that [summarize your key findings and their significance].  The proposed method effectively mitigates the accuracy loss observed in existing efficient Transformer architectures, achieving a better balance between efficiency and accuracy.  Future work could explore [suggest directions for future research, e.g.,  applying the proposed method to different tasks, investigating other types of attention mechanisms, or exploring different training techniques].\\n\\n**References**\\n\\n[List all cited works in a consistent format (e.g., APA, MLA)]\"\n",
      "}\u001b[00m\n",
      "\n",
      "\n"
     ]
    },
    {
     "name": "stderr",
     "output_type": "stream",
     "text": [
      "🖇 AgentOps: \u001b[34m\u001b[34mSession Replay for default.session trace: https://app.agentops.ai/sessions?trace_id=da4a60d6b4d030cc01a1b4f38aac84cd\u001b[0m\u001b[0m\n"
     ]
    },
    {
     "name": "stdout",
     "output_type": "stream",
     "text": [
      "{'draft': \"## Efficient Transformers for Long Sequences: Mitigating Accuracy Loss in Linear Attention Mechanisms\\n\\n**1. Introduction**\\n\\nTransformer networks have revolutionized natural language processing, achieving state-of-the-art results on various tasks. However, their quadratic complexity with respect to sequence length limits their applicability to long sequences.  Efficient Transformer architectures have emerged to address this limitation, employing linear attention mechanisms to reduce computational cost.  While these methods significantly improve efficiency, they often sacrifice accuracy, particularly for longer sequences. This paper investigates this accuracy-efficiency trade-off, focusing on the limitations of current linear attention mechanisms and proposing a novel approach to mitigate the accuracy loss without significantly compromising efficiency.  We introduce [briefly describe your proposed method, e.g., a novel attention mechanism or a training technique], demonstrating its effectiveness through rigorous experimentation on benchmark datasets.\\n\\nThis paper is structured as follows: Section 2 reviews existing efficient Transformer architectures. Section 3 analyzes the accuracy limitations of these methods. Section 4 presents our proposed solution and hypothesis. Section 5 details our experimental methodology. Section 6 presents the implementation details. Section 7 analyzes the results, and Section 8 concludes with a discussion of future work.\\n\\n**2. Literature Review: Existing Efficient Transformers**\\n\\nSeveral approaches have been proposed to improve the efficiency of Transformers for long sequences.  Linformer (Wang et al., 2020) employs low-rank matrix factorization to reduce the complexity of self-attention.  This projection, however, can lead to information loss, resulting in accuracy degradation, especially for longer sequences.  Performer (Choromanski et al., 2020) utilizes a fast kernel approximation based on orthogonal random features, offering a speed advantage but potentially sacrificing accuracy on complex tasks.  The Reformer (Kitaev et al., 2020) employs locality-sensitive hashing to reduce computational complexity, but the hashing process introduces approximation errors that can affect performance.  Other methods, such as those employing sparse attention (Child et al., 2019), focus on attending only to a subset of the most relevant tokens.  However, effectively selecting these tokens remains a challenge.  Table 1 summarizes the key characteristics and performance of these methods, highlighting their trade-offs between efficiency and accuracy.\\n\\n[Insert Table 1 here:  A table comparing Linformer, Performer, Reformer, and other relevant methods, including their attention mechanism, computational complexity, and reported accuracy on benchmark datasets.]\\n\\n**3. Gap Analysis: Accuracy Bottleneck in Linear Attention**\\n\\nThe literature review reveals a consistent trade-off: increased efficiency often comes at the cost of reduced accuracy, particularly when dealing with long sequences.  Existing linear attention mechanisms, while efficient, often suffer from information loss during the attention process.  This loss is particularly pronounced when dealing with long-range dependencies within the sequence.  For instance, [cite specific papers and quantify the accuracy loss observed in those papers, e.g.,  'Linformer exhibits a 5% accuracy drop compared to the standard Transformer on the GLUE benchmark with sequences longer than 1024 tokens'].  This suggests that the approximation techniques employed by these methods are not always sufficient to capture the intricate relationships within long sequences, leading to performance degradation.\\n\\n**4. Hypothesis Formulation: Proposed Solution**\\n\\nBased on the observed limitations of existing efficient Transformers, we hypothesize that [clearly state your hypothesis, e.g., 'incorporating a novel attention mechanism based on [describe your mechanism] into the Linformer architecture will improve accuracy by at least 2% on sequences longer than 1024 tokens while maintaining comparable efficiency to the original Linformer'].  Our proposed solution addresses the information loss problem by [explain how your method addresses the information loss, e.g., 'preserving more information during the attention process through [explain your technique]'].  This approach aims to strike a better balance between efficiency and accuracy.\\n\\n**5. Methodology: Experimental Design**\\n\\nTo test our hypothesis, we conduct experiments on [mention the datasets used, e.g.,  the GLUE benchmark and a long-sequence specific dataset].  We use [mention the evaluation metrics, e.g., accuracy, F1-score, and inference speed] to evaluate the performance of our model.  We compare our proposed method against the standard Transformer and several efficient Transformer baselines (Linformer, Performer, Reformer).  We perform ablation studies to isolate the impact of different components of our proposed method.  All experiments are conducted using [mention the framework used, e.g., PyTorch] and are repeated five times to ensure statistical significance.  Hyperparameters are tuned using [mention the hyperparameter tuning method, e.g., grid search] to optimize performance.\\n\\n**6. Implementation Details**\\n\\n[Describe the implementation details of your model.  Include details about the architecture, any modifications made to existing models, libraries used, and any specific implementation choices.  Use diagrams or figures to illustrate the architecture if necessary.  Include relevant code snippets if appropriate, but avoid overwhelming the reader with excessive code.]\\n\\n**7. Results and Analysis**\\n\\n[Present your results clearly and concisely using tables and figures.  Compare the performance of your model to the baseline models and other state-of-the-art methods.  Use statistical tests (e.g., t-tests) to determine the significance of your findings and report the p-values.  Discuss any unexpected results and potential sources of error.  Analyze the results in detail, relating them back to your hypothesis and the gap analysis.]\\n\\n**8. Conclusion and Future Work**\\n\\nThis paper presented [briefly restate your contribution].  Our results demonstrate that [summarize your key findings and their significance].  The proposed method effectively mitigates the accuracy loss observed in existing efficient Transformer architectures, achieving a better balance between efficiency and accuracy.  Future work could explore [suggest directions for future research, e.g.,  applying the proposed method to different tasks, investigating other types of attention mechanisms, or exploring different training techniques].\\n\\n**References**\\n\\n[List all cited works in a consistent format (e.g., APA, MLA)]\"}\n"
     ]
    }
   ],
   "source": [
    "# Phase 2: Continue with remaining tasks\n",
    "second_crew = Crew(\n",
    "    name=\"PublishMate Crew - Phase 2\",\n",
    "    description=\"Suggest research starting points based on user-selected gap/topic.\",\n",
    "    agents=[\n",
    "        research_starting_points_agent,\n",
    "        paper_structure_agent,\n",
    "        related_work_agent,\n",
    "        draft_writer_agent\n",
    "    ],\n",
    "    tasks=[\n",
    "        research_starting_points_task,\n",
    "        paper_structure_task,\n",
    "        related_work_task,\n",
    "        draft_writer_task\n",
    "    ],\n",
    ")\n",
    "\n",
    "second_result = second_crew.kickoff()\n",
    "print(second_result)\n"
   ]
  },
  {
   "cell_type": "code",
   "execution_count": null,
   "metadata": {},
   "outputs": [],
   "source": []
  },
  {
   "cell_type": "code",
   "execution_count": null,
   "id": "5899fa9f",
   "metadata": {},
   "outputs": [],
   "source": []
  },
  {
   "cell_type": "markdown",
   "id": "6f8d4ea5",
   "metadata": {},
   "source": [
    "## Additionals Agents:"
   ]
  },
  {
   "cell_type": "markdown",
   "id": "c8314e94",
   "metadata": {},
   "source": [
    "### Paper Summarization Agent (optional)"
   ]
  },
  {
   "cell_type": "code",
   "execution_count": 37,
   "id": "8405acbc",
   "metadata": {},
   "outputs": [],
   "source": [
    "# class PaperSummariesOutput(BaseModel):\n",
    "#     summaries: Dict[str, str] = Field(\n",
    "#         ..., \n",
    "#         title=\"Paper title mapped to its summary\", \n",
    "#         description=\"Each item has 'title' and 'summary'.\"\n",
    "#     )\n",
    "\n",
    "# paper_summarization_agent = Agent(\n",
    "#     role=\"Academic Paper Summarization Agent\",\n",
    "#     goal=\"\\n\".join([\n",
    "#         \"Summarize each research paper into a detailed 120-150 word paragraph.\",\n",
    "#         \"Mention the full paper title before the summary.\",\n",
    "#         \"Focus on: main research problem, methodology, key findings, unique contributions.\",\n",
    "#         \"Highlight any datasets, models, or diagrams used (in the paper).\",\n",
    "#         \"Avoid generic descriptions. Be specific about what the paper achieves.\"\n",
    "#     ]),\n",
    "#     backstory=\"Provides clear and informative summaries to help users understand research papers quickly even if they are beginners.\",\n",
    "#     llm=basic_llm,\n",
    "#     verbose=True,\n",
    "# )\n",
    "\n",
    "# paper_summarization_task = Task(\n",
    "#     description=\"\\n\".join([\n",
    "#         \"Input is a list of papers with metadata and abstracts.\",\n",
    "#         \"Produce a summary for each paper highlighting key points and visuals if any.\",\n",
    "#         \"Output JSON mapping paper titles to summaries.\"\n",
    "#     ]),\n",
    "#     expected_output=\"JSON object mapping paper titles to summaries.\",\n",
    "#     output_json=PaperSummariesOutput,\n",
    "#     output_file=os.path.join(output_dir, \"step_3_paper_summaries.json\"),\n",
    "#     agent=paper_summarization_agent,\n",
    "# )\n"
   ]
  },
  {
   "cell_type": "code",
   "execution_count": null,
   "id": "c643385a",
   "metadata": {},
   "outputs": [],
   "source": []
  }
 ],
 "metadata": {
  "kernelspec": {
   "display_name": "myenv",
   "language": "python",
   "name": "python3"
  },
  "language_info": {
   "codemirror_mode": {
    "name": "ipython",
    "version": 3
   },
   "file_extension": ".py",
   "mimetype": "text/x-python",
   "name": "python",
   "nbconvert_exporter": "python",
   "pygments_lexer": "ipython3",
   "version": "3.10.12"
  }
 },
 "nbformat": 4,
 "nbformat_minor": 5
}
